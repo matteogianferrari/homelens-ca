{
  "nbformat": 4,
  "nbformat_minor": 0,
  "metadata": {
    "colab": {
      "provenance": [],
      "gpuType": "A100",
      "authorship_tag": "ABX9TyNkogmaiWrd1LpLPVrLJX0o",
      "include_colab_link": true
    },
    "kernelspec": {
      "name": "python3",
      "display_name": "Python 3"
    },
    "language_info": {
      "name": "python"
    },
    "accelerator": "GPU"
  },
  "cells": [
    {
      "cell_type": "markdown",
      "metadata": {
        "id": "view-in-github",
        "colab_type": "text"
      },
      "source": [
        "<a href=\"https://colab.research.google.com/github/matteogianferrari/homelens-ca/blob/main/model/notebooks/homelens_ca_research.ipynb\" target=\"_parent\"><img src=\"https://colab.research.google.com/assets/colab-badge.svg\" alt=\"Open In Colab\"/></a>"
      ]
    },
    {
      "cell_type": "markdown",
      "source": [
        "# **HomeLens CA DL Model Research**"
      ],
      "metadata": {
        "id": "bIDyq4523mkv"
      }
    },
    {
      "cell_type": "markdown",
      "source": [
        "# **Setup**\n"
      ],
      "metadata": {
        "id": "bjx48x_Z0QWz"
      }
    },
    {
      "cell_type": "markdown",
      "source": [
        "---\n",
        "**OS Environment Variables**"
      ],
      "metadata": {
        "id": "qzmvlJYKyl5v"
      }
    },
    {
      "cell_type": "code",
      "source": [
        "from google.colab import userdata\n",
        "import os\n",
        "\n",
        "# Sets environ variables for GitHub\n",
        "os.environ['GITHUB_TOKEN'] = userdata.get('GITHUB_TOKEN')\n",
        "os.environ['USER'] = userdata.get('USER')\n",
        "\n",
        "# Sets environ variables for MLFlow\n",
        "os.environ['MLFLOW_TRACKING_USERNAME'] = userdata.get('USER')\n",
        "os.environ['MLFLOW_TRACKING_PASSWORD'] = userdata.get('MLFLOW_TRACKING_PASSWORD')"
      ],
      "metadata": {
        "id": "6yOjWgaQyokK"
      },
      "execution_count": 1,
      "outputs": []
    },
    {
      "cell_type": "markdown",
      "source": [
        "---\n",
        "**Libraries Install**"
      ],
      "metadata": {
        "id": "n8utjnot0X7d"
      }
    },
    {
      "cell_type": "code",
      "source": [
        "!pip install dagshub mlflow pynvml --quiet"
      ],
      "metadata": {
        "colab": {
          "base_uri": "https://localhost:8080/"
        },
        "id": "UtbttSVo0fzI",
        "outputId": "a62950b2-134a-412b-a0fc-22a624f3db77"
      },
      "execution_count": 2,
      "outputs": [
        {
          "output_type": "stream",
          "name": "stdout",
          "text": [
            "\u001b[2K   \u001b[90m━━━━━━━━━━━━━━━━━━━━━━━━━━━━━━━━━━━━━━━━\u001b[0m \u001b[32m258.2/258.2 kB\u001b[0m \u001b[31m11.4 MB/s\u001b[0m eta \u001b[36m0:00:00\u001b[0m\n",
            "\u001b[2K   \u001b[90m━━━━━━━━━━━━━━━━━━━━━━━━━━━━━━━━━━━━━━━━\u001b[0m \u001b[32m28.3/28.3 MB\u001b[0m \u001b[31m75.7 MB/s\u001b[0m eta \u001b[36m0:00:00\u001b[0m\n",
            "\u001b[2K   \u001b[90m━━━━━━━━━━━━━━━━━━━━━━━━━━━━━━━━━━━━━━━━\u001b[0m \u001b[32m6.0/6.0 MB\u001b[0m \u001b[31m118.1 MB/s\u001b[0m eta \u001b[36m0:00:00\u001b[0m\n",
            "\u001b[2K   \u001b[90m━━━━━━━━━━━━━━━━━━━━━━━━━━━━━━━━━━━━━━━━\u001b[0m \u001b[32m233.6/233.6 kB\u001b[0m \u001b[31m24.4 MB/s\u001b[0m eta \u001b[36m0:00:00\u001b[0m\n",
            "\u001b[2K   \u001b[90m━━━━━━━━━━━━━━━━━━━━━━━━━━━━━━━━━━━━━━━━\u001b[0m \u001b[32m147.8/147.8 kB\u001b[0m \u001b[31m16.4 MB/s\u001b[0m eta \u001b[36m0:00:00\u001b[0m\n",
            "\u001b[2K   \u001b[90m━━━━━━━━━━━━━━━━━━━━━━━━━━━━━━━━━━━━━━━━\u001b[0m \u001b[32m114.9/114.9 kB\u001b[0m \u001b[31m12.9 MB/s\u001b[0m eta \u001b[36m0:00:00\u001b[0m\n",
            "\u001b[2K   \u001b[90m━━━━━━━━━━━━━━━━━━━━━━━━━━━━━━━━━━━━━━━━\u001b[0m \u001b[32m85.0/85.0 kB\u001b[0m \u001b[31m8.6 MB/s\u001b[0m eta \u001b[36m0:00:00\u001b[0m\n",
            "\u001b[2K   \u001b[90m━━━━━━━━━━━━━━━━━━━━━━━━━━━━━━━━━━━━━━━━\u001b[0m \u001b[32m40.5/40.5 kB\u001b[0m \u001b[31m4.1 MB/s\u001b[0m eta \u001b[36m0:00:00\u001b[0m\n",
            "\u001b[2K   \u001b[90m━━━━━━━━━━━━━━━━━━━━━━━━━━━━━━━━━━━━━━━━\u001b[0m \u001b[32m139.2/139.2 kB\u001b[0m \u001b[31m15.2 MB/s\u001b[0m eta \u001b[36m0:00:00\u001b[0m\n",
            "\u001b[2K   \u001b[90m━━━━━━━━━━━━━━━━━━━━━━━━━━━━━━━━━━━━━━━━\u001b[0m \u001b[32m13.3/13.3 MB\u001b[0m \u001b[31m115.7 MB/s\u001b[0m eta \u001b[36m0:00:00\u001b[0m\n",
            "\u001b[2K   \u001b[90m━━━━━━━━━━━━━━━━━━━━━━━━━━━━━━━━━━━━━━━━\u001b[0m \u001b[32m637.5/637.5 kB\u001b[0m \u001b[31m43.7 MB/s\u001b[0m eta \u001b[36m0:00:00\u001b[0m\n",
            "\u001b[2K   \u001b[90m━━━━━━━━━━━━━━━━━━━━━━━━━━━━━━━━━━━━━━━━\u001b[0m \u001b[32m203.2/203.2 kB\u001b[0m \u001b[31m21.6 MB/s\u001b[0m eta \u001b[36m0:00:00\u001b[0m\n",
            "\u001b[2K   \u001b[90m━━━━━━━━━━━━━━━━━━━━━━━━━━━━━━━━━━━━━━━━\u001b[0m \u001b[32m50.8/50.8 kB\u001b[0m \u001b[31m5.2 MB/s\u001b[0m eta \u001b[36m0:00:00\u001b[0m\n",
            "\u001b[2K   \u001b[90m━━━━━━━━━━━━━━━━━━━━━━━━━━━━━━━━━━━━━━━━\u001b[0m \u001b[32m84.1/84.1 kB\u001b[0m \u001b[31m9.1 MB/s\u001b[0m eta \u001b[36m0:00:00\u001b[0m\n",
            "\u001b[2K   \u001b[90m━━━━━━━━━━━━━━━━━━━━━━━━━━━━━━━━━━━━━━━━\u001b[0m \u001b[32m74.0/74.0 kB\u001b[0m \u001b[31m8.3 MB/s\u001b[0m eta \u001b[36m0:00:00\u001b[0m\n",
            "\u001b[2K   \u001b[90m━━━━━━━━━━━━━━━━━━━━━━━━━━━━━━━━━━━━━━━━\u001b[0m \u001b[32m78.6/78.6 kB\u001b[0m \u001b[31m8.5 MB/s\u001b[0m eta \u001b[36m0:00:00\u001b[0m\n",
            "\u001b[?25h"
          ]
        }
      ]
    },
    {
      "cell_type": "markdown",
      "source": [
        "---\n",
        "**Libraries imports**"
      ],
      "metadata": {
        "id": "hbCQRwIm0nIS"
      }
    },
    {
      "cell_type": "code",
      "source": [
        "import tensorflow as tf\n",
        "\n",
        "import mlflow\n",
        "from mlflow.tracking import MlflowClient\n",
        "\n",
        "import dagshub\n",
        "\n",
        "import pandas as pd\n",
        "import numpy as np\n",
        "\n",
        "from sklearn.model_selection import train_test_split"
      ],
      "metadata": {
        "id": "YqlzA9ke0oT2"
      },
      "execution_count": 3,
      "outputs": []
    },
    {
      "cell_type": "markdown",
      "source": [
        "---\n",
        "**Dataset import**"
      ],
      "metadata": {
        "id": "f6oTXYvQ1Rfg"
      }
    },
    {
      "cell_type": "code",
      "source": [
        "# Clones the repo and changes dir\n",
        "!git clone https://${GITHUB_TOKEN}@github.com/${USER}/homelens-ca.git\n",
        "%cd homelens-ca/"
      ],
      "metadata": {
        "colab": {
          "base_uri": "https://localhost:8080/"
        },
        "id": "H0ckjtX5e0FG",
        "outputId": "b473bf31-b93c-4f12-f2df-d5b2adea23c4"
      },
      "execution_count": 4,
      "outputs": [
        {
          "output_type": "stream",
          "name": "stdout",
          "text": [
            "Cloning into 'homelens-ca'...\n",
            "remote: Enumerating objects: 60, done.\u001b[K\n",
            "remote: Counting objects: 100% (60/60), done.\u001b[K\n",
            "remote: Compressing objects: 100% (41/41), done.\u001b[K\n",
            "remote: Total 60 (delta 13), reused 52 (delta 8), pack-reused 0 (from 0)\u001b[K\n",
            "Receiving objects: 100% (60/60), 1.93 MiB | 11.65 MiB/s, done.\n",
            "Resolving deltas: 100% (13/13), done.\n",
            "/content/homelens-ca\n"
          ]
        }
      ]
    },
    {
      "cell_type": "code",
      "source": [
        "# Changes dir\n",
        "%cd model/data/dataset\n",
        "\n",
        "# Imports the dataset and the labels\n",
        "X = pd.read_csv('X.csv').to_numpy()\n",
        "y = pd.read_csv('y.csv').to_numpy()\n",
        "\n",
        "# Applies transformation to labels\n",
        "y = np.log1p(y)\n",
        "\n",
        "\n",
        "X_train, X_test, y_train, y_test = train_test_split(X, y, test_size=0.1, random_state=42)"
      ],
      "metadata": {
        "id": "AhVXUeNF1Q7p",
        "colab": {
          "base_uri": "https://localhost:8080/"
        },
        "outputId": "7ff862a3-6e29-4b7a-db15-45406a295549"
      },
      "execution_count": 5,
      "outputs": [
        {
          "output_type": "stream",
          "name": "stdout",
          "text": [
            "/content/homelens-ca/model/data/dataset\n"
          ]
        }
      ]
    },
    {
      "cell_type": "markdown",
      "source": [
        "---\n",
        "**DagsHub and MLFlow**"
      ],
      "metadata": {
        "id": "uGIZaSgz0y0r"
      }
    },
    {
      "cell_type": "code",
      "source": [
        "# Init DagsHub\n",
        "dagshub.init(repo_owner='matteogianferrari', repo_name='homelens-ca', mlflow=True)\n",
        "TRACKING_URI = \"https://dagshub.com/matteogianferrari/homelens-ca.mlflow\"\n",
        "\n",
        "# Sets MLFlow tracking URI\n",
        "mlflow.set_tracking_uri(TRACKING_URI)\n",
        "\n",
        "# Sets MLFLow experiment name\n",
        "experiment_name = \"HomeLens CA-Research\""
      ],
      "metadata": {
        "colab": {
          "base_uri": "https://localhost:8080/",
          "height": 51
        },
        "id": "h3MLzUJL0yGc",
        "outputId": "26114871-6767-4edf-af35-100b4d65c5fb"
      },
      "execution_count": 8,
      "outputs": [
        {
          "output_type": "display_data",
          "data": {
            "text/plain": [
              "Initialized MLflow to track repo \u001b[32m\"matteogianferrari/homelens-ca\"\u001b[0m\n"
            ],
            "text/html": [
              "<pre style=\"white-space:pre;overflow-x:auto;line-height:normal;font-family:Menlo,'DejaVu Sans Mono',consolas,'Courier New',monospace\">Initialized MLflow to track repo <span style=\"color: #008000; text-decoration-color: #008000\">\"matteogianferrari/homelens-ca\"</span>\n",
              "</pre>\n"
            ]
          },
          "metadata": {}
        },
        {
          "output_type": "display_data",
          "data": {
            "text/plain": [
              "Repository matteogianferrari/homelens-ca initialized!\n"
            ],
            "text/html": [
              "<pre style=\"white-space:pre;overflow-x:auto;line-height:normal;font-family:Menlo,'DejaVu Sans Mono',consolas,'Courier New',monospace\">Repository matteogianferrari/homelens-ca initialized!\n",
              "</pre>\n"
            ]
          },
          "metadata": {}
        }
      ]
    },
    {
      "cell_type": "markdown",
      "source": [
        "# **Research and Training DL Models**"
      ],
      "metadata": {
        "id": "0QOwsFAH1LrH"
      }
    },
    {
      "cell_type": "markdown",
      "source": [
        "---\n",
        "**Model Hyperparameters**\n",
        "\n",
        "Defines the Hyperparameters for the model."
      ],
      "metadata": {
        "id": "hamxE4X-12RM"
      }
    },
    {
      "cell_type": "code",
      "source": [
        "epochs = 300\n",
        "initial_learning_rate = 1e-3\n",
        "minimum_learning_rate = 1e-8\n",
        "patience_es=30\n",
        "patience_lr=15\n",
        "decaying_factor=0.5\n",
        "batch_size=128\n",
        "validation_slip=0.1\n",
        "loss_func='mse'"
      ],
      "metadata": {
        "id": "gWiinI6t157n"
      },
      "execution_count": 9,
      "outputs": []
    },
    {
      "cell_type": "markdown",
      "source": [
        "---\n",
        "**Training and Testing**"
      ],
      "metadata": {
        "id": "SNm4VGx816zo"
      }
    },
    {
      "cell_type": "code",
      "source": [
        "import pynvml\n",
        "\n",
        "# Sets the MLFlow experiment\n",
        "mlflow.set_experiment(experiment_name)\n",
        "\n",
        "# Autolog\n",
        "mlflow.keras.autolog()\n",
        "\n",
        "\n",
        "\n",
        "# Defines the model\n",
        "def build_dynamic_model(input_shape, n_repeats):\n",
        "    \"\"\"\n",
        "    Builds a neural network model using TensorFlow's Functional API with repeated blocks.\n",
        "\n",
        "    Args:\n",
        "        input_shape (tuple): Shape of the input data.\n",
        "        n_repeats (int): Number of times to repeat the block of layers.\n",
        "\n",
        "    Returns:\n",
        "        tf.keras.Model: A compiled Keras model.\n",
        "    \"\"\"\n",
        "    # Input layer\n",
        "    inputs = tf.keras.layers.Input(shape=input_shape)\n",
        "    x = inputs\n",
        "\n",
        "    # Define the repeated block\n",
        "    for _ in range(n_repeats):\n",
        "        x = tf.keras.layers.Dense(512, activation='relu', kernel_initializer='he_normal')(x)\n",
        "        x = tf.keras.layers.BatchNormalization()(x)\n",
        "        x = tf.keras.layers.Dropout(0.2)(x)\n",
        "\n",
        "        x = tf.keras.layers.Dense(256, activation='relu', kernel_initializer='he_normal')(x)\n",
        "        x = tf.keras.layers.BatchNormalization()(x)\n",
        "        x = tf.keras.layers.Dropout(0.2)(x)\n",
        "\n",
        "        x = tf.keras.layers.Dense(128, activation='relu', kernel_initializer='he_normal')(x)\n",
        "        x = tf.keras.layers.BatchNormalization()(x)\n",
        "        x = tf.keras.layers.Dropout(0.2)(x)\n",
        "\n",
        "    x = tf.keras.layers.Dense(64, activation='relu', kernel_initializer='he_normal')(x)\n",
        "    x = tf.keras.layers.BatchNormalization()(x)\n",
        "\n",
        "    # Output layer\n",
        "    outputs = tf.keras.layers.Dense(1)(x)\n",
        "\n",
        "    # Create the model\n",
        "    model = tf.keras.Model(inputs, outputs)\n",
        "    return model\n",
        "\n",
        "# Example usage\n",
        "n_repeats = 3\n",
        "input_shape = (15,)\n",
        "model = build_dynamic_model(input_shape, n_repeats)\n",
        "\n",
        "\n",
        "\n",
        "# Set up a decaying learning rate\n",
        "optimizer = tf.keras.optimizers.Adam(learning_rate=initial_learning_rate)\n",
        "\n",
        "# You can now compile your model using this optimizer\n",
        "model.compile(\n",
        "    optimizer=optimizer,\n",
        "    loss=loss_func,\n",
        "    metrics=['r2_score']\n",
        ")\n",
        "\n",
        "# Creates an Early-Stopping callback\n",
        "es_callback = tf.keras.callbacks.EarlyStopping(\n",
        "    monitor='val_r2_score',\n",
        "    mode='max',\n",
        "    patience=patience_es,\n",
        "    restore_best_weights=True\n",
        ")\n",
        "\n",
        "lr_callback = tf.keras.callbacks.ReduceLROnPlateau(\n",
        "    monitor='val_loss',\n",
        "    factor=decaying_factor,\n",
        "    patience=patience_lr,\n",
        "    min_lr=minimum_learning_rate\n",
        ")\n",
        "\n",
        "\n",
        "# Train the model and log with MLFlow\n",
        "with mlflow.start_run(log_system_metrics=True):\n",
        "    mlflow.log_param(\"patience\", patience_es)\n",
        "    mlflow.log_param(\"loss_func\", loss_func)\n",
        "\n",
        "    history = model.fit(\n",
        "        X_train,\n",
        "        y_train,\n",
        "        batch_size=batch_size,\n",
        "        epochs=epochs,\n",
        "        validation_split=validation_slip,\n",
        "        callbacks=[es_callback, lr_callback]\n",
        "    )\n",
        "\n",
        "    # Test the model and log with MLFlow\n",
        "    test_loss, test_r2_score = model.evaluate(X_test, y_test)\n",
        "    mlflow.log_metric(\"test_loss\", test_loss)\n",
        "    mlflow.log_metric(\"test_r2_score\", test_r2_score)"
      ],
      "metadata": {
        "id": "7SF1a7SQ1yRJ",
        "colab": {
          "base_uri": "https://localhost:8080/",
          "height": 1000
        },
        "outputId": "b38d3ef5-85f8-46d0-abf3-d6b6f6c8a4c6"
      },
      "execution_count": 10,
      "outputs": [
        {
          "output_type": "stream",
          "name": "stderr",
          "text": [
            "2025/01/23 19:42:26 INFO mlflow.tracking.fluent: Experiment with name 'HomeLens CA-Research' does not exist. Creating a new experiment.\n",
            "2025/01/23 19:42:29 INFO mlflow.system_metrics.system_metrics_monitor: Started monitoring system metrics.\n"
          ]
        },
        {
          "output_type": "display_data",
          "data": {
            "text/plain": [],
            "text/html": [
              "<pre style=\"white-space:pre;overflow-x:auto;line-height:normal;font-family:Menlo,'DejaVu Sans Mono',consolas,'Courier New',monospace\"></pre>\n"
            ]
          },
          "metadata": {}
        },
        {
          "output_type": "stream",
          "name": "stdout",
          "text": [
            "Epoch 1/300\n",
            "\u001b[1m116/116\u001b[0m \u001b[32m━━━━━━━━━━━━━━━━━━━━\u001b[0m\u001b[37m\u001b[0m \u001b[1m21s\u001b[0m 69ms/step - loss: 136.2269 - r2_score: -492.4857 - val_loss: 85.9498 - val_r2_score: -319.5759 - learning_rate: 0.0010\n",
            "Epoch 2/300\n",
            "\u001b[1m116/116\u001b[0m \u001b[32m━━━━━━━━━━━━━━━━━━━━\u001b[0m\u001b[37m\u001b[0m \u001b[1m0s\u001b[0m 3ms/step - loss: 72.1009 - r2_score: -261.1549 - val_loss: 19.1972 - val_r2_score: -70.6019 - learning_rate: 0.0010\n",
            "Epoch 3/300\n",
            "\u001b[1m116/116\u001b[0m \u001b[32m━━━━━━━━━━━━━━━━━━━━\u001b[0m\u001b[37m\u001b[0m \u001b[1m0s\u001b[0m 3ms/step - loss: 12.3668 - r2_score: -43.1783 - val_loss: 0.8932 - val_r2_score: -2.3316 - learning_rate: 0.0010\n",
            "Epoch 4/300\n",
            "\u001b[1m116/116\u001b[0m \u001b[32m━━━━━━━━━━━━━━━━━━━━\u001b[0m\u001b[37m\u001b[0m \u001b[1m0s\u001b[0m 3ms/step - loss: 0.5608 - r2_score: -1.0515 - val_loss: 0.1145 - val_r2_score: 0.5731 - learning_rate: 0.0010\n",
            "Epoch 5/300\n",
            "\u001b[1m116/116\u001b[0m \u001b[32m━━━━━━━━━━━━━━━━━━━━\u001b[0m\u001b[37m\u001b[0m \u001b[1m0s\u001b[0m 3ms/step - loss: 0.1832 - r2_score: 0.3425 - val_loss: 0.1323 - val_r2_score: 0.5067 - learning_rate: 0.0010\n",
            "Epoch 6/300\n",
            "\u001b[1m116/116\u001b[0m \u001b[32m━━━━━━━━━━━━━━━━━━━━\u001b[0m\u001b[37m\u001b[0m \u001b[1m0s\u001b[0m 4ms/step - loss: 0.1543 - r2_score: 0.4551 - val_loss: 0.0978 - val_r2_score: 0.6352 - learning_rate: 0.0010\n",
            "Epoch 7/300\n",
            "\u001b[1m116/116\u001b[0m \u001b[32m━━━━━━━━━━━━━━━━━━━━\u001b[0m\u001b[37m\u001b[0m \u001b[1m0s\u001b[0m 4ms/step - loss: 0.1408 - r2_score: 0.4968 - val_loss: 0.0750 - val_r2_score: 0.7201 - learning_rate: 0.0010\n",
            "Epoch 8/300\n",
            "\u001b[1m116/116\u001b[0m \u001b[32m━━━━━━━━━━━━━━━━━━━━\u001b[0m\u001b[37m\u001b[0m \u001b[1m0s\u001b[0m 3ms/step - loss: 0.1361 - r2_score: 0.5172 - val_loss: 0.0806 - val_r2_score: 0.6992 - learning_rate: 0.0010\n",
            "Epoch 9/300\n",
            "\u001b[1m116/116\u001b[0m \u001b[32m━━━━━━━━━━━━━━━━━━━━\u001b[0m\u001b[37m\u001b[0m \u001b[1m0s\u001b[0m 3ms/step - loss: 0.1204 - r2_score: 0.5644 - val_loss: 0.0755 - val_r2_score: 0.7185 - learning_rate: 0.0010\n",
            "Epoch 10/300\n",
            "\u001b[1m116/116\u001b[0m \u001b[32m━━━━━━━━━━━━━━━━━━━━\u001b[0m\u001b[37m\u001b[0m \u001b[1m0s\u001b[0m 3ms/step - loss: 0.1146 - r2_score: 0.5849 - val_loss: 0.0791 - val_r2_score: 0.7052 - learning_rate: 0.0010\n",
            "Epoch 11/300\n",
            "\u001b[1m116/116\u001b[0m \u001b[32m━━━━━━━━━━━━━━━━━━━━\u001b[0m\u001b[37m\u001b[0m \u001b[1m0s\u001b[0m 3ms/step - loss: 0.1120 - r2_score: 0.5925 - val_loss: 0.0917 - val_r2_score: 0.6581 - learning_rate: 0.0010\n",
            "Epoch 12/300\n",
            "\u001b[1m116/116\u001b[0m \u001b[32m━━━━━━━━━━━━━━━━━━━━\u001b[0m\u001b[37m\u001b[0m \u001b[1m0s\u001b[0m 3ms/step - loss: 0.1104 - r2_score: 0.5988 - val_loss: 0.0894 - val_r2_score: 0.6667 - learning_rate: 0.0010\n",
            "Epoch 13/300\n",
            "\u001b[1m116/116\u001b[0m \u001b[32m━━━━━━━━━━━━━━━━━━━━\u001b[0m\u001b[37m\u001b[0m \u001b[1m0s\u001b[0m 3ms/step - loss: 0.1079 - r2_score: 0.6121 - val_loss: 0.0714 - val_r2_score: 0.7336 - learning_rate: 0.0010\n",
            "Epoch 14/300\n",
            "\u001b[1m116/116\u001b[0m \u001b[32m━━━━━━━━━━━━━━━━━━━━\u001b[0m\u001b[37m\u001b[0m \u001b[1m0s\u001b[0m 3ms/step - loss: 0.1004 - r2_score: 0.6412 - val_loss: 0.0660 - val_r2_score: 0.7539 - learning_rate: 0.0010\n",
            "Epoch 15/300\n",
            "\u001b[1m116/116\u001b[0m \u001b[32m━━━━━━━━━━━━━━━━━━━━\u001b[0m\u001b[37m\u001b[0m \u001b[1m0s\u001b[0m 3ms/step - loss: 0.1011 - r2_score: 0.6379 - val_loss: 0.0680 - val_r2_score: 0.7465 - learning_rate: 0.0010\n",
            "Epoch 16/300\n",
            "\u001b[1m116/116\u001b[0m \u001b[32m━━━━━━━━━━━━━━━━━━━━\u001b[0m\u001b[37m\u001b[0m \u001b[1m0s\u001b[0m 3ms/step - loss: 0.0958 - r2_score: 0.6537 - val_loss: 0.0642 - val_r2_score: 0.7607 - learning_rate: 0.0010\n",
            "Epoch 17/300\n",
            "\u001b[1m116/116\u001b[0m \u001b[32m━━━━━━━━━━━━━━━━━━━━\u001b[0m\u001b[37m\u001b[0m \u001b[1m0s\u001b[0m 3ms/step - loss: 0.0950 - r2_score: 0.6551 - val_loss: 0.0698 - val_r2_score: 0.7396 - learning_rate: 0.0010\n",
            "Epoch 18/300\n",
            "\u001b[1m116/116\u001b[0m \u001b[32m━━━━━━━━━━━━━━━━━━━━\u001b[0m\u001b[37m\u001b[0m \u001b[1m0s\u001b[0m 3ms/step - loss: 0.0927 - r2_score: 0.6673 - val_loss: 0.0628 - val_r2_score: 0.7657 - learning_rate: 0.0010\n",
            "Epoch 19/300\n",
            "\u001b[1m116/116\u001b[0m \u001b[32m━━━━━━━━━━━━━━━━━━━━\u001b[0m\u001b[37m\u001b[0m \u001b[1m0s\u001b[0m 3ms/step - loss: 0.0887 - r2_score: 0.6824 - val_loss: 0.0649 - val_r2_score: 0.7579 - learning_rate: 0.0010\n",
            "Epoch 20/300\n",
            "\u001b[1m116/116\u001b[0m \u001b[32m━━━━━━━━━━━━━━━━━━━━\u001b[0m\u001b[37m\u001b[0m \u001b[1m0s\u001b[0m 3ms/step - loss: 0.0944 - r2_score: 0.6593 - val_loss: 0.0678 - val_r2_score: 0.7471 - learning_rate: 0.0010\n",
            "Epoch 21/300\n",
            "\u001b[1m116/116\u001b[0m \u001b[32m━━━━━━━━━━━━━━━━━━━━\u001b[0m\u001b[37m\u001b[0m \u001b[1m0s\u001b[0m 3ms/step - loss: 0.0941 - r2_score: 0.6622 - val_loss: 0.0616 - val_r2_score: 0.7701 - learning_rate: 0.0010\n",
            "Epoch 22/300\n",
            "\u001b[1m116/116\u001b[0m \u001b[32m━━━━━━━━━━━━━━━━━━━━\u001b[0m\u001b[37m\u001b[0m \u001b[1m0s\u001b[0m 3ms/step - loss: 0.0878 - r2_score: 0.6850 - val_loss: 0.0643 - val_r2_score: 0.7603 - learning_rate: 0.0010\n",
            "Epoch 23/300\n",
            "\u001b[1m116/116\u001b[0m \u001b[32m━━━━━━━━━━━━━━━━━━━━\u001b[0m\u001b[37m\u001b[0m \u001b[1m0s\u001b[0m 3ms/step - loss: 0.0846 - r2_score: 0.6950 - val_loss: 0.0627 - val_r2_score: 0.7661 - learning_rate: 0.0010\n",
            "Epoch 24/300\n",
            "\u001b[1m116/116\u001b[0m \u001b[32m━━━━━━━━━━━━━━━━━━━━\u001b[0m\u001b[37m\u001b[0m \u001b[1m0s\u001b[0m 3ms/step - loss: 0.0860 - r2_score: 0.6930 - val_loss: 0.0626 - val_r2_score: 0.7663 - learning_rate: 0.0010\n",
            "Epoch 25/300\n",
            "\u001b[1m116/116\u001b[0m \u001b[32m━━━━━━━━━━━━━━━━━━━━\u001b[0m\u001b[37m\u001b[0m \u001b[1m0s\u001b[0m 3ms/step - loss: 0.0839 - r2_score: 0.6973 - val_loss: 0.0603 - val_r2_score: 0.7751 - learning_rate: 0.0010\n",
            "Epoch 26/300\n",
            "\u001b[1m116/116\u001b[0m \u001b[32m━━━━━━━━━━━━━━━━━━━━\u001b[0m\u001b[37m\u001b[0m \u001b[1m0s\u001b[0m 3ms/step - loss: 0.0825 - r2_score: 0.7071 - val_loss: 0.0610 - val_r2_score: 0.7723 - learning_rate: 0.0010\n",
            "Epoch 27/300\n",
            "\u001b[1m116/116\u001b[0m \u001b[32m━━━━━━━━━━━━━━━━━━━━\u001b[0m\u001b[37m\u001b[0m \u001b[1m0s\u001b[0m 3ms/step - loss: 0.0821 - r2_score: 0.7009 - val_loss: 0.0691 - val_r2_score: 0.7423 - learning_rate: 0.0010\n",
            "Epoch 28/300\n",
            "\u001b[1m116/116\u001b[0m \u001b[32m━━━━━━━━━━━━━━━━━━━━\u001b[0m\u001b[37m\u001b[0m \u001b[1m0s\u001b[0m 3ms/step - loss: 0.0822 - r2_score: 0.7059 - val_loss: 0.0595 - val_r2_score: 0.7783 - learning_rate: 0.0010\n",
            "Epoch 29/300\n",
            "\u001b[1m116/116\u001b[0m \u001b[32m━━━━━━━━━━━━━━━━━━━━\u001b[0m\u001b[37m\u001b[0m \u001b[1m0s\u001b[0m 3ms/step - loss: 0.0803 - r2_score: 0.7151 - val_loss: 0.0588 - val_r2_score: 0.7807 - learning_rate: 0.0010\n",
            "Epoch 30/300\n",
            "\u001b[1m116/116\u001b[0m \u001b[32m━━━━━━━━━━━━━━━━━━━━\u001b[0m\u001b[37m\u001b[0m \u001b[1m0s\u001b[0m 3ms/step - loss: 0.0777 - r2_score: 0.7173 - val_loss: 0.0558 - val_r2_score: 0.7918 - learning_rate: 0.0010\n",
            "Epoch 31/300\n",
            "\u001b[1m116/116\u001b[0m \u001b[32m━━━━━━━━━━━━━━━━━━━━\u001b[0m\u001b[37m\u001b[0m \u001b[1m0s\u001b[0m 3ms/step - loss: 0.0793 - r2_score: 0.7089 - val_loss: 0.0602 - val_r2_score: 0.7756 - learning_rate: 0.0010\n",
            "Epoch 32/300\n",
            "\u001b[1m116/116\u001b[0m \u001b[32m━━━━━━━━━━━━━━━━━━━━\u001b[0m\u001b[37m\u001b[0m \u001b[1m0s\u001b[0m 3ms/step - loss: 0.0794 - r2_score: 0.7079 - val_loss: 0.0571 - val_r2_score: 0.7870 - learning_rate: 0.0010\n",
            "Epoch 33/300\n",
            "\u001b[1m116/116\u001b[0m \u001b[32m━━━━━━━━━━━━━━━━━━━━\u001b[0m\u001b[37m\u001b[0m \u001b[1m0s\u001b[0m 3ms/step - loss: 0.0775 - r2_score: 0.7206 - val_loss: 0.0615 - val_r2_score: 0.7708 - learning_rate: 0.0010\n",
            "Epoch 34/300\n",
            "\u001b[1m116/116\u001b[0m \u001b[32m━━━━━━━━━━━━━━━━━━━━\u001b[0m\u001b[37m\u001b[0m \u001b[1m0s\u001b[0m 3ms/step - loss: 0.0781 - r2_score: 0.7143 - val_loss: 0.0624 - val_r2_score: 0.7674 - learning_rate: 0.0010\n",
            "Epoch 35/300\n",
            "\u001b[1m116/116\u001b[0m \u001b[32m━━━━━━━━━━━━━━━━━━━━\u001b[0m\u001b[37m\u001b[0m \u001b[1m0s\u001b[0m 3ms/step - loss: 0.0780 - r2_score: 0.7270 - val_loss: 0.0630 - val_r2_score: 0.7650 - learning_rate: 0.0010\n",
            "Epoch 36/300\n",
            "\u001b[1m116/116\u001b[0m \u001b[32m━━━━━━━━━━━━━━━━━━━━\u001b[0m\u001b[37m\u001b[0m \u001b[1m0s\u001b[0m 3ms/step - loss: 0.0772 - r2_score: 0.7201 - val_loss: 0.0638 - val_r2_score: 0.7619 - learning_rate: 0.0010\n",
            "Epoch 37/300\n",
            "\u001b[1m116/116\u001b[0m \u001b[32m━━━━━━━━━━━━━━━━━━━━\u001b[0m\u001b[37m\u001b[0m \u001b[1m0s\u001b[0m 3ms/step - loss: 0.0761 - r2_score: 0.7276 - val_loss: 0.0586 - val_r2_score: 0.7812 - learning_rate: 0.0010\n",
            "Epoch 38/300\n",
            "\u001b[1m116/116\u001b[0m \u001b[32m━━━━━━━━━━━━━━━━━━━━\u001b[0m\u001b[37m\u001b[0m \u001b[1m0s\u001b[0m 3ms/step - loss: 0.0760 - r2_score: 0.7296 - val_loss: 0.0563 - val_r2_score: 0.7901 - learning_rate: 0.0010\n",
            "Epoch 39/300\n",
            "\u001b[1m116/116\u001b[0m \u001b[32m━━━━━━━━━━━━━━━━━━━━\u001b[0m\u001b[37m\u001b[0m \u001b[1m0s\u001b[0m 3ms/step - loss: 0.0739 - r2_score: 0.7378 - val_loss: 0.0538 - val_r2_score: 0.7994 - learning_rate: 0.0010\n",
            "Epoch 40/300\n",
            "\u001b[1m116/116\u001b[0m \u001b[32m━━━━━━━━━━━━━━━━━━━━\u001b[0m\u001b[37m\u001b[0m \u001b[1m0s\u001b[0m 3ms/step - loss: 0.0748 - r2_score: 0.7357 - val_loss: 0.0601 - val_r2_score: 0.7760 - learning_rate: 0.0010\n",
            "Epoch 41/300\n",
            "\u001b[1m116/116\u001b[0m \u001b[32m━━━━━━━━━━━━━━━━━━━━\u001b[0m\u001b[37m\u001b[0m \u001b[1m0s\u001b[0m 3ms/step - loss: 0.0743 - r2_score: 0.7360 - val_loss: 0.0556 - val_r2_score: 0.7927 - learning_rate: 0.0010\n",
            "Epoch 42/300\n",
            "\u001b[1m116/116\u001b[0m \u001b[32m━━━━━━━━━━━━━━━━━━━━\u001b[0m\u001b[37m\u001b[0m \u001b[1m0s\u001b[0m 3ms/step - loss: 0.0717 - r2_score: 0.7453 - val_loss: 0.0565 - val_r2_score: 0.7893 - learning_rate: 0.0010\n",
            "Epoch 43/300\n",
            "\u001b[1m116/116\u001b[0m \u001b[32m━━━━━━━━━━━━━━━━━━━━\u001b[0m\u001b[37m\u001b[0m \u001b[1m0s\u001b[0m 3ms/step - loss: 0.0712 - r2_score: 0.7474 - val_loss: 0.0590 - val_r2_score: 0.7800 - learning_rate: 0.0010\n",
            "Epoch 44/300\n",
            "\u001b[1m116/116\u001b[0m \u001b[32m━━━━━━━━━━━━━━━━━━━━\u001b[0m\u001b[37m\u001b[0m \u001b[1m0s\u001b[0m 3ms/step - loss: 0.0719 - r2_score: 0.7425 - val_loss: 0.0570 - val_r2_score: 0.7875 - learning_rate: 0.0010\n",
            "Epoch 45/300\n",
            "\u001b[1m116/116\u001b[0m \u001b[32m━━━━━━━━━━━━━━━━━━━━\u001b[0m\u001b[37m\u001b[0m \u001b[1m0s\u001b[0m 3ms/step - loss: 0.0713 - r2_score: 0.7452 - val_loss: 0.0551 - val_r2_score: 0.7946 - learning_rate: 0.0010\n",
            "Epoch 46/300\n",
            "\u001b[1m116/116\u001b[0m \u001b[32m━━━━━━━━━━━━━━━━━━━━\u001b[0m\u001b[37m\u001b[0m \u001b[1m0s\u001b[0m 3ms/step - loss: 0.0703 - r2_score: 0.7468 - val_loss: 0.0557 - val_r2_score: 0.7922 - learning_rate: 0.0010\n",
            "Epoch 47/300\n",
            "\u001b[1m116/116\u001b[0m \u001b[32m━━━━━━━━━━━━━━━━━━━━\u001b[0m\u001b[37m\u001b[0m \u001b[1m0s\u001b[0m 3ms/step - loss: 0.0710 - r2_score: 0.7436 - val_loss: 0.0537 - val_r2_score: 0.7999 - learning_rate: 0.0010\n",
            "Epoch 48/300\n",
            "\u001b[1m116/116\u001b[0m \u001b[32m━━━━━━━━━━━━━━━━━━━━\u001b[0m\u001b[37m\u001b[0m \u001b[1m0s\u001b[0m 3ms/step - loss: 0.0685 - r2_score: 0.7524 - val_loss: 0.0543 - val_r2_score: 0.7976 - learning_rate: 0.0010\n",
            "Epoch 49/300\n",
            "\u001b[1m116/116\u001b[0m \u001b[32m━━━━━━━━━━━━━━━━━━━━\u001b[0m\u001b[37m\u001b[0m \u001b[1m0s\u001b[0m 3ms/step - loss: 0.0690 - r2_score: 0.7520 - val_loss: 0.0610 - val_r2_score: 0.7725 - learning_rate: 0.0010\n",
            "Epoch 50/300\n",
            "\u001b[1m116/116\u001b[0m \u001b[32m━━━━━━━━━━━━━━━━━━━━\u001b[0m\u001b[37m\u001b[0m \u001b[1m0s\u001b[0m 3ms/step - loss: 0.0695 - r2_score: 0.7459 - val_loss: 0.0535 - val_r2_score: 0.8006 - learning_rate: 0.0010\n",
            "Epoch 51/300\n",
            "\u001b[1m116/116\u001b[0m \u001b[32m━━━━━━━━━━━━━━━━━━━━\u001b[0m\u001b[37m\u001b[0m \u001b[1m0s\u001b[0m 3ms/step - loss: 0.0717 - r2_score: 0.7474 - val_loss: 0.0562 - val_r2_score: 0.7903 - learning_rate: 0.0010\n",
            "Epoch 52/300\n",
            "\u001b[1m116/116\u001b[0m \u001b[32m━━━━━━━━━━━━━━━━━━━━\u001b[0m\u001b[37m\u001b[0m \u001b[1m0s\u001b[0m 3ms/step - loss: 0.0715 - r2_score: 0.7436 - val_loss: 0.0545 - val_r2_score: 0.7969 - learning_rate: 0.0010\n",
            "Epoch 53/300\n",
            "\u001b[1m116/116\u001b[0m \u001b[32m━━━━━━━━━━━━━━━━━━━━\u001b[0m\u001b[37m\u001b[0m \u001b[1m0s\u001b[0m 3ms/step - loss: 0.0683 - r2_score: 0.7559 - val_loss: 0.0530 - val_r2_score: 0.8023 - learning_rate: 0.0010\n",
            "Epoch 54/300\n",
            "\u001b[1m116/116\u001b[0m \u001b[32m━━━━━━━━━━━━━━━━━━━━\u001b[0m\u001b[37m\u001b[0m \u001b[1m0s\u001b[0m 3ms/step - loss: 0.0687 - r2_score: 0.7506 - val_loss: 0.0514 - val_r2_score: 0.8081 - learning_rate: 0.0010\n",
            "Epoch 55/300\n",
            "\u001b[1m116/116\u001b[0m \u001b[32m━━━━━━━━━━━━━━━━━━━━\u001b[0m\u001b[37m\u001b[0m \u001b[1m0s\u001b[0m 3ms/step - loss: 0.0693 - r2_score: 0.7511 - val_loss: 0.0537 - val_r2_score: 0.7997 - learning_rate: 0.0010\n",
            "Epoch 56/300\n",
            "\u001b[1m116/116\u001b[0m \u001b[32m━━━━━━━━━━━━━━━━━━━━\u001b[0m\u001b[37m\u001b[0m \u001b[1m0s\u001b[0m 3ms/step - loss: 0.0688 - r2_score: 0.7531 - val_loss: 0.0550 - val_r2_score: 0.7950 - learning_rate: 0.0010\n",
            "Epoch 57/300\n",
            "\u001b[1m116/116\u001b[0m \u001b[32m━━━━━━━━━━━━━━━━━━━━\u001b[0m\u001b[37m\u001b[0m \u001b[1m0s\u001b[0m 3ms/step - loss: 0.0694 - r2_score: 0.7534 - val_loss: 0.0562 - val_r2_score: 0.7903 - learning_rate: 0.0010\n",
            "Epoch 58/300\n",
            "\u001b[1m116/116\u001b[0m \u001b[32m━━━━━━━━━━━━━━━━━━━━\u001b[0m\u001b[37m\u001b[0m \u001b[1m0s\u001b[0m 3ms/step - loss: 0.0688 - r2_score: 0.7504 - val_loss: 0.0611 - val_r2_score: 0.7721 - learning_rate: 0.0010\n",
            "Epoch 59/300\n",
            "\u001b[1m116/116\u001b[0m \u001b[32m━━━━━━━━━━━━━━━━━━━━\u001b[0m\u001b[37m\u001b[0m \u001b[1m0s\u001b[0m 3ms/step - loss: 0.0674 - r2_score: 0.7591 - val_loss: 0.0541 - val_r2_score: 0.7982 - learning_rate: 0.0010\n",
            "Epoch 60/300\n",
            "\u001b[1m116/116\u001b[0m \u001b[32m━━━━━━━━━━━━━━━━━━━━\u001b[0m\u001b[37m\u001b[0m \u001b[1m0s\u001b[0m 3ms/step - loss: 0.0665 - r2_score: 0.7627 - val_loss: 0.0543 - val_r2_score: 0.7974 - learning_rate: 0.0010\n",
            "Epoch 61/300\n",
            "\u001b[1m116/116\u001b[0m \u001b[32m━━━━━━━━━━━━━━━━━━━━\u001b[0m\u001b[37m\u001b[0m \u001b[1m0s\u001b[0m 3ms/step - loss: 0.0686 - r2_score: 0.7518 - val_loss: 0.0546 - val_r2_score: 0.7963 - learning_rate: 0.0010\n",
            "Epoch 62/300\n",
            "\u001b[1m116/116\u001b[0m \u001b[32m━━━━━━━━━━━━━━━━━━━━\u001b[0m\u001b[37m\u001b[0m \u001b[1m0s\u001b[0m 3ms/step - loss: 0.0667 - r2_score: 0.7607 - val_loss: 0.0600 - val_r2_score: 0.7763 - learning_rate: 0.0010\n",
            "Epoch 63/300\n",
            "\u001b[1m116/116\u001b[0m \u001b[32m━━━━━━━━━━━━━━━━━━━━\u001b[0m\u001b[37m\u001b[0m \u001b[1m0s\u001b[0m 3ms/step - loss: 0.0666 - r2_score: 0.7598 - val_loss: 0.0532 - val_r2_score: 0.8014 - learning_rate: 0.0010\n",
            "Epoch 64/300\n",
            "\u001b[1m116/116\u001b[0m \u001b[32m━━━━━━━━━━━━━━━━━━━━\u001b[0m\u001b[37m\u001b[0m \u001b[1m0s\u001b[0m 3ms/step - loss: 0.0659 - r2_score: 0.7657 - val_loss: 0.0534 - val_r2_score: 0.8009 - learning_rate: 0.0010\n",
            "Epoch 65/300\n",
            "\u001b[1m116/116\u001b[0m \u001b[32m━━━━━━━━━━━━━━━━━━━━\u001b[0m\u001b[37m\u001b[0m \u001b[1m0s\u001b[0m 3ms/step - loss: 0.0668 - r2_score: 0.7559 - val_loss: 0.0561 - val_r2_score: 0.7908 - learning_rate: 0.0010\n",
            "Epoch 66/300\n",
            "\u001b[1m116/116\u001b[0m \u001b[32m━━━━━━━━━━━━━━━━━━━━\u001b[0m\u001b[37m\u001b[0m \u001b[1m0s\u001b[0m 3ms/step - loss: 0.0658 - r2_score: 0.7615 - val_loss: 0.0669 - val_r2_score: 0.7505 - learning_rate: 0.0010\n",
            "Epoch 67/300\n",
            "\u001b[1m116/116\u001b[0m \u001b[32m━━━━━━━━━━━━━━━━━━━━\u001b[0m\u001b[37m\u001b[0m \u001b[1m0s\u001b[0m 3ms/step - loss: 0.0684 - r2_score: 0.7570 - val_loss: 0.0567 - val_r2_score: 0.7887 - learning_rate: 0.0010\n",
            "Epoch 68/300\n",
            "\u001b[1m116/116\u001b[0m \u001b[32m━━━━━━━━━━━━━━━━━━━━\u001b[0m\u001b[37m\u001b[0m \u001b[1m0s\u001b[0m 3ms/step - loss: 0.0651 - r2_score: 0.7629 - val_loss: 0.0520 - val_r2_score: 0.8062 - learning_rate: 0.0010\n",
            "Epoch 69/300\n",
            "\u001b[1m116/116\u001b[0m \u001b[32m━━━━━━━━━━━━━━━━━━━━\u001b[0m\u001b[37m\u001b[0m \u001b[1m0s\u001b[0m 3ms/step - loss: 0.0631 - r2_score: 0.7737 - val_loss: 0.0590 - val_r2_score: 0.7800 - learning_rate: 0.0010\n",
            "Epoch 70/300\n",
            "\u001b[1m116/116\u001b[0m \u001b[32m━━━━━━━━━━━━━━━━━━━━\u001b[0m\u001b[37m\u001b[0m \u001b[1m0s\u001b[0m 3ms/step - loss: 0.0627 - r2_score: 0.7774 - val_loss: 0.0484 - val_r2_score: 0.8196 - learning_rate: 5.0000e-04\n",
            "Epoch 71/300\n",
            "\u001b[1m116/116\u001b[0m \u001b[32m━━━━━━━━━━━━━━━━━━━━\u001b[0m\u001b[37m\u001b[0m \u001b[1m0s\u001b[0m 3ms/step - loss: 0.0602 - r2_score: 0.7825 - val_loss: 0.0495 - val_r2_score: 0.8153 - learning_rate: 5.0000e-04\n",
            "Epoch 72/300\n",
            "\u001b[1m116/116\u001b[0m \u001b[32m━━━━━━━━━━━━━━━━━━━━\u001b[0m\u001b[37m\u001b[0m \u001b[1m0s\u001b[0m 3ms/step - loss: 0.0629 - r2_score: 0.7771 - val_loss: 0.0525 - val_r2_score: 0.8044 - learning_rate: 5.0000e-04\n",
            "Epoch 73/300\n",
            "\u001b[1m116/116\u001b[0m \u001b[32m━━━━━━━━━━━━━━━━━━━━\u001b[0m\u001b[37m\u001b[0m \u001b[1m0s\u001b[0m 3ms/step - loss: 0.0603 - r2_score: 0.7798 - val_loss: 0.0471 - val_r2_score: 0.8242 - learning_rate: 5.0000e-04\n",
            "Epoch 74/300\n",
            "\u001b[1m116/116\u001b[0m \u001b[32m━━━━━━━━━━━━━━━━━━━━\u001b[0m\u001b[37m\u001b[0m \u001b[1m0s\u001b[0m 3ms/step - loss: 0.0587 - r2_score: 0.7893 - val_loss: 0.0497 - val_r2_score: 0.8147 - learning_rate: 5.0000e-04\n",
            "Epoch 75/300\n",
            "\u001b[1m116/116\u001b[0m \u001b[32m━━━━━━━━━━━━━━━━━━━━\u001b[0m\u001b[37m\u001b[0m \u001b[1m0s\u001b[0m 3ms/step - loss: 0.0576 - r2_score: 0.7914 - val_loss: 0.0493 - val_r2_score: 0.8162 - learning_rate: 5.0000e-04\n",
            "Epoch 76/300\n",
            "\u001b[1m116/116\u001b[0m \u001b[32m━━━━━━━━━━━━━━━━━━━━\u001b[0m\u001b[37m\u001b[0m \u001b[1m0s\u001b[0m 3ms/step - loss: 0.0583 - r2_score: 0.7891 - val_loss: 0.0498 - val_r2_score: 0.8141 - learning_rate: 5.0000e-04\n",
            "Epoch 77/300\n",
            "\u001b[1m116/116\u001b[0m \u001b[32m━━━━━━━━━━━━━━━━━━━━\u001b[0m\u001b[37m\u001b[0m \u001b[1m0s\u001b[0m 3ms/step - loss: 0.0592 - r2_score: 0.7881 - val_loss: 0.0488 - val_r2_score: 0.8178 - learning_rate: 5.0000e-04\n",
            "Epoch 78/300\n",
            "\u001b[1m116/116\u001b[0m \u001b[32m━━━━━━━━━━━━━━━━━━━━\u001b[0m\u001b[37m\u001b[0m \u001b[1m0s\u001b[0m 3ms/step - loss: 0.0587 - r2_score: 0.7861 - val_loss: 0.0529 - val_r2_score: 0.8026 - learning_rate: 5.0000e-04\n",
            "Epoch 79/300\n",
            "\u001b[1m116/116\u001b[0m \u001b[32m━━━━━━━━━━━━━━━━━━━━\u001b[0m\u001b[37m\u001b[0m \u001b[1m0s\u001b[0m 3ms/step - loss: 0.0590 - r2_score: 0.7885 - val_loss: 0.0516 - val_r2_score: 0.8077 - learning_rate: 5.0000e-04\n",
            "Epoch 80/300\n",
            "\u001b[1m116/116\u001b[0m \u001b[32m━━━━━━━━━━━━━━━━━━━━\u001b[0m\u001b[37m\u001b[0m \u001b[1m0s\u001b[0m 3ms/step - loss: 0.0562 - r2_score: 0.7967 - val_loss: 0.0483 - val_r2_score: 0.8197 - learning_rate: 5.0000e-04\n",
            "Epoch 81/300\n",
            "\u001b[1m116/116\u001b[0m \u001b[32m━━━━━━━━━━━━━━━━━━━━\u001b[0m\u001b[37m\u001b[0m \u001b[1m0s\u001b[0m 3ms/step - loss: 0.0588 - r2_score: 0.7864 - val_loss: 0.0478 - val_r2_score: 0.8216 - learning_rate: 5.0000e-04\n",
            "Epoch 82/300\n",
            "\u001b[1m116/116\u001b[0m \u001b[32m━━━━━━━━━━━━━━━━━━━━\u001b[0m\u001b[37m\u001b[0m \u001b[1m0s\u001b[0m 3ms/step - loss: 0.0588 - r2_score: 0.7884 - val_loss: 0.0498 - val_r2_score: 0.8141 - learning_rate: 5.0000e-04\n",
            "Epoch 83/300\n",
            "\u001b[1m116/116\u001b[0m \u001b[32m━━━━━━━━━━━━━━━━━━━━\u001b[0m\u001b[37m\u001b[0m \u001b[1m0s\u001b[0m 3ms/step - loss: 0.0561 - r2_score: 0.7958 - val_loss: 0.0550 - val_r2_score: 0.7949 - learning_rate: 5.0000e-04\n",
            "Epoch 84/300\n",
            "\u001b[1m116/116\u001b[0m \u001b[32m━━━━━━━━━━━━━━━━━━━━\u001b[0m\u001b[37m\u001b[0m \u001b[1m0s\u001b[0m 3ms/step - loss: 0.0570 - r2_score: 0.7947 - val_loss: 0.0498 - val_r2_score: 0.8144 - learning_rate: 5.0000e-04\n",
            "Epoch 85/300\n",
            "\u001b[1m116/116\u001b[0m \u001b[32m━━━━━━━━━━━━━━━━━━━━\u001b[0m\u001b[37m\u001b[0m \u001b[1m0s\u001b[0m 3ms/step - loss: 0.0571 - r2_score: 0.7934 - val_loss: 0.0493 - val_r2_score: 0.8162 - learning_rate: 5.0000e-04\n",
            "Epoch 86/300\n",
            "\u001b[1m116/116\u001b[0m \u001b[32m━━━━━━━━━━━━━━━━━━━━\u001b[0m\u001b[37m\u001b[0m \u001b[1m0s\u001b[0m 3ms/step - loss: 0.0552 - r2_score: 0.8008 - val_loss: 0.0473 - val_r2_score: 0.8236 - learning_rate: 5.0000e-04\n",
            "Epoch 87/300\n",
            "\u001b[1m116/116\u001b[0m \u001b[32m━━━━━━━━━━━━━━━━━━━━\u001b[0m\u001b[37m\u001b[0m \u001b[1m0s\u001b[0m 3ms/step - loss: 0.0564 - r2_score: 0.7970 - val_loss: 0.0479 - val_r2_score: 0.8215 - learning_rate: 5.0000e-04\n",
            "Epoch 88/300\n",
            "\u001b[1m116/116\u001b[0m \u001b[32m━━━━━━━━━━━━━━━━━━━━\u001b[0m\u001b[37m\u001b[0m \u001b[1m0s\u001b[0m 3ms/step - loss: 0.0554 - r2_score: 0.8006 - val_loss: 0.0526 - val_r2_score: 0.8040 - learning_rate: 5.0000e-04\n",
            "Epoch 89/300\n",
            "\u001b[1m116/116\u001b[0m \u001b[32m━━━━━━━━━━━━━━━━━━━━\u001b[0m\u001b[37m\u001b[0m \u001b[1m0s\u001b[0m 3ms/step - loss: 0.0541 - r2_score: 0.8094 - val_loss: 0.0486 - val_r2_score: 0.8186 - learning_rate: 2.5000e-04\n",
            "Epoch 90/300\n",
            "\u001b[1m116/116\u001b[0m \u001b[32m━━━━━━━━━━━━━━━━━━━━\u001b[0m\u001b[37m\u001b[0m \u001b[1m0s\u001b[0m 3ms/step - loss: 0.0575 - r2_score: 0.7935 - val_loss: 0.0476 - val_r2_score: 0.8224 - learning_rate: 2.5000e-04\n",
            "Epoch 91/300\n",
            "\u001b[1m116/116\u001b[0m \u001b[32m━━━━━━━━━━━━━━━━━━━━\u001b[0m\u001b[37m\u001b[0m \u001b[1m0s\u001b[0m 3ms/step - loss: 0.0552 - r2_score: 0.8000 - val_loss: 0.0555 - val_r2_score: 0.7931 - learning_rate: 2.5000e-04\n",
            "Epoch 92/300\n",
            "\u001b[1m116/116\u001b[0m \u001b[32m━━━━━━━━━━━━━━━━━━━━\u001b[0m\u001b[37m\u001b[0m \u001b[1m0s\u001b[0m 3ms/step - loss: 0.0543 - r2_score: 0.8033 - val_loss: 0.0487 - val_r2_score: 0.8183 - learning_rate: 2.5000e-04\n",
            "Epoch 93/300\n",
            "\u001b[1m116/116\u001b[0m \u001b[32m━━━━━━━━━━━━━━━━━━━━\u001b[0m\u001b[37m\u001b[0m \u001b[1m0s\u001b[0m 3ms/step - loss: 0.0559 - r2_score: 0.7977 - val_loss: 0.0494 - val_r2_score: 0.8157 - learning_rate: 2.5000e-04\n",
            "Epoch 94/300\n",
            "\u001b[1m116/116\u001b[0m \u001b[32m━━━━━━━━━━━━━━━━━━━━\u001b[0m\u001b[37m\u001b[0m \u001b[1m0s\u001b[0m 3ms/step - loss: 0.0541 - r2_score: 0.8065 - val_loss: 0.0496 - val_r2_score: 0.8151 - learning_rate: 2.5000e-04\n",
            "Epoch 95/300\n",
            "\u001b[1m116/116\u001b[0m \u001b[32m━━━━━━━━━━━━━━━━━━━━\u001b[0m\u001b[37m\u001b[0m \u001b[1m0s\u001b[0m 3ms/step - loss: 0.0557 - r2_score: 0.8001 - val_loss: 0.0482 - val_r2_score: 0.8201 - learning_rate: 2.5000e-04\n",
            "Epoch 96/300\n",
            "\u001b[1m116/116\u001b[0m \u001b[32m━━━━━━━━━━━━━━━━━━━━\u001b[0m\u001b[37m\u001b[0m \u001b[1m0s\u001b[0m 3ms/step - loss: 0.0535 - r2_score: 0.8071 - val_loss: 0.0461 - val_r2_score: 0.8282 - learning_rate: 2.5000e-04\n",
            "Epoch 97/300\n",
            "\u001b[1m116/116\u001b[0m \u001b[32m━━━━━━━━━━━━━━━━━━━━\u001b[0m\u001b[37m\u001b[0m \u001b[1m0s\u001b[0m 3ms/step - loss: 0.0528 - r2_score: 0.8098 - val_loss: 0.0471 - val_r2_score: 0.8242 - learning_rate: 2.5000e-04\n",
            "Epoch 98/300\n",
            "\u001b[1m116/116\u001b[0m \u001b[32m━━━━━━━━━━━━━━━━━━━━\u001b[0m\u001b[37m\u001b[0m \u001b[1m0s\u001b[0m 3ms/step - loss: 0.0531 - r2_score: 0.8102 - val_loss: 0.0472 - val_r2_score: 0.8240 - learning_rate: 2.5000e-04\n",
            "Epoch 99/300\n",
            "\u001b[1m116/116\u001b[0m \u001b[32m━━━━━━━━━━━━━━━━━━━━\u001b[0m\u001b[37m\u001b[0m \u001b[1m0s\u001b[0m 3ms/step - loss: 0.0548 - r2_score: 0.8032 - val_loss: 0.0475 - val_r2_score: 0.8227 - learning_rate: 2.5000e-04\n",
            "Epoch 100/300\n",
            "\u001b[1m116/116\u001b[0m \u001b[32m━━━━━━━━━━━━━━━━━━━━\u001b[0m\u001b[37m\u001b[0m \u001b[1m0s\u001b[0m 3ms/step - loss: 0.0531 - r2_score: 0.8119 - val_loss: 0.0481 - val_r2_score: 0.8205 - learning_rate: 2.5000e-04\n",
            "Epoch 101/300\n",
            "\u001b[1m116/116\u001b[0m \u001b[32m━━━━━━━━━━━━━━━━━━━━\u001b[0m\u001b[37m\u001b[0m \u001b[1m0s\u001b[0m 3ms/step - loss: 0.0531 - r2_score: 0.8081 - val_loss: 0.0487 - val_r2_score: 0.8184 - learning_rate: 2.5000e-04\n",
            "Epoch 102/300\n",
            "\u001b[1m116/116\u001b[0m \u001b[32m━━━━━━━━━━━━━━━━━━━━\u001b[0m\u001b[37m\u001b[0m \u001b[1m0s\u001b[0m 3ms/step - loss: 0.0544 - r2_score: 0.8021 - val_loss: 0.0484 - val_r2_score: 0.8197 - learning_rate: 2.5000e-04\n",
            "Epoch 103/300\n",
            "\u001b[1m116/116\u001b[0m \u001b[32m━━━━━━━━━━━━━━━━━━━━\u001b[0m\u001b[37m\u001b[0m \u001b[1m0s\u001b[0m 3ms/step - loss: 0.0533 - r2_score: 0.8090 - val_loss: 0.0495 - val_r2_score: 0.8155 - learning_rate: 2.5000e-04\n",
            "Epoch 104/300\n",
            "\u001b[1m116/116\u001b[0m \u001b[32m━━━━━━━━━━━━━━━━━━━━\u001b[0m\u001b[37m\u001b[0m \u001b[1m0s\u001b[0m 3ms/step - loss: 0.0541 - r2_score: 0.8049 - val_loss: 0.0466 - val_r2_score: 0.8261 - learning_rate: 2.5000e-04\n",
            "Epoch 105/300\n",
            "\u001b[1m116/116\u001b[0m \u001b[32m━━━━━━━━━━━━━━━━━━━━\u001b[0m\u001b[37m\u001b[0m \u001b[1m0s\u001b[0m 3ms/step - loss: 0.0521 - r2_score: 0.8142 - val_loss: 0.0473 - val_r2_score: 0.8235 - learning_rate: 2.5000e-04\n",
            "Epoch 106/300\n",
            "\u001b[1m116/116\u001b[0m \u001b[32m━━━━━━━━━━━━━━━━━━━━\u001b[0m\u001b[37m\u001b[0m \u001b[1m0s\u001b[0m 3ms/step - loss: 0.0512 - r2_score: 0.8180 - val_loss: 0.0487 - val_r2_score: 0.8183 - learning_rate: 2.5000e-04\n",
            "Epoch 107/300\n",
            "\u001b[1m116/116\u001b[0m \u001b[32m━━━━━━━━━━━━━━━━━━━━\u001b[0m\u001b[37m\u001b[0m \u001b[1m0s\u001b[0m 3ms/step - loss: 0.0544 - r2_score: 0.8028 - val_loss: 0.0483 - val_r2_score: 0.8197 - learning_rate: 2.5000e-04\n",
            "Epoch 108/300\n",
            "\u001b[1m116/116\u001b[0m \u001b[32m━━━━━━━━━━━━━━━━━━━━\u001b[0m\u001b[37m\u001b[0m \u001b[1m0s\u001b[0m 3ms/step - loss: 0.0521 - r2_score: 0.8133 - val_loss: 0.0491 - val_r2_score: 0.8169 - learning_rate: 2.5000e-04\n",
            "Epoch 109/300\n",
            "\u001b[1m116/116\u001b[0m \u001b[32m━━━━━━━━━━━━━━━━━━━━\u001b[0m\u001b[37m\u001b[0m \u001b[1m0s\u001b[0m 3ms/step - loss: 0.0531 - r2_score: 0.8095 - val_loss: 0.0465 - val_r2_score: 0.8267 - learning_rate: 2.5000e-04\n",
            "Epoch 110/300\n",
            "\u001b[1m116/116\u001b[0m \u001b[32m━━━━━━━━━━━━━━━━━━━━\u001b[0m\u001b[37m\u001b[0m \u001b[1m0s\u001b[0m 3ms/step - loss: 0.0533 - r2_score: 0.8085 - val_loss: 0.0464 - val_r2_score: 0.8269 - learning_rate: 2.5000e-04\n",
            "Epoch 111/300\n",
            "\u001b[1m116/116\u001b[0m \u001b[32m━━━━━━━━━━━━━━━━━━━━\u001b[0m\u001b[37m\u001b[0m \u001b[1m0s\u001b[0m 3ms/step - loss: 0.0527 - r2_score: 0.8116 - val_loss: 0.0489 - val_r2_score: 0.8178 - learning_rate: 2.5000e-04\n",
            "Epoch 112/300\n",
            "\u001b[1m116/116\u001b[0m \u001b[32m━━━━━━━━━━━━━━━━━━━━\u001b[0m\u001b[37m\u001b[0m \u001b[1m0s\u001b[0m 3ms/step - loss: 0.0507 - r2_score: 0.8207 - val_loss: 0.0462 - val_r2_score: 0.8275 - learning_rate: 1.2500e-04\n",
            "Epoch 113/300\n",
            "\u001b[1m116/116\u001b[0m \u001b[32m━━━━━━━━━━━━━━━━━━━━\u001b[0m\u001b[37m\u001b[0m \u001b[1m0s\u001b[0m 3ms/step - loss: 0.0517 - r2_score: 0.8113 - val_loss: 0.0456 - val_r2_score: 0.8298 - learning_rate: 1.2500e-04\n",
            "Epoch 114/300\n",
            "\u001b[1m116/116\u001b[0m \u001b[32m━━━━━━━━━━━━━━━━━━━━\u001b[0m\u001b[37m\u001b[0m \u001b[1m0s\u001b[0m 3ms/step - loss: 0.0538 - r2_score: 0.8063 - val_loss: 0.0478 - val_r2_score: 0.8218 - learning_rate: 1.2500e-04\n",
            "Epoch 115/300\n",
            "\u001b[1m116/116\u001b[0m \u001b[32m━━━━━━━━━━━━━━━━━━━━\u001b[0m\u001b[37m\u001b[0m \u001b[1m0s\u001b[0m 3ms/step - loss: 0.0532 - r2_score: 0.8116 - val_loss: 0.0458 - val_r2_score: 0.8290 - learning_rate: 1.2500e-04\n",
            "Epoch 116/300\n",
            "\u001b[1m116/116\u001b[0m \u001b[32m━━━━━━━━━━━━━━━━━━━━\u001b[0m\u001b[37m\u001b[0m \u001b[1m0s\u001b[0m 3ms/step - loss: 0.0515 - r2_score: 0.8158 - val_loss: 0.0469 - val_r2_score: 0.8250 - learning_rate: 1.2500e-04\n",
            "Epoch 117/300\n",
            "\u001b[1m116/116\u001b[0m \u001b[32m━━━━━━━━━━━━━━━━━━━━\u001b[0m\u001b[37m\u001b[0m \u001b[1m0s\u001b[0m 3ms/step - loss: 0.0505 - r2_score: 0.8166 - val_loss: 0.0488 - val_r2_score: 0.8179 - learning_rate: 1.2500e-04\n",
            "Epoch 118/300\n",
            "\u001b[1m116/116\u001b[0m \u001b[32m━━━━━━━━━━━━━━━━━━━━\u001b[0m\u001b[37m\u001b[0m \u001b[1m0s\u001b[0m 3ms/step - loss: 0.0500 - r2_score: 0.8242 - val_loss: 0.0464 - val_r2_score: 0.8269 - learning_rate: 1.2500e-04\n",
            "Epoch 119/300\n",
            "\u001b[1m116/116\u001b[0m \u001b[32m━━━━━━━━━━━━━━━━━━━━\u001b[0m\u001b[37m\u001b[0m \u001b[1m0s\u001b[0m 3ms/step - loss: 0.0506 - r2_score: 0.8152 - val_loss: 0.0462 - val_r2_score: 0.8278 - learning_rate: 1.2500e-04\n",
            "Epoch 120/300\n",
            "\u001b[1m116/116\u001b[0m \u001b[32m━━━━━━━━━━━━━━━━━━━━\u001b[0m\u001b[37m\u001b[0m \u001b[1m0s\u001b[0m 3ms/step - loss: 0.0506 - r2_score: 0.8181 - val_loss: 0.0469 - val_r2_score: 0.8249 - learning_rate: 1.2500e-04\n",
            "Epoch 121/300\n",
            "\u001b[1m116/116\u001b[0m \u001b[32m━━━━━━━━━━━━━━━━━━━━\u001b[0m\u001b[37m\u001b[0m \u001b[1m0s\u001b[0m 3ms/step - loss: 0.0507 - r2_score: 0.8159 - val_loss: 0.0464 - val_r2_score: 0.8268 - learning_rate: 1.2500e-04\n",
            "Epoch 122/300\n",
            "\u001b[1m116/116\u001b[0m \u001b[32m━━━━━━━━━━━━━━━━━━━━\u001b[0m\u001b[37m\u001b[0m \u001b[1m0s\u001b[0m 3ms/step - loss: 0.0506 - r2_score: 0.8143 - val_loss: 0.0480 - val_r2_score: 0.8208 - learning_rate: 1.2500e-04\n",
            "Epoch 123/300\n",
            "\u001b[1m116/116\u001b[0m \u001b[32m━━━━━━━━━━━━━━━━━━━━\u001b[0m\u001b[37m\u001b[0m \u001b[1m0s\u001b[0m 3ms/step - loss: 0.0497 - r2_score: 0.8200 - val_loss: 0.0480 - val_r2_score: 0.8210 - learning_rate: 1.2500e-04\n",
            "Epoch 124/300\n",
            "\u001b[1m116/116\u001b[0m \u001b[32m━━━━━━━━━━━━━━━━━━━━\u001b[0m\u001b[37m\u001b[0m \u001b[1m0s\u001b[0m 3ms/step - loss: 0.0507 - r2_score: 0.8166 - val_loss: 0.0472 - val_r2_score: 0.8241 - learning_rate: 1.2500e-04\n",
            "Epoch 125/300\n",
            "\u001b[1m116/116\u001b[0m \u001b[32m━━━━━━━━━━━━━━━━━━━━\u001b[0m\u001b[37m\u001b[0m \u001b[1m0s\u001b[0m 3ms/step - loss: 0.0506 - r2_score: 0.8187 - val_loss: 0.0484 - val_r2_score: 0.8194 - learning_rate: 1.2500e-04\n",
            "Epoch 126/300\n",
            "\u001b[1m116/116\u001b[0m \u001b[32m━━━━━━━━━━━━━━━━━━━━\u001b[0m\u001b[37m\u001b[0m \u001b[1m0s\u001b[0m 3ms/step - loss: 0.0497 - r2_score: 0.8212 - val_loss: 0.0482 - val_r2_score: 0.8201 - learning_rate: 1.2500e-04\n",
            "Epoch 127/300\n",
            "\u001b[1m116/116\u001b[0m \u001b[32m━━━━━━━━━━━━━━━━━━━━\u001b[0m\u001b[37m\u001b[0m \u001b[1m0s\u001b[0m 3ms/step - loss: 0.0511 - r2_score: 0.8175 - val_loss: 0.0482 - val_r2_score: 0.8203 - learning_rate: 1.2500e-04\n",
            "Epoch 128/300\n",
            "\u001b[1m116/116\u001b[0m \u001b[32m━━━━━━━━━━━━━━━━━━━━\u001b[0m\u001b[37m\u001b[0m \u001b[1m0s\u001b[0m 3ms/step - loss: 0.0496 - r2_score: 0.8228 - val_loss: 0.0454 - val_r2_score: 0.8305 - learning_rate: 1.2500e-04\n",
            "Epoch 129/300\n",
            "\u001b[1m116/116\u001b[0m \u001b[32m━━━━━━━━━━━━━━━━━━━━\u001b[0m\u001b[37m\u001b[0m \u001b[1m0s\u001b[0m 3ms/step - loss: 0.0504 - r2_score: 0.8185 - val_loss: 0.0463 - val_r2_score: 0.8273 - learning_rate: 1.2500e-04\n",
            "Epoch 130/300\n",
            "\u001b[1m116/116\u001b[0m \u001b[32m━━━━━━━━━━━━━━━━━━━━\u001b[0m\u001b[37m\u001b[0m \u001b[1m0s\u001b[0m 3ms/step - loss: 0.0501 - r2_score: 0.8220 - val_loss: 0.0470 - val_r2_score: 0.8245 - learning_rate: 1.2500e-04\n",
            "Epoch 131/300\n",
            "\u001b[1m116/116\u001b[0m \u001b[32m━━━━━━━━━━━━━━━━━━━━\u001b[0m\u001b[37m\u001b[0m \u001b[1m0s\u001b[0m 3ms/step - loss: 0.0518 - r2_score: 0.8125 - val_loss: 0.0459 - val_r2_score: 0.8288 - learning_rate: 1.2500e-04\n",
            "Epoch 132/300\n",
            "\u001b[1m116/116\u001b[0m \u001b[32m━━━━━━━━━━━━━━━━━━━━\u001b[0m\u001b[37m\u001b[0m \u001b[1m0s\u001b[0m 3ms/step - loss: 0.0497 - r2_score: 0.8222 - val_loss: 0.0459 - val_r2_score: 0.8288 - learning_rate: 1.2500e-04\n",
            "Epoch 133/300\n",
            "\u001b[1m116/116\u001b[0m \u001b[32m━━━━━━━━━━━━━━━━━━━━\u001b[0m\u001b[37m\u001b[0m \u001b[1m0s\u001b[0m 3ms/step - loss: 0.0487 - r2_score: 0.8266 - val_loss: 0.0459 - val_r2_score: 0.8289 - learning_rate: 1.2500e-04\n",
            "Epoch 134/300\n",
            "\u001b[1m116/116\u001b[0m \u001b[32m━━━━━━━━━━━━━━━━━━━━\u001b[0m\u001b[37m\u001b[0m \u001b[1m0s\u001b[0m 3ms/step - loss: 0.0530 - r2_score: 0.8108 - val_loss: 0.0468 - val_r2_score: 0.8254 - learning_rate: 1.2500e-04\n",
            "Epoch 135/300\n",
            "\u001b[1m116/116\u001b[0m \u001b[32m━━━━━━━━━━━━━━━━━━━━\u001b[0m\u001b[37m\u001b[0m \u001b[1m0s\u001b[0m 3ms/step - loss: 0.0498 - r2_score: 0.8192 - val_loss: 0.0480 - val_r2_score: 0.8212 - learning_rate: 1.2500e-04\n",
            "Epoch 136/300\n",
            "\u001b[1m116/116\u001b[0m \u001b[32m━━━━━━━━━━━━━━━━━━━━\u001b[0m\u001b[37m\u001b[0m \u001b[1m0s\u001b[0m 3ms/step - loss: 0.0506 - r2_score: 0.8178 - val_loss: 0.0466 - val_r2_score: 0.8260 - learning_rate: 1.2500e-04\n",
            "Epoch 137/300\n",
            "\u001b[1m116/116\u001b[0m \u001b[32m━━━━━━━━━━━━━━━━━━━━\u001b[0m\u001b[37m\u001b[0m \u001b[1m0s\u001b[0m 3ms/step - loss: 0.0498 - r2_score: 0.8219 - val_loss: 0.0462 - val_r2_score: 0.8278 - learning_rate: 1.2500e-04\n",
            "Epoch 138/300\n",
            "\u001b[1m116/116\u001b[0m \u001b[32m━━━━━━━━━━━━━━━━━━━━\u001b[0m\u001b[37m\u001b[0m \u001b[1m0s\u001b[0m 3ms/step - loss: 0.0509 - r2_score: 0.8159 - val_loss: 0.0474 - val_r2_score: 0.8230 - learning_rate: 1.2500e-04\n",
            "Epoch 139/300\n",
            "\u001b[1m116/116\u001b[0m \u001b[32m━━━━━━━━━━━━━━━━━━━━\u001b[0m\u001b[37m\u001b[0m \u001b[1m0s\u001b[0m 3ms/step - loss: 0.0510 - r2_score: 0.8153 - val_loss: 0.0461 - val_r2_score: 0.8281 - learning_rate: 1.2500e-04\n",
            "Epoch 140/300\n",
            "\u001b[1m116/116\u001b[0m \u001b[32m━━━━━━━━━━━━━━━━━━━━\u001b[0m\u001b[37m\u001b[0m \u001b[1m0s\u001b[0m 3ms/step - loss: 0.0515 - r2_score: 0.8135 - val_loss: 0.0469 - val_r2_score: 0.8249 - learning_rate: 1.2500e-04\n",
            "Epoch 141/300\n",
            "\u001b[1m116/116\u001b[0m \u001b[32m━━━━━━━━━━━━━━━━━━━━\u001b[0m\u001b[37m\u001b[0m \u001b[1m0s\u001b[0m 3ms/step - loss: 0.0504 - r2_score: 0.8162 - val_loss: 0.0475 - val_r2_score: 0.8228 - learning_rate: 1.2500e-04\n",
            "Epoch 142/300\n",
            "\u001b[1m116/116\u001b[0m \u001b[32m━━━━━━━━━━━━━━━━━━━━\u001b[0m\u001b[37m\u001b[0m \u001b[1m0s\u001b[0m 3ms/step - loss: 0.0501 - r2_score: 0.8208 - val_loss: 0.0479 - val_r2_score: 0.8212 - learning_rate: 1.2500e-04\n",
            "Epoch 143/300\n",
            "\u001b[1m116/116\u001b[0m \u001b[32m━━━━━━━━━━━━━━━━━━━━\u001b[0m\u001b[37m\u001b[0m \u001b[1m0s\u001b[0m 3ms/step - loss: 0.0515 - r2_score: 0.8171 - val_loss: 0.0477 - val_r2_score: 0.8223 - learning_rate: 1.2500e-04\n",
            "Epoch 144/300\n",
            "\u001b[1m116/116\u001b[0m \u001b[32m━━━━━━━━━━━━━━━━━━━━\u001b[0m\u001b[37m\u001b[0m \u001b[1m0s\u001b[0m 3ms/step - loss: 0.0501 - r2_score: 0.8208 - val_loss: 0.0473 - val_r2_score: 0.8235 - learning_rate: 6.2500e-05\n",
            "Epoch 145/300\n",
            "\u001b[1m116/116\u001b[0m \u001b[32m━━━━━━━━━━━━━━━━━━━━\u001b[0m\u001b[37m\u001b[0m \u001b[1m0s\u001b[0m 3ms/step - loss: 0.0486 - r2_score: 0.8250 - val_loss: 0.0467 - val_r2_score: 0.8258 - learning_rate: 6.2500e-05\n",
            "Epoch 146/300\n",
            "\u001b[1m116/116\u001b[0m \u001b[32m━━━━━━━━━━━━━━━━━━━━\u001b[0m\u001b[37m\u001b[0m \u001b[1m0s\u001b[0m 3ms/step - loss: 0.0493 - r2_score: 0.8208 - val_loss: 0.0464 - val_r2_score: 0.8269 - learning_rate: 6.2500e-05\n",
            "Epoch 147/300\n",
            "\u001b[1m116/116\u001b[0m \u001b[32m━━━━━━━━━━━━━━━━━━━━\u001b[0m\u001b[37m\u001b[0m \u001b[1m0s\u001b[0m 3ms/step - loss: 0.0517 - r2_score: 0.8118 - val_loss: 0.0467 - val_r2_score: 0.8257 - learning_rate: 6.2500e-05\n",
            "Epoch 148/300\n",
            "\u001b[1m116/116\u001b[0m \u001b[32m━━━━━━━━━━━━━━━━━━━━\u001b[0m\u001b[37m\u001b[0m \u001b[1m0s\u001b[0m 3ms/step - loss: 0.0497 - r2_score: 0.8185 - val_loss: 0.0471 - val_r2_score: 0.8245 - learning_rate: 6.2500e-05\n",
            "Epoch 149/300\n",
            "\u001b[1m116/116\u001b[0m \u001b[32m━━━━━━━━━━━━━━━━━━━━\u001b[0m\u001b[37m\u001b[0m \u001b[1m0s\u001b[0m 3ms/step - loss: 0.0485 - r2_score: 0.8261 - val_loss: 0.0468 - val_r2_score: 0.8255 - learning_rate: 6.2500e-05\n",
            "Epoch 150/300\n",
            "\u001b[1m116/116\u001b[0m \u001b[32m━━━━━━━━━━━━━━━━━━━━\u001b[0m\u001b[37m\u001b[0m \u001b[1m0s\u001b[0m 3ms/step - loss: 0.0504 - r2_score: 0.8171 - val_loss: 0.0473 - val_r2_score: 0.8236 - learning_rate: 6.2500e-05\n",
            "Epoch 151/300\n",
            "\u001b[1m116/116\u001b[0m \u001b[32m━━━━━━━━━━━━━━━━━━━━\u001b[0m\u001b[37m\u001b[0m \u001b[1m0s\u001b[0m 3ms/step - loss: 0.0501 - r2_score: 0.8213 - val_loss: 0.0466 - val_r2_score: 0.8260 - learning_rate: 6.2500e-05\n",
            "Epoch 152/300\n",
            "\u001b[1m116/116\u001b[0m \u001b[32m━━━━━━━━━━━━━━━━━━━━\u001b[0m\u001b[37m\u001b[0m \u001b[1m0s\u001b[0m 3ms/step - loss: 0.0482 - r2_score: 0.8278 - val_loss: 0.0467 - val_r2_score: 0.8259 - learning_rate: 6.2500e-05\n",
            "Epoch 153/300\n",
            "\u001b[1m116/116\u001b[0m \u001b[32m━━━━━━━━━━━━━━━━━━━━\u001b[0m\u001b[37m\u001b[0m \u001b[1m0s\u001b[0m 3ms/step - loss: 0.0470 - r2_score: 0.8288 - val_loss: 0.0464 - val_r2_score: 0.8269 - learning_rate: 6.2500e-05\n",
            "Epoch 154/300\n",
            "\u001b[1m116/116\u001b[0m \u001b[32m━━━━━━━━━━━━━━━━━━━━\u001b[0m\u001b[37m\u001b[0m \u001b[1m0s\u001b[0m 3ms/step - loss: 0.0491 - r2_score: 0.8218 - val_loss: 0.0463 - val_r2_score: 0.8272 - learning_rate: 6.2500e-05\n",
            "Epoch 155/300\n",
            "\u001b[1m116/116\u001b[0m \u001b[32m━━━━━━━━━━━━━━━━━━━━\u001b[0m\u001b[37m\u001b[0m \u001b[1m0s\u001b[0m 3ms/step - loss: 0.0485 - r2_score: 0.8224 - val_loss: 0.0462 - val_r2_score: 0.8276 - learning_rate: 6.2500e-05\n",
            "Epoch 156/300\n",
            "\u001b[1m116/116\u001b[0m \u001b[32m━━━━━━━━━━━━━━━━━━━━\u001b[0m\u001b[37m\u001b[0m \u001b[1m0s\u001b[0m 3ms/step - loss: 0.0503 - r2_score: 0.8177 - val_loss: 0.0466 - val_r2_score: 0.8263 - learning_rate: 6.2500e-05\n",
            "Epoch 157/300\n",
            "\u001b[1m116/116\u001b[0m \u001b[32m━━━━━━━━━━━━━━━━━━━━\u001b[0m\u001b[37m\u001b[0m \u001b[1m0s\u001b[0m 3ms/step - loss: 0.0471 - r2_score: 0.8282 - val_loss: 0.0468 - val_r2_score: 0.8256 - learning_rate: 6.2500e-05\n",
            "Epoch 158/300\n",
            "\u001b[1m116/116\u001b[0m \u001b[32m━━━━━━━━━━━━━━━━━━━━\u001b[0m\u001b[37m\u001b[0m \u001b[1m0s\u001b[0m 3ms/step - loss: 0.0489 - r2_score: 0.8239 - val_loss: 0.0460 - val_r2_score: 0.8283 - learning_rate: 6.2500e-05\n",
            "\u001b[1m58/58\u001b[0m \u001b[32m━━━━━━━━━━━━━━━━━━━━\u001b[0m\u001b[37m\u001b[0m \u001b[1m1s\u001b[0m 7ms/step - loss: 0.0480 - r2_score: 0.8188\n"
          ]
        },
        {
          "output_type": "stream",
          "name": "stderr",
          "text": [
            "WARNING:urllib3.connectionpool:Connection pool is full, discarding connection: dagshub.com. Connection pool size: 10\n"
          ]
        },
        {
          "output_type": "stream",
          "name": "stdout",
          "text": [
            "🏃 View run entertaining-yak-327 at: https://dagshub.com/matteogianferrari/homelens-ca.mlflow/#/experiments/0/runs/a0737aa1a35541d4b9c1717001f90c71\n",
            "🧪 View experiment at: https://dagshub.com/matteogianferrari/homelens-ca.mlflow/#/experiments/0\n"
          ]
        },
        {
          "output_type": "stream",
          "name": "stderr",
          "text": [
            "WARNING:urllib3.connectionpool:Connection pool is full, discarding connection: dagshub.com. Connection pool size: 10\n",
            "2025/01/23 19:48:18 INFO mlflow.system_metrics.system_metrics_monitor: Stopping system metrics monitoring...\n",
            "2025/01/23 19:48:19 INFO mlflow.system_metrics.system_metrics_monitor: Successfully terminated system metrics monitoring!\n"
          ]
        }
      ]
    }
  ]
}