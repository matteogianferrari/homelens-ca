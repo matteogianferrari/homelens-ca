{
  "nbformat": 4,
  "nbformat_minor": 0,
  "metadata": {
    "colab": {
      "provenance": [],
      "gpuType": "A100",
      "authorship_tag": "ABX9TyOhoXGMVbXBl7tQo84BiF8t",
      "include_colab_link": true
    },
    "kernelspec": {
      "name": "python3",
      "display_name": "Python 3"
    },
    "language_info": {
      "name": "python"
    },
    "accelerator": "GPU"
  },
  "cells": [
    {
      "cell_type": "markdown",
      "metadata": {
        "id": "view-in-github",
        "colab_type": "text"
      },
      "source": [
        "<a href=\"https://colab.research.google.com/github/matteogianferrari/homelens-ca/blob/main/model/notebooks/homelens_ca_research.ipynb\" target=\"_parent\"><img src=\"https://colab.research.google.com/assets/colab-badge.svg\" alt=\"Open In Colab\"/></a>"
      ]
    },
    {
      "cell_type": "markdown",
      "source": [
        "# **HomeLens CA DL Model Research**"
      ],
      "metadata": {
        "id": "bIDyq4523mkv"
      }
    },
    {
      "cell_type": "markdown",
      "source": [
        "# **Setup**\n"
      ],
      "metadata": {
        "id": "bjx48x_Z0QWz"
      }
    },
    {
      "cell_type": "markdown",
      "source": [
        "---\n",
        "**OS Environment Variables**"
      ],
      "metadata": {
        "id": "qzmvlJYKyl5v"
      }
    },
    {
      "cell_type": "code",
      "source": [
        "from google.colab import userdata\n",
        "import os\n",
        "\n",
        "# Sets environ variables for GitHub\n",
        "os.environ['GITHUB_TOKEN'] = userdata.get('GITHUB_TOKEN')\n",
        "os.environ['USER'] = userdata.get('USER')\n",
        "\n",
        "# Sets environ variables for MLFlow\n",
        "os.environ['MLFLOW_TRACKING_USERNAME'] = userdata.get('USER')\n",
        "os.environ['MLFLOW_TRACKING_PASSWORD'] = userdata.get('MLFLOW_TRACKING_PASSWORD')"
      ],
      "metadata": {
        "id": "6yOjWgaQyokK"
      },
      "execution_count": 1,
      "outputs": []
    },
    {
      "cell_type": "markdown",
      "source": [
        "---\n",
        "**Libraries Install**"
      ],
      "metadata": {
        "id": "n8utjnot0X7d"
      }
    },
    {
      "cell_type": "code",
      "source": [
        "!pip install dagshub mlflow pynvml --quiet"
      ],
      "metadata": {
        "colab": {
          "base_uri": "https://localhost:8080/"
        },
        "id": "UtbttSVo0fzI",
        "outputId": "04cbaf24-0aee-408a-c518-1edb8886aef7"
      },
      "execution_count": 2,
      "outputs": [
        {
          "output_type": "stream",
          "name": "stdout",
          "text": [
            "\u001b[2K   \u001b[90m━━━━━━━━━━━━━━━━━━━━━━━━━━━━━━━━━━━━━━━━\u001b[0m \u001b[32m258.2/258.2 kB\u001b[0m \u001b[31m18.0 MB/s\u001b[0m eta \u001b[36m0:00:00\u001b[0m\n",
            "\u001b[2K   \u001b[90m━━━━━━━━━━━━━━━━━━━━━━━━━━━━━━━━━━━━━━━━\u001b[0m \u001b[32m28.3/28.3 MB\u001b[0m \u001b[31m74.6 MB/s\u001b[0m eta \u001b[36m0:00:00\u001b[0m\n",
            "\u001b[2K   \u001b[90m━━━━━━━━━━━━━━━━━━━━━━━━━━━━━━━━━━━━━━━━\u001b[0m \u001b[32m6.0/6.0 MB\u001b[0m \u001b[31m103.4 MB/s\u001b[0m eta \u001b[36m0:00:00\u001b[0m\n",
            "\u001b[2K   \u001b[90m━━━━━━━━━━━━━━━━━━━━━━━━━━━━━━━━━━━━━━━━\u001b[0m \u001b[32m233.6/233.6 kB\u001b[0m \u001b[31m12.0 MB/s\u001b[0m eta \u001b[36m0:00:00\u001b[0m\n",
            "\u001b[2K   \u001b[90m━━━━━━━━━━━━━━━━━━━━━━━━━━━━━━━━━━━━━━━━\u001b[0m \u001b[32m147.8/147.8 kB\u001b[0m \u001b[31m8.8 MB/s\u001b[0m eta \u001b[36m0:00:00\u001b[0m\n",
            "\u001b[2K   \u001b[90m━━━━━━━━━━━━━━━━━━━━━━━━━━━━━━━━━━━━━━━━\u001b[0m \u001b[32m114.9/114.9 kB\u001b[0m \u001b[31m9.2 MB/s\u001b[0m eta \u001b[36m0:00:00\u001b[0m\n",
            "\u001b[2K   \u001b[90m━━━━━━━━━━━━━━━━━━━━━━━━━━━━━━━━━━━━━━━━\u001b[0m \u001b[32m85.0/85.0 kB\u001b[0m \u001b[31m7.4 MB/s\u001b[0m eta \u001b[36m0:00:00\u001b[0m\n",
            "\u001b[2K   \u001b[90m━━━━━━━━━━━━━━━━━━━━━━━━━━━━━━━━━━━━━━━━\u001b[0m \u001b[32m40.5/40.5 kB\u001b[0m \u001b[31m3.1 MB/s\u001b[0m eta \u001b[36m0:00:00\u001b[0m\n",
            "\u001b[2K   \u001b[90m━━━━━━━━━━━━━━━━━━━━━━━━━━━━━━━━━━━━━━━━\u001b[0m \u001b[32m139.2/139.2 kB\u001b[0m \u001b[31m12.9 MB/s\u001b[0m eta \u001b[36m0:00:00\u001b[0m\n",
            "\u001b[2K   \u001b[90m━━━━━━━━━━━━━━━━━━━━━━━━━━━━━━━━━━━━━━━━\u001b[0m \u001b[32m13.3/13.3 MB\u001b[0m \u001b[31m108.8 MB/s\u001b[0m eta \u001b[36m0:00:00\u001b[0m\n",
            "\u001b[2K   \u001b[90m━━━━━━━━━━━━━━━━━━━━━━━━━━━━━━━━━━━━━━━━\u001b[0m \u001b[32m637.5/637.5 kB\u001b[0m \u001b[31m39.8 MB/s\u001b[0m eta \u001b[36m0:00:00\u001b[0m\n",
            "\u001b[2K   \u001b[90m━━━━━━━━━━━━━━━━━━━━━━━━━━━━━━━━━━━━━━━━\u001b[0m \u001b[32m203.2/203.2 kB\u001b[0m \u001b[31m16.6 MB/s\u001b[0m eta \u001b[36m0:00:00\u001b[0m\n",
            "\u001b[2K   \u001b[90m━━━━━━━━━━━━━━━━━━━━━━━━━━━━━━━━━━━━━━━━\u001b[0m \u001b[32m50.8/50.8 kB\u001b[0m \u001b[31m4.4 MB/s\u001b[0m eta \u001b[36m0:00:00\u001b[0m\n",
            "\u001b[2K   \u001b[90m━━━━━━━━━━━━━━━━━━━━━━━━━━━━━━━━━━━━━━━━\u001b[0m \u001b[32m84.2/84.2 kB\u001b[0m \u001b[31m6.9 MB/s\u001b[0m eta \u001b[36m0:00:00\u001b[0m\n",
            "\u001b[2K   \u001b[90m━━━━━━━━━━━━━━━━━━━━━━━━━━━━━━━━━━━━━━━━\u001b[0m \u001b[32m74.0/74.0 kB\u001b[0m \u001b[31m6.9 MB/s\u001b[0m eta \u001b[36m0:00:00\u001b[0m\n",
            "\u001b[2K   \u001b[90m━━━━━━━━━━━━━━━━━━━━━━━━━━━━━━━━━━━━━━━━\u001b[0m \u001b[32m78.6/78.6 kB\u001b[0m \u001b[31m7.2 MB/s\u001b[0m eta \u001b[36m0:00:00\u001b[0m\n",
            "\u001b[?25h"
          ]
        }
      ]
    },
    {
      "cell_type": "markdown",
      "source": [
        "---\n",
        "**Libraries imports**"
      ],
      "metadata": {
        "id": "hbCQRwIm0nIS"
      }
    },
    {
      "cell_type": "code",
      "source": [
        "import tensorflow as tf\n",
        "\n",
        "import mlflow\n",
        "from mlflow.tracking import MlflowClient\n",
        "\n",
        "import dagshub\n",
        "\n",
        "import pandas as pd\n",
        "import numpy as np\n",
        "\n",
        "from sklearn.model_selection import train_test_split"
      ],
      "metadata": {
        "id": "YqlzA9ke0oT2"
      },
      "execution_count": 3,
      "outputs": []
    },
    {
      "cell_type": "markdown",
      "source": [
        "---\n",
        "**Dataset import**"
      ],
      "metadata": {
        "id": "f6oTXYvQ1Rfg"
      }
    },
    {
      "cell_type": "code",
      "source": [
        "# Clones the repo and changes dir\n",
        "!git clone https://${GITHUB_TOKEN}@github.com/${USER}/homelens-ca.git\n",
        "%cd homelens-ca/"
      ],
      "metadata": {
        "colab": {
          "base_uri": "https://localhost:8080/"
        },
        "id": "H0ckjtX5e0FG",
        "outputId": "b3d8c721-b37e-42f3-e0e6-bde0cd8e47a5"
      },
      "execution_count": 4,
      "outputs": [
        {
          "output_type": "stream",
          "name": "stdout",
          "text": [
            "Cloning into 'homelens-ca'...\n",
            "remote: Enumerating objects: 34, done.\u001b[K\n",
            "remote: Counting objects: 100% (34/34), done.\u001b[K\n",
            "remote: Compressing objects: 100% (24/24), done.\u001b[K\n",
            "remote: Total 34 (delta 4), reused 31 (delta 4), pack-reused 0 (from 0)\u001b[K\n",
            "Receiving objects: 100% (34/34), 1.93 MiB | 25.96 MiB/s, done.\n",
            "Resolving deltas: 100% (4/4), done.\n",
            "/content/homelens-ca\n"
          ]
        }
      ]
    },
    {
      "cell_type": "code",
      "source": [
        "# Changes dir\n",
        "%cd model/data/dataset\n",
        "\n",
        "# Imports the dataset and the labels\n",
        "X = pd.read_csv('X.csv').to_numpy()\n",
        "y = pd.read_csv('y.csv').to_numpy()\n",
        "\n",
        "# Applies transformation to labels\n",
        "y = np.log1p(y)\n",
        "\n",
        "\n",
        "X_train, X_test, y_train, y_test = train_test_split(X, y, test_size=0.1, random_state=42)"
      ],
      "metadata": {
        "id": "AhVXUeNF1Q7p",
        "colab": {
          "base_uri": "https://localhost:8080/"
        },
        "outputId": "64e77844-fe52-41b8-8409-aa36d098f323"
      },
      "execution_count": 5,
      "outputs": [
        {
          "output_type": "stream",
          "name": "stdout",
          "text": [
            "/content/homelens-ca/model/data/dataset\n"
          ]
        }
      ]
    },
    {
      "cell_type": "markdown",
      "source": [
        "---\n",
        "**DagsHub and MLFlow**"
      ],
      "metadata": {
        "id": "uGIZaSgz0y0r"
      }
    },
    {
      "cell_type": "code",
      "source": [
        "# Init DagsHub\n",
        "dagshub.init(repo_owner='matteogianferrari', repo_name='homelens-ca', mlflow=True)\n",
        "TRACKING_URI = \"https://dagshub.com/matteogianferrari/homelens-ca.mlflow\"\n",
        "\n",
        "# Sets MLFlow tracking URI\n",
        "mlflow.set_tracking_uri(TRACKING_URI)\n",
        "\n",
        "# Sets MLFLow experiment name\n",
        "experiment_name = \"HomeLens CA-DL Research\""
      ],
      "metadata": {
        "colab": {
          "base_uri": "https://localhost:8080/",
          "height": 51
        },
        "id": "h3MLzUJL0yGc",
        "outputId": "028360ea-cfff-4711-fa7c-b5306a406094"
      },
      "execution_count": 11,
      "outputs": [
        {
          "output_type": "display_data",
          "data": {
            "text/plain": [
              "Initialized MLflow to track repo \u001b[32m\"matteogianferrari/homelens-ca\"\u001b[0m\n"
            ],
            "text/html": [
              "<pre style=\"white-space:pre;overflow-x:auto;line-height:normal;font-family:Menlo,'DejaVu Sans Mono',consolas,'Courier New',monospace\">Initialized MLflow to track repo <span style=\"color: #008000; text-decoration-color: #008000\">\"matteogianferrari/homelens-ca\"</span>\n",
              "</pre>\n"
            ]
          },
          "metadata": {}
        },
        {
          "output_type": "display_data",
          "data": {
            "text/plain": [
              "Repository matteogianferrari/homelens-ca initialized!\n"
            ],
            "text/html": [
              "<pre style=\"white-space:pre;overflow-x:auto;line-height:normal;font-family:Menlo,'DejaVu Sans Mono',consolas,'Courier New',monospace\">Repository matteogianferrari/homelens-ca initialized!\n",
              "</pre>\n"
            ]
          },
          "metadata": {}
        }
      ]
    },
    {
      "cell_type": "markdown",
      "source": [
        "# **Research and Training DL Models**"
      ],
      "metadata": {
        "id": "0QOwsFAH1LrH"
      }
    },
    {
      "cell_type": "markdown",
      "source": [
        "---\n",
        "**Model Hyperparameters**\n",
        "\n",
        "Defines the Hyperparameters for the model."
      ],
      "metadata": {
        "id": "hamxE4X-12RM"
      }
    },
    {
      "cell_type": "code",
      "source": [
        "epochs = 400\n",
        "initial_learning_rate = 1e-3\n",
        "minimum_learning_rate = 1e-8\n",
        "patience_es=50\n",
        "patience_lr=15\n",
        "decaying_factor=0.5\n",
        "batch_size=128\n",
        "validation_slip=0.1\n",
        "loss_func='mse'"
      ],
      "metadata": {
        "id": "gWiinI6t157n"
      },
      "execution_count": 12,
      "outputs": []
    },
    {
      "cell_type": "markdown",
      "source": [
        "---\n",
        "**Training and Testing**"
      ],
      "metadata": {
        "id": "SNm4VGx816zo"
      }
    },
    {
      "cell_type": "code",
      "source": [
        "import pynvml\n",
        "\n",
        "# Sets the MLFlow experiment\n",
        "mlflow.set_experiment(experiment_name)\n",
        "\n",
        "# Autolog\n",
        "mlflow.keras.autolog()\n",
        "\n",
        "\n",
        "\n",
        "# Defines the model\n",
        "def build_dynamic_model(input_shape, n_repeats):\n",
        "    \"\"\"\n",
        "    Builds a neural network model using TensorFlow's Functional API with repeated blocks.\n",
        "\n",
        "    Args:\n",
        "        input_shape (tuple): Shape of the input data.\n",
        "        n_repeats (int): Number of times to repeat the block of layers.\n",
        "\n",
        "    Returns:\n",
        "        tf.keras.Model: A compiled Keras model.\n",
        "    \"\"\"\n",
        "    # Input layer\n",
        "    inputs = tf.keras.layers.Input(shape=input_shape)\n",
        "    x = inputs\n",
        "\n",
        "    # Define the repeated block\n",
        "    for _ in range(n_repeats):\n",
        "        x = tf.keras.layers.Dense(512, activation='relu', kernel_initializer='he_normal')(x)\n",
        "        x = tf.keras.layers.BatchNormalization()(x)\n",
        "        x = tf.keras.layers.Dropout(0.2)(x)\n",
        "\n",
        "        x = tf.keras.layers.Dense(256, activation='relu', kernel_initializer='he_normal')(x)\n",
        "        x = tf.keras.layers.BatchNormalization()(x)\n",
        "        x = tf.keras.layers.Dropout(0.2)(x)\n",
        "\n",
        "        x = tf.keras.layers.Dense(128, activation='relu', kernel_initializer='he_normal')(x)\n",
        "        x = tf.keras.layers.BatchNormalization()(x)\n",
        "        x = tf.keras.layers.Dropout(0.2)(x)\n",
        "\n",
        "    x = tf.keras.layers.Dense(64, activation='relu', kernel_initializer='he_normal')(x)\n",
        "    x = tf.keras.layers.BatchNormalization()(x)\n",
        "\n",
        "    # Output layer\n",
        "    outputs = tf.keras.layers.Dense(1)(x)\n",
        "\n",
        "    # Create the model\n",
        "    model = tf.keras.Model(inputs, outputs)\n",
        "    return model\n",
        "\n",
        "# Example usage\n",
        "n_repeats = 3\n",
        "input_shape = (15,)\n",
        "model = build_dynamic_model(input_shape, n_repeats)\n",
        "\n",
        "\n",
        "\n",
        "# Set up a decaying learning rate\n",
        "optimizer = tf.keras.optimizers.Adam(learning_rate=initial_learning_rate)\n",
        "\n",
        "# You can now compile your model using this optimizer\n",
        "model.compile(\n",
        "    optimizer=optimizer,\n",
        "    loss=loss_func,\n",
        "    metrics=['r2_score']\n",
        ")\n",
        "\n",
        "# Creates an Early-Stopping callback\n",
        "es_callback = tf.keras.callbacks.EarlyStopping(\n",
        "    monitor='val_r2_score',\n",
        "    mode='max',\n",
        "    patience=patience_es,\n",
        "    restore_best_weights=True\n",
        ")\n",
        "\n",
        "lr_callback = tf.keras.callbacks.ReduceLROnPlateau(\n",
        "    monitor='val_loss',\n",
        "    factor=decaying_factor,\n",
        "    patience=patience_lr,\n",
        "    min_lr=minimum_learning_rate\n",
        ")\n",
        "\n",
        "\n",
        "# Train the model and log with MLFlow\n",
        "with mlflow.start_run(log_system_metrics=True):\n",
        "    mlflow.log_param(\"patience\", patience_es)\n",
        "    mlflow.log_param(\"loss_func\", loss_func)\n",
        "\n",
        "    history = model.fit(\n",
        "        X_train,\n",
        "        y_train,\n",
        "        batch_size=batch_size,\n",
        "        epochs=epochs,\n",
        "        validation_split=validation_slip,\n",
        "        callbacks=[es_callback, lr_callback]\n",
        "    )\n",
        "\n",
        "    # Test the model and log with MLFlow\n",
        "    test_loss, test_r2_score = model.evaluate(X_test, y_test)\n",
        "    mlflow.log_metric(\"test_loss\", test_loss)\n",
        "    mlflow.log_metric(\"test_r2_score\", test_r2_score)"
      ],
      "metadata": {
        "id": "7SF1a7SQ1yRJ",
        "colab": {
          "base_uri": "https://localhost:8080/",
          "height": 1000
        },
        "outputId": "8b466886-46b3-4b54-dd83-8269f01e1928"
      },
      "execution_count": 13,
      "outputs": [
        {
          "output_type": "stream",
          "name": "stderr",
          "text": [
            "WARNING:urllib3.connectionpool:Retrying (Retry(total=6, connect=7, read=6, redirect=7, status=7)) after connection broken by 'RemoteDisconnected('Remote end closed connection without response')': /matteogianferrari/homelens-ca.mlflow/api/2.0/mlflow/experiments/get-by-name?experiment_name=HomeLens+CA-DL+Research\n",
            "2025/01/24 19:35:28 INFO mlflow.system_metrics.system_metrics_monitor: Started monitoring system metrics.\n"
          ]
        },
        {
          "output_type": "display_data",
          "data": {
            "text/plain": [],
            "text/html": [
              "<pre style=\"white-space:pre;overflow-x:auto;line-height:normal;font-family:Menlo,'DejaVu Sans Mono',consolas,'Courier New',monospace\"></pre>\n"
            ]
          },
          "metadata": {}
        },
        {
          "output_type": "stream",
          "name": "stdout",
          "text": [
            "Epoch 1/400\n",
            "\u001b[1m116/116\u001b[0m \u001b[32m━━━━━━━━━━━━━━━━━━━━\u001b[0m\u001b[37m\u001b[0m \u001b[1m0s\u001b[0m 50ms/step - loss: 136.9767 - r2_score: -487.5059"
          ]
        },
        {
          "output_type": "stream",
          "name": "stderr",
          "text": [
            "WARNING:urllib3.connectionpool:Retrying (Retry(total=6, connect=7, read=6, redirect=7, status=7)) after connection broken by 'RemoteDisconnected('Remote end closed connection without response')': /matteogianferrari/homelens-ca.mlflow/api/2.0/mlflow/runs/log-batch\n"
          ]
        },
        {
          "output_type": "stream",
          "name": "stdout",
          "text": [
            "\b\b\b\b\b\b\b\b\b\b\b\b\b\b\b\b\b\b\b\b\b\b\b\b\b\b\b\b\b\b\b\b\b\b\b\b\b\b\b\b\b\b\b\b\b\b\b\b\b\b\b\b\b\b\b\b\b\b\b\b\b\b\b\b\b\b\b\b\b\b\b\b\b\b\b\b\b\b\b\b\r\u001b[1m116/116\u001b[0m \u001b[32m━━━━━━━━━━━━━━━━━━━━\u001b[0m\u001b[37m\u001b[0m \u001b[1m19s\u001b[0m 60ms/step - loss: 136.8743 - r2_score: -487.1750 - val_loss: 98.4595 - val_r2_score: -366.2347 - learning_rate: 0.0010\n",
            "Epoch 2/400\n",
            "\u001b[1m116/116\u001b[0m \u001b[32m━━━━━━━━━━━━━━━━━━━━\u001b[0m\u001b[37m\u001b[0m \u001b[1m1s\u001b[0m 5ms/step - loss: 74.0857 - r2_score: -267.2707 - val_loss: 24.0057 - val_r2_score: -88.5364 - learning_rate: 0.0010\n",
            "Epoch 3/400\n",
            "\u001b[1m116/116\u001b[0m \u001b[32m━━━━━━━━━━━━━━━━━━━━\u001b[0m\u001b[37m\u001b[0m \u001b[1m1s\u001b[0m 4ms/step - loss: 13.2012 - r2_score: -46.5607 - val_loss: 1.4126 - val_r2_score: -4.2689 - learning_rate: 0.0010\n",
            "Epoch 4/400\n",
            "\u001b[1m116/116\u001b[0m \u001b[32m━━━━━━━━━━━━━━━━━━━━\u001b[0m\u001b[37m\u001b[0m \u001b[1m1s\u001b[0m 5ms/step - loss: 0.5920 - r2_score: -1.1303 - val_loss: 0.1432 - val_r2_score: 0.4659 - learning_rate: 0.0010\n",
            "Epoch 5/400\n",
            "\u001b[1m116/116\u001b[0m \u001b[32m━━━━━━━━━━━━━━━━━━━━\u001b[0m\u001b[37m\u001b[0m \u001b[1m1s\u001b[0m 5ms/step - loss: 0.1723 - r2_score: 0.3773 - val_loss: 0.0882 - val_r2_score: 0.6709 - learning_rate: 0.0010\n",
            "Epoch 6/400\n",
            "\u001b[1m116/116\u001b[0m \u001b[32m━━━━━━━━━━━━━━━━━━━━\u001b[0m\u001b[37m\u001b[0m \u001b[1m1s\u001b[0m 4ms/step - loss: 0.1528 - r2_score: 0.4532 - val_loss: 0.0857 - val_r2_score: 0.6805 - learning_rate: 0.0010\n",
            "Epoch 7/400\n",
            "\u001b[1m116/116\u001b[0m \u001b[32m━━━━━━━━━━━━━━━━━━━━\u001b[0m\u001b[37m\u001b[0m \u001b[1m1s\u001b[0m 5ms/step - loss: 0.1389 - r2_score: 0.5046 - val_loss: 0.0769 - val_r2_score: 0.7131 - learning_rate: 0.0010\n",
            "Epoch 8/400\n",
            "\u001b[1m115/116\u001b[0m \u001b[32m━━━━━━━━━━━━━━━━━━━\u001b[0m\u001b[37m━\u001b[0m \u001b[1m0s\u001b[0m 4ms/step - loss: 0.1259 - r2_score: 0.5458"
          ]
        },
        {
          "output_type": "stream",
          "name": "stderr",
          "text": [
            "WARNING:urllib3.connectionpool:Retrying (Retry(total=6, connect=7, read=6, redirect=7, status=7)) after connection broken by 'RemoteDisconnected('Remote end closed connection without response')': /matteogianferrari/homelens-ca.mlflow/api/2.0/mlflow/runs/log-batch\n"
          ]
        },
        {
          "output_type": "stream",
          "name": "stdout",
          "text": [
            "\b\b\b\b\b\b\b\b\b\b\b\b\b\b\b\b\b\b\b\b\b\b\b\b\b\b\b\b\b\b\b\b\b\b\b\b\b\b\b\b\b\b\b\b\b\b\b\b\b\b\b\b\b\b\b\b\b\b\b\b\b\b\b\b\b\b\b\b\b\b\b\b\b\b\r\u001b[1m116/116\u001b[0m \u001b[32m━━━━━━━━━━━━━━━━━━━━\u001b[0m\u001b[37m\u001b[0m \u001b[1m1s\u001b[0m 4ms/step - loss: 0.1259 - r2_score: 0.5459 - val_loss: 0.0908 - val_r2_score: 0.6612 - learning_rate: 0.0010\n",
            "Epoch 9/400\n",
            "\u001b[1m115/116\u001b[0m \u001b[32m━━━━━━━━━━━━━━━━━━━\u001b[0m\u001b[37m━\u001b[0m \u001b[1m0s\u001b[0m 4ms/step - loss: 0.1193 - r2_score: 0.5714"
          ]
        },
        {
          "output_type": "stream",
          "name": "stderr",
          "text": [
            "WARNING:urllib3.connectionpool:Retrying (Retry(total=6, connect=7, read=6, redirect=7, status=7)) after connection broken by 'RemoteDisconnected('Remote end closed connection without response')': /matteogianferrari/homelens-ca.mlflow/api/2.0/mlflow/runs/log-batch\n"
          ]
        },
        {
          "output_type": "stream",
          "name": "stdout",
          "text": [
            "\b\b\b\b\b\b\b\b\b\b\b\b\b\b\b\b\b\b\b\b\b\b\b\b\b\b\b\b\b\b\b\b\b\b\b\b\b\b\b\b\b\b\b\b\b\b\b\b\b\b\b\b\b\b\b\b\b\b\b\b\b\b\b\b\b\b\b\b\b\b\b\b\b\b\r\u001b[1m116/116\u001b[0m \u001b[32m━━━━━━━━━━━━━━━━━━━━\u001b[0m\u001b[37m\u001b[0m \u001b[1m1s\u001b[0m 4ms/step - loss: 0.1193 - r2_score: 0.5714 - val_loss: 0.0765 - val_r2_score: 0.7147 - learning_rate: 0.0010\n",
            "Epoch 10/400\n",
            "\u001b[1m116/116\u001b[0m \u001b[32m━━━━━━━━━━━━━━━━━━━━\u001b[0m\u001b[37m\u001b[0m \u001b[1m0s\u001b[0m 4ms/step - loss: 0.1159 - r2_score: 0.5853 - val_loss: 0.0767 - val_r2_score: 0.7141 - learning_rate: 0.0010\n",
            "Epoch 11/400\n",
            "\u001b[1m116/116\u001b[0m \u001b[32m━━━━━━━━━━━━━━━━━━━━\u001b[0m\u001b[37m\u001b[0m \u001b[1m1s\u001b[0m 4ms/step - loss: 0.1105 - r2_score: 0.5994 - val_loss: 0.0709 - val_r2_score: 0.7357 - learning_rate: 0.0010\n",
            "Epoch 12/400\n",
            "\u001b[1m116/116\u001b[0m \u001b[32m━━━━━━━━━━━━━━━━━━━━\u001b[0m\u001b[37m\u001b[0m \u001b[1m1s\u001b[0m 4ms/step - loss: 0.1087 - r2_score: 0.6162 - val_loss: 0.0696 - val_r2_score: 0.7404 - learning_rate: 0.0010\n",
            "Epoch 13/400\n",
            "\u001b[1m116/116\u001b[0m \u001b[32m━━━━━━━━━━━━━━━━━━━━\u001b[0m\u001b[37m\u001b[0m \u001b[1m1s\u001b[0m 4ms/step - loss: 0.1052 - r2_score: 0.6188 - val_loss: 0.0669 - val_r2_score: 0.7506 - learning_rate: 0.0010\n",
            "Epoch 14/400\n",
            "\u001b[1m116/116\u001b[0m \u001b[32m━━━━━━━━━━━━━━━━━━━━\u001b[0m\u001b[37m\u001b[0m \u001b[1m0s\u001b[0m 4ms/step - loss: 0.1002 - r2_score: 0.6371 - val_loss: 0.0716 - val_r2_score: 0.7328 - learning_rate: 0.0010\n",
            "Epoch 15/400\n",
            "\u001b[1m116/116\u001b[0m \u001b[32m━━━━━━━━━━━━━━━━━━━━\u001b[0m\u001b[37m\u001b[0m \u001b[1m1s\u001b[0m 4ms/step - loss: 0.1000 - r2_score: 0.6427 - val_loss: 0.0671 - val_r2_score: 0.7497 - learning_rate: 0.0010\n",
            "Epoch 16/400\n",
            "\u001b[1m116/116\u001b[0m \u001b[32m━━━━━━━━━━━━━━━━━━━━\u001b[0m\u001b[37m\u001b[0m \u001b[1m0s\u001b[0m 4ms/step - loss: 0.0951 - r2_score: 0.6603 - val_loss: 0.0821 - val_r2_score: 0.6938 - learning_rate: 0.0010\n",
            "Epoch 17/400\n",
            "\u001b[1m116/116\u001b[0m \u001b[32m━━━━━━━━━━━━━━━━━━━━\u001b[0m\u001b[37m\u001b[0m \u001b[1m1s\u001b[0m 4ms/step - loss: 0.0965 - r2_score: 0.6506 - val_loss: 0.0751 - val_r2_score: 0.7197 - learning_rate: 0.0010\n",
            "Epoch 18/400\n",
            "\u001b[1m116/116\u001b[0m \u001b[32m━━━━━━━━━━━━━━━━━━━━\u001b[0m\u001b[37m\u001b[0m \u001b[1m1s\u001b[0m 4ms/step - loss: 0.0950 - r2_score: 0.6558 - val_loss: 0.0663 - val_r2_score: 0.7525 - learning_rate: 0.0010\n",
            "Epoch 19/400\n",
            "\u001b[1m116/116\u001b[0m \u001b[32m━━━━━━━━━━━━━━━━━━━━\u001b[0m\u001b[37m\u001b[0m \u001b[1m0s\u001b[0m 4ms/step - loss: 0.0929 - r2_score: 0.6662 - val_loss: 0.0634 - val_r2_score: 0.7636 - learning_rate: 0.0010\n",
            "Epoch 20/400\n",
            "\u001b[1m116/116\u001b[0m \u001b[32m━━━━━━━━━━━━━━━━━━━━\u001b[0m\u001b[37m\u001b[0m \u001b[1m1s\u001b[0m 4ms/step - loss: 0.0915 - r2_score: 0.6732 - val_loss: 0.0627 - val_r2_score: 0.7660 - learning_rate: 0.0010\n",
            "Epoch 21/400\n",
            "\u001b[1m116/116\u001b[0m \u001b[32m━━━━━━━━━━━━━━━━━━━━\u001b[0m\u001b[37m\u001b[0m \u001b[1m1s\u001b[0m 4ms/step - loss: 0.0882 - r2_score: 0.6861 - val_loss: 0.0677 - val_r2_score: 0.7474 - learning_rate: 0.0010\n",
            "Epoch 22/400\n",
            "\u001b[1m116/116\u001b[0m \u001b[32m━━━━━━━━━━━━━━━━━━━━\u001b[0m\u001b[37m\u001b[0m \u001b[1m1s\u001b[0m 4ms/step - loss: 0.0855 - r2_score: 0.6926 - val_loss: 0.0643 - val_r2_score: 0.7603 - learning_rate: 0.0010\n",
            "Epoch 23/400\n",
            "\u001b[1m116/116\u001b[0m \u001b[32m━━━━━━━━━━━━━━━━━━━━\u001b[0m\u001b[37m\u001b[0m \u001b[1m0s\u001b[0m 4ms/step - loss: 0.0848 - r2_score: 0.6930 - val_loss: 0.0626 - val_r2_score: 0.7664 - learning_rate: 0.0010\n",
            "Epoch 24/400\n",
            "\u001b[1m116/116\u001b[0m \u001b[32m━━━━━━━━━━━━━━━━━━━━\u001b[0m\u001b[37m\u001b[0m \u001b[1m0s\u001b[0m 4ms/step - loss: 0.0843 - r2_score: 0.6963 - val_loss: 0.0619 - val_r2_score: 0.7693 - learning_rate: 0.0010\n",
            "Epoch 25/400\n",
            "\u001b[1m116/116\u001b[0m \u001b[32m━━━━━━━━━━━━━━━━━━━━\u001b[0m\u001b[37m\u001b[0m \u001b[1m0s\u001b[0m 4ms/step - loss: 0.0862 - r2_score: 0.6934 - val_loss: 0.0614 - val_r2_score: 0.7709 - learning_rate: 0.0010\n",
            "Epoch 26/400\n",
            "\u001b[1m116/116\u001b[0m \u001b[32m━━━━━━━━━━━━━━━━━━━━\u001b[0m\u001b[37m\u001b[0m \u001b[1m1s\u001b[0m 4ms/step - loss: 0.0829 - r2_score: 0.7035 - val_loss: 0.0598 - val_r2_score: 0.7768 - learning_rate: 0.0010\n",
            "Epoch 27/400\n",
            "\u001b[1m116/116\u001b[0m \u001b[32m━━━━━━━━━━━━━━━━━━━━\u001b[0m\u001b[37m\u001b[0m \u001b[1m0s\u001b[0m 4ms/step - loss: 0.0830 - r2_score: 0.7049 - val_loss: 0.0594 - val_r2_score: 0.7784 - learning_rate: 0.0010\n",
            "Epoch 28/400\n",
            "\u001b[1m116/116\u001b[0m \u001b[32m━━━━━━━━━━━━━━━━━━━━\u001b[0m\u001b[37m\u001b[0m \u001b[1m0s\u001b[0m 4ms/step - loss: 0.0838 - r2_score: 0.7024 - val_loss: 0.0618 - val_r2_score: 0.7694 - learning_rate: 0.0010\n",
            "Epoch 29/400\n",
            "\u001b[1m116/116\u001b[0m \u001b[32m━━━━━━━━━━━━━━━━━━━━\u001b[0m\u001b[37m\u001b[0m \u001b[1m0s\u001b[0m 4ms/step - loss: 0.0829 - r2_score: 0.7002 - val_loss: 0.0593 - val_r2_score: 0.7788 - learning_rate: 0.0010\n",
            "Epoch 30/400\n",
            "\u001b[1m116/116\u001b[0m \u001b[32m━━━━━━━━━━━━━━━━━━━━\u001b[0m\u001b[37m\u001b[0m \u001b[1m0s\u001b[0m 4ms/step - loss: 0.0797 - r2_score: 0.7103 - val_loss: 0.0601 - val_r2_score: 0.7759 - learning_rate: 0.0010\n",
            "Epoch 31/400\n",
            "\u001b[1m116/116\u001b[0m \u001b[32m━━━━━━━━━━━━━━━━━━━━\u001b[0m\u001b[37m\u001b[0m \u001b[1m0s\u001b[0m 4ms/step - loss: 0.0795 - r2_score: 0.7154 - val_loss: 0.0604 - val_r2_score: 0.7746 - learning_rate: 0.0010\n",
            "Epoch 32/400\n",
            "\u001b[1m116/116\u001b[0m \u001b[32m━━━━━━━━━━━━━━━━━━━━\u001b[0m\u001b[37m\u001b[0m \u001b[1m0s\u001b[0m 4ms/step - loss: 0.0798 - r2_score: 0.7157 - val_loss: 0.0573 - val_r2_score: 0.7861 - learning_rate: 0.0010\n",
            "Epoch 33/400\n",
            "\u001b[1m116/116\u001b[0m \u001b[32m━━━━━━━━━━━━━━━━━━━━\u001b[0m\u001b[37m\u001b[0m \u001b[1m1s\u001b[0m 4ms/step - loss: 0.0809 - r2_score: 0.7060 - val_loss: 0.0618 - val_r2_score: 0.7694 - learning_rate: 0.0010\n",
            "Epoch 34/400\n",
            "\u001b[1m116/116\u001b[0m \u001b[32m━━━━━━━━━━━━━━━━━━━━\u001b[0m\u001b[37m\u001b[0m \u001b[1m1s\u001b[0m 4ms/step - loss: 0.0791 - r2_score: 0.7149 - val_loss: 0.0551 - val_r2_score: 0.7946 - learning_rate: 0.0010\n",
            "Epoch 35/400\n",
            "\u001b[1m116/116\u001b[0m \u001b[32m━━━━━━━━━━━━━━━━━━━━\u001b[0m\u001b[37m\u001b[0m \u001b[1m0s\u001b[0m 4ms/step - loss: 0.0781 - r2_score: 0.7173 - val_loss: 0.0616 - val_r2_score: 0.7704 - learning_rate: 0.0010\n",
            "Epoch 36/400\n",
            "\u001b[1m116/116\u001b[0m \u001b[32m━━━━━━━━━━━━━━━━━━━━\u001b[0m\u001b[37m\u001b[0m \u001b[1m0s\u001b[0m 4ms/step - loss: 0.0746 - r2_score: 0.7261 - val_loss: 0.0586 - val_r2_score: 0.7813 - learning_rate: 0.0010\n",
            "Epoch 37/400\n",
            "\u001b[1m116/116\u001b[0m \u001b[32m━━━━━━━━━━━━━━━━━━━━\u001b[0m\u001b[37m\u001b[0m \u001b[1m1s\u001b[0m 5ms/step - loss: 0.0748 - r2_score: 0.7298 - val_loss: 0.0585 - val_r2_score: 0.7819 - learning_rate: 0.0010\n",
            "Epoch 38/400\n",
            "\u001b[1m116/116\u001b[0m \u001b[32m━━━━━━━━━━━━━━━━━━━━\u001b[0m\u001b[37m\u001b[0m \u001b[1m1s\u001b[0m 4ms/step - loss: 0.0730 - r2_score: 0.7345 - val_loss: 0.0577 - val_r2_score: 0.7849 - learning_rate: 0.0010\n",
            "Epoch 39/400\n",
            "\u001b[1m116/116\u001b[0m \u001b[32m━━━━━━━━━━━━━━━━━━━━\u001b[0m\u001b[37m\u001b[0m \u001b[1m1s\u001b[0m 4ms/step - loss: 0.0736 - r2_score: 0.7334 - val_loss: 0.0571 - val_r2_score: 0.7872 - learning_rate: 0.0010\n",
            "Epoch 40/400\n",
            "\u001b[1m116/116\u001b[0m \u001b[32m━━━━━━━━━━━━━━━━━━━━\u001b[0m\u001b[37m\u001b[0m \u001b[1m1s\u001b[0m 5ms/step - loss: 0.0741 - r2_score: 0.7348 - val_loss: 0.0559 - val_r2_score: 0.7916 - learning_rate: 0.0010\n",
            "Epoch 41/400\n",
            "\u001b[1m116/116\u001b[0m \u001b[32m━━━━━━━━━━━━━━━━━━━━\u001b[0m\u001b[37m\u001b[0m \u001b[1m0s\u001b[0m 4ms/step - loss: 0.0742 - r2_score: 0.7310 - val_loss: 0.0559 - val_r2_score: 0.7915 - learning_rate: 0.0010\n",
            "Epoch 42/400\n",
            "\u001b[1m116/116\u001b[0m \u001b[32m━━━━━━━━━━━━━━━━━━━━\u001b[0m\u001b[37m\u001b[0m \u001b[1m0s\u001b[0m 4ms/step - loss: 0.0716 - r2_score: 0.7443 - val_loss: 0.0657 - val_r2_score: 0.7548 - learning_rate: 0.0010\n",
            "Epoch 43/400\n",
            "\u001b[1m116/116\u001b[0m \u001b[32m━━━━━━━━━━━━━━━━━━━━\u001b[0m\u001b[37m\u001b[0m \u001b[1m0s\u001b[0m 4ms/step - loss: 0.0737 - r2_score: 0.7328 - val_loss: 0.0612 - val_r2_score: 0.7718 - learning_rate: 0.0010\n",
            "Epoch 44/400\n",
            "\u001b[1m116/116\u001b[0m \u001b[32m━━━━━━━━━━━━━━━━━━━━\u001b[0m\u001b[37m\u001b[0m \u001b[1m0s\u001b[0m 4ms/step - loss: 0.0741 - r2_score: 0.7326 - val_loss: 0.0574 - val_r2_score: 0.7859 - learning_rate: 0.0010\n",
            "Epoch 45/400\n",
            "\u001b[1m116/116\u001b[0m \u001b[32m━━━━━━━━━━━━━━━━━━━━\u001b[0m\u001b[37m\u001b[0m \u001b[1m0s\u001b[0m 4ms/step - loss: 0.0737 - r2_score: 0.7301 - val_loss: 0.0569 - val_r2_score: 0.7877 - learning_rate: 0.0010\n",
            "Epoch 46/400\n",
            "\u001b[1m116/116\u001b[0m \u001b[32m━━━━━━━━━━━━━━━━━━━━\u001b[0m\u001b[37m\u001b[0m \u001b[1m1s\u001b[0m 4ms/step - loss: 0.0701 - r2_score: 0.7507 - val_loss: 0.0538 - val_r2_score: 0.7994 - learning_rate: 0.0010\n",
            "Epoch 47/400\n",
            "\u001b[1m116/116\u001b[0m \u001b[32m━━━━━━━━━━━━━━━━━━━━\u001b[0m\u001b[37m\u001b[0m \u001b[1m1s\u001b[0m 4ms/step - loss: 0.0724 - r2_score: 0.7441 - val_loss: 0.0565 - val_r2_score: 0.7892 - learning_rate: 0.0010\n",
            "Epoch 48/400\n",
            "\u001b[1m116/116\u001b[0m \u001b[32m━━━━━━━━━━━━━━━━━━━━\u001b[0m\u001b[37m\u001b[0m \u001b[1m0s\u001b[0m 4ms/step - loss: 0.0724 - r2_score: 0.7371 - val_loss: 0.0572 - val_r2_score: 0.7868 - learning_rate: 0.0010\n",
            "Epoch 49/400\n",
            "\u001b[1m116/116\u001b[0m \u001b[32m━━━━━━━━━━━━━━━━━━━━\u001b[0m\u001b[37m\u001b[0m \u001b[1m0s\u001b[0m 4ms/step - loss: 0.0693 - r2_score: 0.7531 - val_loss: 0.0551 - val_r2_score: 0.7944 - learning_rate: 0.0010\n",
            "Epoch 50/400\n",
            "\u001b[1m116/116\u001b[0m \u001b[32m━━━━━━━━━━━━━━━━━━━━\u001b[0m\u001b[37m\u001b[0m \u001b[1m1s\u001b[0m 5ms/step - loss: 0.0733 - r2_score: 0.7370 - val_loss: 0.0537 - val_r2_score: 0.7998 - learning_rate: 0.0010\n",
            "Epoch 51/400\n",
            "\u001b[1m116/116\u001b[0m \u001b[32m━━━━━━━━━━━━━━━━━━━━\u001b[0m\u001b[37m\u001b[0m \u001b[1m0s\u001b[0m 4ms/step - loss: 0.0702 - r2_score: 0.7506 - val_loss: 0.0579 - val_r2_score: 0.7839 - learning_rate: 0.0010\n",
            "Epoch 52/400\n",
            "\u001b[1m116/116\u001b[0m \u001b[32m━━━━━━━━━━━━━━━━━━━━\u001b[0m\u001b[37m\u001b[0m \u001b[1m1s\u001b[0m 4ms/step - loss: 0.0687 - r2_score: 0.7530 - val_loss: 0.0539 - val_r2_score: 0.7991 - learning_rate: 0.0010\n",
            "Epoch 53/400\n",
            "\u001b[1m116/116\u001b[0m \u001b[32m━━━━━━━━━━━━━━━━━━━━\u001b[0m\u001b[37m\u001b[0m \u001b[1m1s\u001b[0m 4ms/step - loss: 0.0677 - r2_score: 0.7544 - val_loss: 0.0546 - val_r2_score: 0.7962 - learning_rate: 0.0010\n",
            "Epoch 54/400\n",
            "\u001b[1m116/116\u001b[0m \u001b[32m━━━━━━━━━━━━━━━━━━━━\u001b[0m\u001b[37m\u001b[0m \u001b[1m0s\u001b[0m 4ms/step - loss: 0.0680 - r2_score: 0.7561 - val_loss: 0.0527 - val_r2_score: 0.8036 - learning_rate: 0.0010\n",
            "Epoch 55/400\n",
            "\u001b[1m116/116\u001b[0m \u001b[32m━━━━━━━━━━━━━━━━━━━━\u001b[0m\u001b[37m\u001b[0m \u001b[1m0s\u001b[0m 4ms/step - loss: 0.0663 - r2_score: 0.7574 - val_loss: 0.0565 - val_r2_score: 0.7894 - learning_rate: 0.0010\n",
            "Epoch 56/400\n",
            "\u001b[1m116/116\u001b[0m \u001b[32m━━━━━━━━━━━━━━━━━━━━\u001b[0m\u001b[37m\u001b[0m \u001b[1m0s\u001b[0m 4ms/step - loss: 0.0671 - r2_score: 0.7569 - val_loss: 0.0547 - val_r2_score: 0.7960 - learning_rate: 0.0010\n",
            "Epoch 57/400\n",
            "\u001b[1m116/116\u001b[0m \u001b[32m━━━━━━━━━━━━━━━━━━━━\u001b[0m\u001b[37m\u001b[0m \u001b[1m0s\u001b[0m 4ms/step - loss: 0.0704 - r2_score: 0.7463 - val_loss: 0.0533 - val_r2_score: 0.8010 - learning_rate: 0.0010\n",
            "Epoch 58/400\n",
            "\u001b[1m116/116\u001b[0m \u001b[32m━━━━━━━━━━━━━━━━━━━━\u001b[0m\u001b[37m\u001b[0m \u001b[1m0s\u001b[0m 4ms/step - loss: 0.0693 - r2_score: 0.7488 - val_loss: 0.0538 - val_r2_score: 0.7994 - learning_rate: 0.0010\n",
            "Epoch 59/400\n",
            "\u001b[1m116/116\u001b[0m \u001b[32m━━━━━━━━━━━━━━━━━━━━\u001b[0m\u001b[37m\u001b[0m \u001b[1m0s\u001b[0m 4ms/step - loss: 0.0647 - r2_score: 0.7635 - val_loss: 0.0547 - val_r2_score: 0.7959 - learning_rate: 0.0010\n",
            "Epoch 60/400\n",
            "\u001b[1m116/116\u001b[0m \u001b[32m━━━━━━━━━━━━━━━━━━━━\u001b[0m\u001b[37m\u001b[0m \u001b[1m0s\u001b[0m 4ms/step - loss: 0.0665 - r2_score: 0.7604 - val_loss: 0.0512 - val_r2_score: 0.8089 - learning_rate: 0.0010\n",
            "Epoch 61/400\n",
            "\u001b[1m116/116\u001b[0m \u001b[32m━━━━━━━━━━━━━━━━━━━━\u001b[0m\u001b[37m\u001b[0m \u001b[1m1s\u001b[0m 4ms/step - loss: 0.0651 - r2_score: 0.7650 - val_loss: 0.0582 - val_r2_score: 0.7831 - learning_rate: 0.0010\n",
            "Epoch 62/400\n",
            "\u001b[1m116/116\u001b[0m \u001b[32m━━━━━━━━━━━━━━━━━━━━\u001b[0m\u001b[37m\u001b[0m \u001b[1m1s\u001b[0m 4ms/step - loss: 0.0671 - r2_score: 0.7587 - val_loss: 0.0521 - val_r2_score: 0.8057 - learning_rate: 0.0010\n",
            "Epoch 63/400\n",
            "\u001b[1m116/116\u001b[0m \u001b[32m━━━━━━━━━━━━━━━━━━━━\u001b[0m\u001b[37m\u001b[0m \u001b[1m1s\u001b[0m 4ms/step - loss: 0.0649 - r2_score: 0.7665 - val_loss: 0.0567 - val_r2_score: 0.7884 - learning_rate: 0.0010\n",
            "Epoch 64/400\n",
            "\u001b[1m116/116\u001b[0m \u001b[32m━━━━━━━━━━━━━━━━━━━━\u001b[0m\u001b[37m\u001b[0m \u001b[1m1s\u001b[0m 4ms/step - loss: 0.0671 - r2_score: 0.7595 - val_loss: 0.0546 - val_r2_score: 0.7963 - learning_rate: 0.0010\n",
            "Epoch 65/400\n",
            "\u001b[1m116/116\u001b[0m \u001b[32m━━━━━━━━━━━━━━━━━━━━\u001b[0m\u001b[37m\u001b[0m \u001b[1m1s\u001b[0m 4ms/step - loss: 0.0647 - r2_score: 0.7657 - val_loss: 0.0608 - val_r2_score: 0.7733 - learning_rate: 0.0010\n",
            "Epoch 66/400\n",
            "\u001b[1m116/116\u001b[0m \u001b[32m━━━━━━━━━━━━━━━━━━━━\u001b[0m\u001b[37m\u001b[0m \u001b[1m0s\u001b[0m 4ms/step - loss: 0.0666 - r2_score: 0.7605 - val_loss: 0.0558 - val_r2_score: 0.7919 - learning_rate: 0.0010\n",
            "Epoch 67/400\n",
            "\u001b[1m116/116\u001b[0m \u001b[32m━━━━━━━━━━━━━━━━━━━━\u001b[0m\u001b[37m\u001b[0m \u001b[1m0s\u001b[0m 4ms/step - loss: 0.0670 - r2_score: 0.7589 - val_loss: 0.0542 - val_r2_score: 0.7980 - learning_rate: 0.0010\n",
            "Epoch 68/400\n",
            "\u001b[1m116/116\u001b[0m \u001b[32m━━━━━━━━━━━━━━━━━━━━\u001b[0m\u001b[37m\u001b[0m \u001b[1m0s\u001b[0m 4ms/step - loss: 0.0660 - r2_score: 0.7618 - val_loss: 0.0536 - val_r2_score: 0.7999 - learning_rate: 0.0010\n",
            "Epoch 69/400\n",
            "\u001b[1m116/116\u001b[0m \u001b[32m━━━━━━━━━━━━━━━━━━━━\u001b[0m\u001b[37m\u001b[0m \u001b[1m0s\u001b[0m 4ms/step - loss: 0.0671 - r2_score: 0.7589 - val_loss: 0.0514 - val_r2_score: 0.8082 - learning_rate: 0.0010\n",
            "Epoch 70/400\n",
            "\u001b[1m116/116\u001b[0m \u001b[32m━━━━━━━━━━━━━━━━━━━━\u001b[0m\u001b[37m\u001b[0m \u001b[1m1s\u001b[0m 4ms/step - loss: 0.0648 - r2_score: 0.7686 - val_loss: 0.0549 - val_r2_score: 0.7951 - learning_rate: 0.0010\n",
            "Epoch 71/400\n",
            "\u001b[1m116/116\u001b[0m \u001b[32m━━━━━━━━━━━━━━━━━━━━\u001b[0m\u001b[37m\u001b[0m \u001b[1m0s\u001b[0m 4ms/step - loss: 0.0634 - r2_score: 0.7698 - val_loss: 0.0523 - val_r2_score: 0.8051 - learning_rate: 0.0010\n",
            "Epoch 72/400\n",
            "\u001b[1m116/116\u001b[0m \u001b[32m━━━━━━━━━━━━━━━━━━━━\u001b[0m\u001b[37m\u001b[0m \u001b[1m1s\u001b[0m 4ms/step - loss: 0.0644 - r2_score: 0.7704 - val_loss: 0.0516 - val_r2_score: 0.8075 - learning_rate: 0.0010\n",
            "Epoch 73/400\n",
            "\u001b[1m116/116\u001b[0m \u001b[32m━━━━━━━━━━━━━━━━━━━━\u001b[0m\u001b[37m\u001b[0m \u001b[1m1s\u001b[0m 4ms/step - loss: 0.0640 - r2_score: 0.7670 - val_loss: 0.0528 - val_r2_score: 0.8032 - learning_rate: 0.0010\n",
            "Epoch 74/400\n",
            "\u001b[1m116/116\u001b[0m \u001b[32m━━━━━━━━━━━━━━━━━━━━\u001b[0m\u001b[37m\u001b[0m \u001b[1m1s\u001b[0m 5ms/step - loss: 0.0631 - r2_score: 0.7749 - val_loss: 0.0496 - val_r2_score: 0.8149 - learning_rate: 0.0010\n",
            "Epoch 75/400\n",
            "\u001b[1m116/116\u001b[0m \u001b[32m━━━━━━━━━━━━━━━━━━━━\u001b[0m\u001b[37m\u001b[0m \u001b[1m1s\u001b[0m 4ms/step - loss: 0.0586 - r2_score: 0.7878 - val_loss: 0.0529 - val_r2_score: 0.8029 - learning_rate: 0.0010\n",
            "Epoch 76/400\n",
            "\u001b[1m116/116\u001b[0m \u001b[32m━━━━━━━━━━━━━━━━━━━━\u001b[0m\u001b[37m\u001b[0m \u001b[1m1s\u001b[0m 4ms/step - loss: 0.0613 - r2_score: 0.7799 - val_loss: 0.0505 - val_r2_score: 0.8116 - learning_rate: 0.0010\n",
            "Epoch 77/400\n",
            "\u001b[1m116/116\u001b[0m \u001b[32m━━━━━━━━━━━━━━━━━━━━\u001b[0m\u001b[37m\u001b[0m \u001b[1m0s\u001b[0m 4ms/step - loss: 0.0587 - r2_score: 0.7905 - val_loss: 0.0546 - val_r2_score: 0.7965 - learning_rate: 0.0010\n",
            "Epoch 78/400\n",
            "\u001b[1m116/116\u001b[0m \u001b[32m━━━━━━━━━━━━━━━━━━━━\u001b[0m\u001b[37m\u001b[0m \u001b[1m0s\u001b[0m 4ms/step - loss: 0.0600 - r2_score: 0.7825 - val_loss: 0.0514 - val_r2_score: 0.8084 - learning_rate: 0.0010\n",
            "Epoch 79/400\n",
            "\u001b[1m116/116\u001b[0m \u001b[32m━━━━━━━━━━━━━━━━━━━━\u001b[0m\u001b[37m\u001b[0m \u001b[1m0s\u001b[0m 4ms/step - loss: 0.0624 - r2_score: 0.7709 - val_loss: 0.0495 - val_r2_score: 0.8152 - learning_rate: 0.0010\n",
            "Epoch 80/400\n",
            "\u001b[1m116/116\u001b[0m \u001b[32m━━━━━━━━━━━━━━━━━━━━\u001b[0m\u001b[37m\u001b[0m \u001b[1m0s\u001b[0m 4ms/step - loss: 0.0615 - r2_score: 0.7773 - val_loss: 0.0527 - val_r2_score: 0.8034 - learning_rate: 0.0010\n",
            "Epoch 81/400\n",
            "\u001b[1m116/116\u001b[0m \u001b[32m━━━━━━━━━━━━━━━━━━━━\u001b[0m\u001b[37m\u001b[0m \u001b[1m1s\u001b[0m 4ms/step - loss: 0.0594 - r2_score: 0.7838 - val_loss: 0.0580 - val_r2_score: 0.7838 - learning_rate: 0.0010\n",
            "Epoch 82/400\n",
            "\u001b[1m116/116\u001b[0m \u001b[32m━━━━━━━━━━━━━━━━━━━━\u001b[0m\u001b[37m\u001b[0m \u001b[1m0s\u001b[0m 4ms/step - loss: 0.0613 - r2_score: 0.7790 - val_loss: 0.0554 - val_r2_score: 0.7934 - learning_rate: 0.0010\n",
            "Epoch 83/400\n",
            "\u001b[1m116/116\u001b[0m \u001b[32m━━━━━━━━━━━━━━━━━━━━\u001b[0m\u001b[37m\u001b[0m \u001b[1m0s\u001b[0m 4ms/step - loss: 0.0610 - r2_score: 0.7801 - val_loss: 0.0522 - val_r2_score: 0.8053 - learning_rate: 0.0010\n",
            "Epoch 84/400\n",
            "\u001b[1m116/116\u001b[0m \u001b[32m━━━━━━━━━━━━━━━━━━━━\u001b[0m\u001b[37m\u001b[0m \u001b[1m1s\u001b[0m 4ms/step - loss: 0.0593 - r2_score: 0.7869 - val_loss: 0.0496 - val_r2_score: 0.8149 - learning_rate: 0.0010\n",
            "Epoch 85/400\n",
            "\u001b[1m116/116\u001b[0m \u001b[32m━━━━━━━━━━━━━━━━━━━━\u001b[0m\u001b[37m\u001b[0m \u001b[1m1s\u001b[0m 4ms/step - loss: 0.0588 - r2_score: 0.7872 - val_loss: 0.0586 - val_r2_score: 0.7816 - learning_rate: 0.0010\n",
            "Epoch 86/400\n",
            "\u001b[1m116/116\u001b[0m \u001b[32m━━━━━━━━━━━━━━━━━━━━\u001b[0m\u001b[37m\u001b[0m \u001b[1m0s\u001b[0m 4ms/step - loss: 0.0584 - r2_score: 0.7864 - val_loss: 0.0536 - val_r2_score: 0.8002 - learning_rate: 0.0010\n",
            "Epoch 87/400\n",
            "\u001b[1m116/116\u001b[0m \u001b[32m━━━━━━━━━━━━━━━━━━━━\u001b[0m\u001b[37m\u001b[0m \u001b[1m1s\u001b[0m 4ms/step - loss: 0.0601 - r2_score: 0.7825 - val_loss: 0.0514 - val_r2_score: 0.8083 - learning_rate: 0.0010\n",
            "Epoch 88/400\n",
            "\u001b[1m116/116\u001b[0m \u001b[32m━━━━━━━━━━━━━━━━━━━━\u001b[0m\u001b[37m\u001b[0m \u001b[1m0s\u001b[0m 4ms/step - loss: 0.0607 - r2_score: 0.7845 - val_loss: 0.0499 - val_r2_score: 0.8138 - learning_rate: 0.0010\n",
            "Epoch 89/400\n",
            "\u001b[1m116/116\u001b[0m \u001b[32m━━━━━━━━━━━━━━━━━━━━\u001b[0m\u001b[37m\u001b[0m \u001b[1m1s\u001b[0m 4ms/step - loss: 0.0589 - r2_score: 0.7888 - val_loss: 0.0509 - val_r2_score: 0.8102 - learning_rate: 0.0010\n",
            "Epoch 90/400\n",
            "\u001b[1m116/116\u001b[0m \u001b[32m━━━━━━━━━━━━━━━━━━━━\u001b[0m\u001b[37m\u001b[0m \u001b[1m0s\u001b[0m 4ms/step - loss: 0.0578 - r2_score: 0.7924 - val_loss: 0.0465 - val_r2_score: 0.8266 - learning_rate: 5.0000e-04\n",
            "Epoch 91/400\n",
            "\u001b[1m116/116\u001b[0m \u001b[32m━━━━━━━━━━━━━━━━━━━━\u001b[0m\u001b[37m\u001b[0m \u001b[1m0s\u001b[0m 4ms/step - loss: 0.0549 - r2_score: 0.8003 - val_loss: 0.0497 - val_r2_score: 0.8148 - learning_rate: 5.0000e-04\n",
            "Epoch 92/400\n",
            "\u001b[1m116/116\u001b[0m \u001b[32m━━━━━━━━━━━━━━━━━━━━\u001b[0m\u001b[37m\u001b[0m \u001b[1m0s\u001b[0m 4ms/step - loss: 0.0539 - r2_score: 0.8077 - val_loss: 0.0472 - val_r2_score: 0.8240 - learning_rate: 5.0000e-04\n",
            "Epoch 93/400\n",
            "\u001b[1m116/116\u001b[0m \u001b[32m━━━━━━━━━━━━━━━━━━━━\u001b[0m\u001b[37m\u001b[0m \u001b[1m1s\u001b[0m 4ms/step - loss: 0.0543 - r2_score: 0.8047 - val_loss: 0.0475 - val_r2_score: 0.8230 - learning_rate: 5.0000e-04\n",
            "Epoch 94/400\n",
            "\u001b[1m116/116\u001b[0m \u001b[32m━━━━━━━━━━━━━━━━━━━━\u001b[0m\u001b[37m\u001b[0m \u001b[1m0s\u001b[0m 4ms/step - loss: 0.0530 - r2_score: 0.8073 - val_loss: 0.0493 - val_r2_score: 0.8159 - learning_rate: 5.0000e-04\n",
            "Epoch 95/400\n",
            "\u001b[1m116/116\u001b[0m \u001b[32m━━━━━━━━━━━━━━━━━━━━\u001b[0m\u001b[37m\u001b[0m \u001b[1m1s\u001b[0m 4ms/step - loss: 0.0524 - r2_score: 0.8104 - val_loss: 0.0489 - val_r2_score: 0.8175 - learning_rate: 5.0000e-04\n",
            "Epoch 96/400\n",
            "\u001b[1m116/116\u001b[0m \u001b[32m━━━━━━━━━━━━━━━━━━━━\u001b[0m\u001b[37m\u001b[0m \u001b[1m1s\u001b[0m 4ms/step - loss: 0.0532 - r2_score: 0.8073 - val_loss: 0.0472 - val_r2_score: 0.8239 - learning_rate: 5.0000e-04\n",
            "Epoch 97/400\n",
            "\u001b[1m116/116\u001b[0m \u001b[32m━━━━━━━━━━━━━━━━━━━━\u001b[0m\u001b[37m\u001b[0m \u001b[1m1s\u001b[0m 4ms/step - loss: 0.0539 - r2_score: 0.8086 - val_loss: 0.0456 - val_r2_score: 0.8297 - learning_rate: 5.0000e-04\n",
            "Epoch 98/400\n",
            "\u001b[1m116/116\u001b[0m \u001b[32m━━━━━━━━━━━━━━━━━━━━\u001b[0m\u001b[37m\u001b[0m \u001b[1m1s\u001b[0m 4ms/step - loss: 0.0556 - r2_score: 0.7996 - val_loss: 0.0470 - val_r2_score: 0.8246 - learning_rate: 5.0000e-04\n",
            "Epoch 99/400\n",
            "\u001b[1m116/116\u001b[0m \u001b[32m━━━━━━━━━━━━━━━━━━━━\u001b[0m\u001b[37m\u001b[0m \u001b[1m0s\u001b[0m 4ms/step - loss: 0.0532 - r2_score: 0.8092 - val_loss: 0.0481 - val_r2_score: 0.8206 - learning_rate: 5.0000e-04\n",
            "Epoch 100/400\n",
            "\u001b[1m116/116\u001b[0m \u001b[32m━━━━━━━━━━━━━━━━━━━━\u001b[0m\u001b[37m\u001b[0m \u001b[1m0s\u001b[0m 4ms/step - loss: 0.0540 - r2_score: 0.8055 - val_loss: 0.0467 - val_r2_score: 0.8257 - learning_rate: 5.0000e-04\n",
            "Epoch 101/400\n",
            "\u001b[1m116/116\u001b[0m \u001b[32m━━━━━━━━━━━━━━━━━━━━\u001b[0m\u001b[37m\u001b[0m \u001b[1m1s\u001b[0m 4ms/step - loss: 0.0556 - r2_score: 0.8004 - val_loss: 0.0468 - val_r2_score: 0.8256 - learning_rate: 5.0000e-04\n",
            "Epoch 102/400\n",
            "\u001b[1m116/116\u001b[0m \u001b[32m━━━━━━━━━━━━━━━━━━━━\u001b[0m\u001b[37m\u001b[0m \u001b[1m1s\u001b[0m 4ms/step - loss: 0.0520 - r2_score: 0.8087 - val_loss: 0.0461 - val_r2_score: 0.8282 - learning_rate: 5.0000e-04\n",
            "Epoch 103/400\n",
            "\u001b[1m116/116\u001b[0m \u001b[32m━━━━━━━━━━━━━━━━━━━━\u001b[0m\u001b[37m\u001b[0m \u001b[1m1s\u001b[0m 4ms/step - loss: 0.0522 - r2_score: 0.8118 - val_loss: 0.0494 - val_r2_score: 0.8158 - learning_rate: 5.0000e-04\n",
            "Epoch 104/400\n",
            "\u001b[1m116/116\u001b[0m \u001b[32m━━━━━━━━━━━━━━━━━━━━\u001b[0m\u001b[37m\u001b[0m \u001b[1m0s\u001b[0m 4ms/step - loss: 0.0549 - r2_score: 0.8039 - val_loss: 0.0527 - val_r2_score: 0.8033 - learning_rate: 5.0000e-04\n",
            "Epoch 105/400\n",
            "\u001b[1m116/116\u001b[0m \u001b[32m━━━━━━━━━━━━━━━━━━━━\u001b[0m\u001b[37m\u001b[0m \u001b[1m0s\u001b[0m 4ms/step - loss: 0.0541 - r2_score: 0.8081 - val_loss: 0.0467 - val_r2_score: 0.8257 - learning_rate: 5.0000e-04\n",
            "Epoch 106/400\n",
            "\u001b[1m116/116\u001b[0m \u001b[32m━━━━━━━━━━━━━━━━━━━━\u001b[0m\u001b[37m\u001b[0m \u001b[1m0s\u001b[0m 4ms/step - loss: 0.0532 - r2_score: 0.8109 - val_loss: 0.0488 - val_r2_score: 0.8180 - learning_rate: 5.0000e-04\n",
            "Epoch 107/400\n",
            "\u001b[1m116/116\u001b[0m \u001b[32m━━━━━━━━━━━━━━━━━━━━\u001b[0m\u001b[37m\u001b[0m \u001b[1m0s\u001b[0m 4ms/step - loss: 0.0523 - r2_score: 0.8119 - val_loss: 0.0501 - val_r2_score: 0.8132 - learning_rate: 5.0000e-04\n",
            "Epoch 108/400\n",
            "\u001b[1m116/116\u001b[0m \u001b[32m━━━━━━━━━━━━━━━━━━━━\u001b[0m\u001b[37m\u001b[0m \u001b[1m0s\u001b[0m 4ms/step - loss: 0.0522 - r2_score: 0.8096 - val_loss: 0.0487 - val_r2_score: 0.8184 - learning_rate: 5.0000e-04\n",
            "Epoch 109/400\n",
            "\u001b[1m116/116\u001b[0m \u001b[32m━━━━━━━━━━━━━━━━━━━━\u001b[0m\u001b[37m\u001b[0m \u001b[1m1s\u001b[0m 4ms/step - loss: 0.0517 - r2_score: 0.8117 - val_loss: 0.0469 - val_r2_score: 0.8250 - learning_rate: 5.0000e-04\n",
            "Epoch 110/400\n",
            "\u001b[1m116/116\u001b[0m \u001b[32m━━━━━━━━━━━━━━━━━━━━\u001b[0m\u001b[37m\u001b[0m \u001b[1m1s\u001b[0m 4ms/step - loss: 0.0551 - r2_score: 0.8028 - val_loss: 0.0492 - val_r2_score: 0.8165 - learning_rate: 5.0000e-04\n",
            "Epoch 111/400\n",
            "\u001b[1m116/116\u001b[0m \u001b[32m━━━━━━━━━━━━━━━━━━━━\u001b[0m\u001b[37m\u001b[0m \u001b[1m0s\u001b[0m 4ms/step - loss: 0.0512 - r2_score: 0.8165 - val_loss: 0.0466 - val_r2_score: 0.8262 - learning_rate: 5.0000e-04\n",
            "Epoch 112/400\n",
            "\u001b[1m116/116\u001b[0m \u001b[32m━━━━━━━━━━━━━━━━━━━━\u001b[0m\u001b[37m\u001b[0m \u001b[1m1s\u001b[0m 4ms/step - loss: 0.0527 - r2_score: 0.8139 - val_loss: 0.0493 - val_r2_score: 0.8162 - learning_rate: 5.0000e-04\n",
            "Epoch 113/400\n",
            "\u001b[1m116/116\u001b[0m \u001b[32m━━━━━━━━━━━━━━━━━━━━\u001b[0m\u001b[37m\u001b[0m \u001b[1m0s\u001b[0m 4ms/step - loss: 0.0523 - r2_score: 0.8091 - val_loss: 0.0457 - val_r2_score: 0.8296 - learning_rate: 2.5000e-04\n",
            "Epoch 114/400\n",
            "\u001b[1m116/116\u001b[0m \u001b[32m━━━━━━━━━━━━━━━━━━━━\u001b[0m\u001b[37m\u001b[0m \u001b[1m0s\u001b[0m 4ms/step - loss: 0.0504 - r2_score: 0.8197 - val_loss: 0.0473 - val_r2_score: 0.8237 - learning_rate: 2.5000e-04\n",
            "Epoch 115/400\n",
            "\u001b[1m116/116\u001b[0m \u001b[32m━━━━━━━━━━━━━━━━━━━━\u001b[0m\u001b[37m\u001b[0m \u001b[1m1s\u001b[0m 4ms/step - loss: 0.0499 - r2_score: 0.8217 - val_loss: 0.0456 - val_r2_score: 0.8300 - learning_rate: 2.5000e-04\n",
            "Epoch 116/400\n",
            "\u001b[1m116/116\u001b[0m \u001b[32m━━━━━━━━━━━━━━━━━━━━\u001b[0m\u001b[37m\u001b[0m \u001b[1m0s\u001b[0m 4ms/step - loss: 0.0500 - r2_score: 0.8212 - val_loss: 0.0464 - val_r2_score: 0.8269 - learning_rate: 2.5000e-04\n",
            "Epoch 117/400\n",
            "\u001b[1m116/116\u001b[0m \u001b[32m━━━━━━━━━━━━━━━━━━━━\u001b[0m\u001b[37m\u001b[0m \u001b[1m1s\u001b[0m 4ms/step - loss: 0.0499 - r2_score: 0.8203 - val_loss: 0.0458 - val_r2_score: 0.8292 - learning_rate: 2.5000e-04\n",
            "Epoch 118/400\n",
            "\u001b[1m116/116\u001b[0m \u001b[32m━━━━━━━━━━━━━━━━━━━━\u001b[0m\u001b[37m\u001b[0m \u001b[1m1s\u001b[0m 4ms/step - loss: 0.0497 - r2_score: 0.8190 - val_loss: 0.0456 - val_r2_score: 0.8300 - learning_rate: 2.5000e-04\n",
            "Epoch 119/400\n",
            "\u001b[1m116/116\u001b[0m \u001b[32m━━━━━━━━━━━━━━━━━━━━\u001b[0m\u001b[37m\u001b[0m \u001b[1m1s\u001b[0m 4ms/step - loss: 0.0499 - r2_score: 0.8220 - val_loss: 0.0458 - val_r2_score: 0.8293 - learning_rate: 2.5000e-04\n",
            "Epoch 120/400\n",
            "\u001b[1m116/116\u001b[0m \u001b[32m━━━━━━━━━━━━━━━━━━━━\u001b[0m\u001b[37m\u001b[0m \u001b[1m1s\u001b[0m 4ms/step - loss: 0.0510 - r2_score: 0.8170 - val_loss: 0.0485 - val_r2_score: 0.8191 - learning_rate: 2.5000e-04\n",
            "Epoch 121/400\n",
            "\u001b[1m116/116\u001b[0m \u001b[32m━━━━━━━━━━━━━━━━━━━━\u001b[0m\u001b[37m\u001b[0m \u001b[1m0s\u001b[0m 4ms/step - loss: 0.0499 - r2_score: 0.8197 - val_loss: 0.0475 - val_r2_score: 0.8229 - learning_rate: 2.5000e-04\n",
            "Epoch 122/400\n",
            "\u001b[1m116/116\u001b[0m \u001b[32m━━━━━━━━━━━━━━━━━━━━\u001b[0m\u001b[37m\u001b[0m \u001b[1m1s\u001b[0m 4ms/step - loss: 0.0513 - r2_score: 0.8157 - val_loss: 0.0481 - val_r2_score: 0.8206 - learning_rate: 2.5000e-04\n",
            "Epoch 123/400\n",
            "\u001b[1m116/116\u001b[0m \u001b[32m━━━━━━━━━━━━━━━━━━━━\u001b[0m\u001b[37m\u001b[0m \u001b[1m0s\u001b[0m 4ms/step - loss: 0.0488 - r2_score: 0.8223 - val_loss: 0.0480 - val_r2_score: 0.8208 - learning_rate: 2.5000e-04\n",
            "Epoch 124/400\n",
            "\u001b[1m116/116\u001b[0m \u001b[32m━━━━━━━━━━━━━━━━━━━━\u001b[0m\u001b[37m\u001b[0m \u001b[1m0s\u001b[0m 4ms/step - loss: 0.0503 - r2_score: 0.8214 - val_loss: 0.0479 - val_r2_score: 0.8214 - learning_rate: 2.5000e-04\n",
            "Epoch 125/400\n",
            "\u001b[1m116/116\u001b[0m \u001b[32m━━━━━━━━━━━━━━━━━━━━\u001b[0m\u001b[37m\u001b[0m \u001b[1m1s\u001b[0m 4ms/step - loss: 0.0481 - r2_score: 0.8277 - val_loss: 0.0467 - val_r2_score: 0.8256 - learning_rate: 2.5000e-04\n",
            "Epoch 126/400\n",
            "\u001b[1m116/116\u001b[0m \u001b[32m━━━━━━━━━━━━━━━━━━━━\u001b[0m\u001b[37m\u001b[0m \u001b[1m1s\u001b[0m 5ms/step - loss: 0.0499 - r2_score: 0.8225 - val_loss: 0.0472 - val_r2_score: 0.8238 - learning_rate: 2.5000e-04\n",
            "Epoch 127/400\n",
            "\u001b[1m116/116\u001b[0m \u001b[32m━━━━━━━━━━━━━━━━━━━━\u001b[0m\u001b[37m\u001b[0m \u001b[1m1s\u001b[0m 4ms/step - loss: 0.0493 - r2_score: 0.8223 - val_loss: 0.0466 - val_r2_score: 0.8261 - learning_rate: 2.5000e-04\n",
            "Epoch 128/400\n",
            "\u001b[1m116/116\u001b[0m \u001b[32m━━━━━━━━━━━━━━━━━━━━\u001b[0m\u001b[37m\u001b[0m \u001b[1m1s\u001b[0m 4ms/step - loss: 0.0473 - r2_score: 0.8279 - val_loss: 0.0461 - val_r2_score: 0.8281 - learning_rate: 1.2500e-04\n",
            "Epoch 129/400\n",
            "\u001b[1m116/116\u001b[0m \u001b[32m━━━━━━━━━━━━━━━━━━━━\u001b[0m\u001b[37m\u001b[0m \u001b[1m1s\u001b[0m 4ms/step - loss: 0.0483 - r2_score: 0.8258 - val_loss: 0.0458 - val_r2_score: 0.8291 - learning_rate: 1.2500e-04\n",
            "Epoch 130/400\n",
            "\u001b[1m116/116\u001b[0m \u001b[32m━━━━━━━━━━━━━━━━━━━━\u001b[0m\u001b[37m\u001b[0m \u001b[1m1s\u001b[0m 4ms/step - loss: 0.0484 - r2_score: 0.8267 - val_loss: 0.0464 - val_r2_score: 0.8269 - learning_rate: 1.2500e-04\n",
            "Epoch 131/400\n",
            "\u001b[1m116/116\u001b[0m \u001b[32m━━━━━━━━━━━━━━━━━━━━\u001b[0m\u001b[37m\u001b[0m \u001b[1m1s\u001b[0m 5ms/step - loss: 0.0479 - r2_score: 0.8263 - val_loss: 0.0491 - val_r2_score: 0.8170 - learning_rate: 1.2500e-04\n",
            "Epoch 132/400\n",
            "\u001b[1m116/116\u001b[0m \u001b[32m━━━━━━━━━━━━━━━━━━━━\u001b[0m\u001b[37m\u001b[0m \u001b[1m0s\u001b[0m 4ms/step - loss: 0.0476 - r2_score: 0.8278 - val_loss: 0.0467 - val_r2_score: 0.8257 - learning_rate: 1.2500e-04\n",
            "Epoch 133/400\n",
            "\u001b[1m116/116\u001b[0m \u001b[32m━━━━━━━━━━━━━━━━━━━━\u001b[0m\u001b[37m\u001b[0m \u001b[1m1s\u001b[0m 4ms/step - loss: 0.0479 - r2_score: 0.8254 - val_loss: 0.0462 - val_r2_score: 0.8277 - learning_rate: 1.2500e-04\n",
            "Epoch 134/400\n",
            "\u001b[1m116/116\u001b[0m \u001b[32m━━━━━━━━━━━━━━━━━━━━\u001b[0m\u001b[37m\u001b[0m \u001b[1m0s\u001b[0m 4ms/step - loss: 0.0482 - r2_score: 0.8269 - val_loss: 0.0458 - val_r2_score: 0.8292 - learning_rate: 1.2500e-04\n",
            "Epoch 135/400\n",
            "\u001b[1m116/116\u001b[0m \u001b[32m━━━━━━━━━━━━━━━━━━━━\u001b[0m\u001b[37m\u001b[0m \u001b[1m0s\u001b[0m 4ms/step - loss: 0.0462 - r2_score: 0.8345 - val_loss: 0.0457 - val_r2_score: 0.8295 - learning_rate: 1.2500e-04\n",
            "Epoch 136/400\n",
            "\u001b[1m116/116\u001b[0m \u001b[32m━━━━━━━━━━━━━━━━━━━━\u001b[0m\u001b[37m\u001b[0m \u001b[1m0s\u001b[0m 4ms/step - loss: 0.0479 - r2_score: 0.8285 - val_loss: 0.0465 - val_r2_score: 0.8266 - learning_rate: 1.2500e-04\n",
            "Epoch 137/400\n",
            "\u001b[1m116/116\u001b[0m \u001b[32m━━━━━━━━━━━━━━━━━━━━\u001b[0m\u001b[37m\u001b[0m \u001b[1m0s\u001b[0m 4ms/step - loss: 0.0482 - r2_score: 0.8276 - val_loss: 0.0462 - val_r2_score: 0.8276 - learning_rate: 1.2500e-04\n",
            "Epoch 138/400\n",
            "\u001b[1m116/116\u001b[0m \u001b[32m━━━━━━━━━━━━━━━━━━━━\u001b[0m\u001b[37m\u001b[0m \u001b[1m0s\u001b[0m 4ms/step - loss: 0.0457 - r2_score: 0.8353 - val_loss: 0.0461 - val_r2_score: 0.8279 - learning_rate: 1.2500e-04\n",
            "Epoch 139/400\n",
            "\u001b[1m116/116\u001b[0m \u001b[32m━━━━━━━━━━━━━━━━━━━━\u001b[0m\u001b[37m\u001b[0m \u001b[1m0s\u001b[0m 4ms/step - loss: 0.0460 - r2_score: 0.8360 - val_loss: 0.0468 - val_r2_score: 0.8255 - learning_rate: 1.2500e-04\n",
            "Epoch 140/400\n",
            "\u001b[1m116/116\u001b[0m \u001b[32m━━━━━━━━━━━━━━━━━━━━\u001b[0m\u001b[37m\u001b[0m \u001b[1m1s\u001b[0m 4ms/step - loss: 0.0485 - r2_score: 0.8275 - val_loss: 0.0451 - val_r2_score: 0.8318 - learning_rate: 1.2500e-04\n",
            "Epoch 141/400\n",
            "\u001b[1m116/116\u001b[0m \u001b[32m━━━━━━━━━━━━━━━━━━━━\u001b[0m\u001b[37m\u001b[0m \u001b[1m1s\u001b[0m 4ms/step - loss: 0.0487 - r2_score: 0.8229 - val_loss: 0.0455 - val_r2_score: 0.8302 - learning_rate: 1.2500e-04\n",
            "Epoch 142/400\n",
            "\u001b[1m116/116\u001b[0m \u001b[32m━━━━━━━━━━━━━━━━━━━━\u001b[0m\u001b[37m\u001b[0m \u001b[1m1s\u001b[0m 4ms/step - loss: 0.0463 - r2_score: 0.8324 - val_loss: 0.0463 - val_r2_score: 0.8274 - learning_rate: 1.2500e-04\n",
            "Epoch 143/400\n",
            "\u001b[1m116/116\u001b[0m \u001b[32m━━━━━━━━━━━━━━━━━━━━\u001b[0m\u001b[37m\u001b[0m \u001b[1m1s\u001b[0m 4ms/step - loss: 0.0497 - r2_score: 0.8214 - val_loss: 0.0457 - val_r2_score: 0.8294 - learning_rate: 1.2500e-04\n",
            "Epoch 144/400\n",
            "\u001b[1m116/116\u001b[0m \u001b[32m━━━━━━━━━━━━━━━━━━━━\u001b[0m\u001b[37m\u001b[0m \u001b[1m1s\u001b[0m 4ms/step - loss: 0.0462 - r2_score: 0.8334 - val_loss: 0.0465 - val_r2_score: 0.8265 - learning_rate: 1.2500e-04\n",
            "Epoch 145/400\n",
            "\u001b[1m116/116\u001b[0m \u001b[32m━━━━━━━━━━━━━━━━━━━━\u001b[0m\u001b[37m\u001b[0m \u001b[1m1s\u001b[0m 4ms/step - loss: 0.0463 - r2_score: 0.8349 - val_loss: 0.0461 - val_r2_score: 0.8279 - learning_rate: 1.2500e-04\n",
            "Epoch 146/400\n",
            "\u001b[1m116/116\u001b[0m \u001b[32m━━━━━━━━━━━━━━━━━━━━\u001b[0m\u001b[37m\u001b[0m \u001b[1m1s\u001b[0m 4ms/step - loss: 0.0453 - r2_score: 0.8380 - val_loss: 0.0466 - val_r2_score: 0.8261 - learning_rate: 1.2500e-04\n",
            "Epoch 147/400\n",
            "\u001b[1m116/116\u001b[0m \u001b[32m━━━━━━━━━━━━━━━━━━━━\u001b[0m\u001b[37m\u001b[0m \u001b[1m0s\u001b[0m 4ms/step - loss: 0.0474 - r2_score: 0.8285 - val_loss: 0.0467 - val_r2_score: 0.8258 - learning_rate: 1.2500e-04\n",
            "Epoch 148/400\n",
            "\u001b[1m116/116\u001b[0m \u001b[32m━━━━━━━━━━━━━━━━━━━━\u001b[0m\u001b[37m\u001b[0m \u001b[1m1s\u001b[0m 4ms/step - loss: 0.0471 - r2_score: 0.8310 - val_loss: 0.0460 - val_r2_score: 0.8284 - learning_rate: 1.2500e-04\n",
            "Epoch 149/400\n",
            "\u001b[1m116/116\u001b[0m \u001b[32m━━━━━━━━━━━━━━━━━━━━\u001b[0m\u001b[37m\u001b[0m \u001b[1m1s\u001b[0m 4ms/step - loss: 0.0468 - r2_score: 0.8282 - val_loss: 0.0463 - val_r2_score: 0.8271 - learning_rate: 1.2500e-04\n",
            "Epoch 150/400\n",
            "\u001b[1m116/116\u001b[0m \u001b[32m━━━━━━━━━━━━━━━━━━━━\u001b[0m\u001b[37m\u001b[0m \u001b[1m1s\u001b[0m 4ms/step - loss: 0.0475 - r2_score: 0.8276 - val_loss: 0.0456 - val_r2_score: 0.8300 - learning_rate: 1.2500e-04\n",
            "Epoch 151/400\n",
            "\u001b[1m116/116\u001b[0m \u001b[32m━━━━━━━━━━━━━━━━━━━━\u001b[0m\u001b[37m\u001b[0m \u001b[1m0s\u001b[0m 4ms/step - loss: 0.0472 - r2_score: 0.8288 - val_loss: 0.0476 - val_r2_score: 0.8226 - learning_rate: 1.2500e-04\n",
            "Epoch 152/400\n",
            "\u001b[1m116/116\u001b[0m \u001b[32m━━━━━━━━━━━━━━━━━━━━\u001b[0m\u001b[37m\u001b[0m \u001b[1m0s\u001b[0m 4ms/step - loss: 0.0445 - r2_score: 0.8390 - val_loss: 0.0491 - val_r2_score: 0.8169 - learning_rate: 1.2500e-04\n",
            "Epoch 153/400\n",
            "\u001b[1m116/116\u001b[0m \u001b[32m━━━━━━━━━━━━━━━━━━━━\u001b[0m\u001b[37m\u001b[0m \u001b[1m0s\u001b[0m 4ms/step - loss: 0.0462 - r2_score: 0.8366 - val_loss: 0.0474 - val_r2_score: 0.8230 - learning_rate: 1.2500e-04\n",
            "Epoch 154/400\n",
            "\u001b[1m116/116\u001b[0m \u001b[32m━━━━━━━━━━━━━━━━━━━━\u001b[0m\u001b[37m\u001b[0m \u001b[1m0s\u001b[0m 4ms/step - loss: 0.0472 - r2_score: 0.8340 - val_loss: 0.0462 - val_r2_score: 0.8278 - learning_rate: 1.2500e-04\n",
            "Epoch 155/400\n",
            "\u001b[1m116/116\u001b[0m \u001b[32m━━━━━━━━━━━━━━━━━━━━\u001b[0m\u001b[37m\u001b[0m \u001b[1m0s\u001b[0m 4ms/step - loss: 0.0470 - r2_score: 0.8310 - val_loss: 0.0476 - val_r2_score: 0.8224 - learning_rate: 1.2500e-04\n",
            "Epoch 156/400\n",
            "\u001b[1m116/116\u001b[0m \u001b[32m━━━━━━━━━━━━━━━━━━━━\u001b[0m\u001b[37m\u001b[0m \u001b[1m0s\u001b[0m 4ms/step - loss: 0.0448 - r2_score: 0.8365 - val_loss: 0.0463 - val_r2_score: 0.8271 - learning_rate: 6.2500e-05\n",
            "Epoch 157/400\n",
            "\u001b[1m116/116\u001b[0m \u001b[32m━━━━━━━━━━━━━━━━━━━━\u001b[0m\u001b[37m\u001b[0m \u001b[1m0s\u001b[0m 4ms/step - loss: 0.0461 - r2_score: 0.8345 - val_loss: 0.0455 - val_r2_score: 0.8302 - learning_rate: 6.2500e-05\n",
            "Epoch 158/400\n",
            "\u001b[1m116/116\u001b[0m \u001b[32m━━━━━━━━━━━━━━━━━━━━\u001b[0m\u001b[37m\u001b[0m \u001b[1m0s\u001b[0m 4ms/step - loss: 0.0481 - r2_score: 0.8283 - val_loss: 0.0464 - val_r2_score: 0.8269 - learning_rate: 6.2500e-05\n",
            "Epoch 159/400\n",
            "\u001b[1m116/116\u001b[0m \u001b[32m━━━━━━━━━━━━━━━━━━━━\u001b[0m\u001b[37m\u001b[0m \u001b[1m0s\u001b[0m 4ms/step - loss: 0.0451 - r2_score: 0.8391 - val_loss: 0.0464 - val_r2_score: 0.8268 - learning_rate: 6.2500e-05\n",
            "Epoch 160/400\n",
            "\u001b[1m116/116\u001b[0m \u001b[32m━━━━━━━━━━━━━━━━━━━━\u001b[0m\u001b[37m\u001b[0m \u001b[1m0s\u001b[0m 4ms/step - loss: 0.0455 - r2_score: 0.8326 - val_loss: 0.0457 - val_r2_score: 0.8297 - learning_rate: 6.2500e-05\n",
            "Epoch 161/400\n",
            "\u001b[1m116/116\u001b[0m \u001b[32m━━━━━━━━━━━━━━━━━━━━\u001b[0m\u001b[37m\u001b[0m \u001b[1m0s\u001b[0m 4ms/step - loss: 0.0483 - r2_score: 0.8294 - val_loss: 0.0461 - val_r2_score: 0.8282 - learning_rate: 6.2500e-05\n",
            "Epoch 162/400\n",
            "\u001b[1m116/116\u001b[0m \u001b[32m━━━━━━━━━━━━━━━━━━━━\u001b[0m\u001b[37m\u001b[0m \u001b[1m0s\u001b[0m 4ms/step - loss: 0.0442 - r2_score: 0.8368 - val_loss: 0.0455 - val_r2_score: 0.8303 - learning_rate: 6.2500e-05\n",
            "Epoch 163/400\n",
            "\u001b[1m116/116\u001b[0m \u001b[32m━━━━━━━━━━━━━━━━━━━━\u001b[0m\u001b[37m\u001b[0m \u001b[1m0s\u001b[0m 4ms/step - loss: 0.0465 - r2_score: 0.8343 - val_loss: 0.0462 - val_r2_score: 0.8277 - learning_rate: 6.2500e-05\n",
            "Epoch 164/400\n",
            "\u001b[1m116/116\u001b[0m \u001b[32m━━━━━━━━━━━━━━━━━━━━\u001b[0m\u001b[37m\u001b[0m \u001b[1m0s\u001b[0m 4ms/step - loss: 0.0461 - r2_score: 0.8335 - val_loss: 0.0461 - val_r2_score: 0.8279 - learning_rate: 6.2500e-05\n",
            "Epoch 165/400\n",
            "\u001b[1m116/116\u001b[0m \u001b[32m━━━━━━━━━━━━━━━━━━━━\u001b[0m\u001b[37m\u001b[0m \u001b[1m0s\u001b[0m 4ms/step - loss: 0.0469 - r2_score: 0.8306 - val_loss: 0.0467 - val_r2_score: 0.8260 - learning_rate: 6.2500e-05\n",
            "Epoch 166/400\n",
            "\u001b[1m116/116\u001b[0m \u001b[32m━━━━━━━━━━━━━━━━━━━━\u001b[0m\u001b[37m\u001b[0m \u001b[1m0s\u001b[0m 4ms/step - loss: 0.0465 - r2_score: 0.8337 - val_loss: 0.0460 - val_r2_score: 0.8284 - learning_rate: 6.2500e-05\n",
            "Epoch 167/400\n",
            "\u001b[1m116/116\u001b[0m \u001b[32m━━━━━━━━━━━━━━━━━━━━\u001b[0m\u001b[37m\u001b[0m \u001b[1m0s\u001b[0m 4ms/step - loss: 0.0451 - r2_score: 0.8380 - val_loss: 0.0450 - val_r2_score: 0.8322 - learning_rate: 6.2500e-05\n",
            "Epoch 168/400\n",
            "\u001b[1m116/116\u001b[0m \u001b[32m━━━━━━━━━━━━━━━━━━━━\u001b[0m\u001b[37m\u001b[0m \u001b[1m0s\u001b[0m 4ms/step - loss: 0.0450 - r2_score: 0.8383 - val_loss: 0.0461 - val_r2_score: 0.8280 - learning_rate: 6.2500e-05\n",
            "Epoch 169/400\n",
            "\u001b[1m116/116\u001b[0m \u001b[32m━━━━━━━━━━━━━━━━━━━━\u001b[0m\u001b[37m\u001b[0m \u001b[1m0s\u001b[0m 4ms/step - loss: 0.0482 - r2_score: 0.8305 - val_loss: 0.0456 - val_r2_score: 0.8301 - learning_rate: 6.2500e-05\n",
            "Epoch 170/400\n",
            "\u001b[1m116/116\u001b[0m \u001b[32m━━━━━━━━━━━━━━━━━━━━\u001b[0m\u001b[37m\u001b[0m \u001b[1m0s\u001b[0m 4ms/step - loss: 0.0470 - r2_score: 0.8316 - val_loss: 0.0456 - val_r2_score: 0.8299 - learning_rate: 6.2500e-05\n",
            "Epoch 171/400\n",
            "\u001b[1m116/116\u001b[0m \u001b[32m━━━━━━━━━━━━━━━━━━━━\u001b[0m\u001b[37m\u001b[0m \u001b[1m0s\u001b[0m 4ms/step - loss: 0.0463 - r2_score: 0.8315 - val_loss: 0.0462 - val_r2_score: 0.8279 - learning_rate: 6.2500e-05\n",
            "Epoch 172/400\n",
            "\u001b[1m116/116\u001b[0m \u001b[32m━━━━━━━━━━━━━━━━━━━━\u001b[0m\u001b[37m\u001b[0m \u001b[1m0s\u001b[0m 4ms/step - loss: 0.0457 - r2_score: 0.8367 - val_loss: 0.0465 - val_r2_score: 0.8264 - learning_rate: 6.2500e-05\n",
            "Epoch 173/400\n",
            "\u001b[1m116/116\u001b[0m \u001b[32m━━━━━━━━━━━━━━━━━━━━\u001b[0m\u001b[37m\u001b[0m \u001b[1m0s\u001b[0m 4ms/step - loss: 0.0445 - r2_score: 0.8396 - val_loss: 0.0467 - val_r2_score: 0.8259 - learning_rate: 6.2500e-05\n",
            "Epoch 174/400\n",
            "\u001b[1m116/116\u001b[0m \u001b[32m━━━━━━━━━━━━━━━━━━━━\u001b[0m\u001b[37m\u001b[0m \u001b[1m0s\u001b[0m 4ms/step - loss: 0.0436 - r2_score: 0.8426 - val_loss: 0.0467 - val_r2_score: 0.8259 - learning_rate: 6.2500e-05\n",
            "Epoch 175/400\n",
            "\u001b[1m116/116\u001b[0m \u001b[32m━━━━━━━━━━━━━━━━━━━━\u001b[0m\u001b[37m\u001b[0m \u001b[1m0s\u001b[0m 4ms/step - loss: 0.0458 - r2_score: 0.8353 - val_loss: 0.0464 - val_r2_score: 0.8268 - learning_rate: 6.2500e-05\n",
            "Epoch 176/400\n",
            "\u001b[1m116/116\u001b[0m \u001b[32m━━━━━━━━━━━━━━━━━━━━\u001b[0m\u001b[37m\u001b[0m \u001b[1m0s\u001b[0m 4ms/step - loss: 0.0452 - r2_score: 0.8384 - val_loss: 0.0469 - val_r2_score: 0.8251 - learning_rate: 6.2500e-05\n",
            "Epoch 177/400\n",
            "\u001b[1m116/116\u001b[0m \u001b[32m━━━━━━━━━━━━━━━━━━━━\u001b[0m\u001b[37m\u001b[0m \u001b[1m0s\u001b[0m 4ms/step - loss: 0.0442 - r2_score: 0.8403 - val_loss: 0.0464 - val_r2_score: 0.8268 - learning_rate: 6.2500e-05\n",
            "Epoch 178/400\n",
            "\u001b[1m116/116\u001b[0m \u001b[32m━━━━━━━━━━━━━━━━━━━━\u001b[0m\u001b[37m\u001b[0m \u001b[1m0s\u001b[0m 4ms/step - loss: 0.0462 - r2_score: 0.8330 - val_loss: 0.0478 - val_r2_score: 0.8217 - learning_rate: 6.2500e-05\n",
            "Epoch 179/400\n",
            "\u001b[1m116/116\u001b[0m \u001b[32m━━━━━━━━━━━━━━━━━━━━\u001b[0m\u001b[37m\u001b[0m \u001b[1m0s\u001b[0m 4ms/step - loss: 0.0462 - r2_score: 0.8359 - val_loss: 0.0464 - val_r2_score: 0.8268 - learning_rate: 6.2500e-05\n",
            "Epoch 180/400\n",
            "\u001b[1m116/116\u001b[0m \u001b[32m━━━━━━━━━━━━━━━━━━━━\u001b[0m\u001b[37m\u001b[0m \u001b[1m0s\u001b[0m 4ms/step - loss: 0.0468 - r2_score: 0.8344 - val_loss: 0.0467 - val_r2_score: 0.8260 - learning_rate: 6.2500e-05\n",
            "Epoch 181/400\n",
            "\u001b[1m116/116\u001b[0m \u001b[32m━━━━━━━━━━━━━━━━━━━━\u001b[0m\u001b[37m\u001b[0m \u001b[1m1s\u001b[0m 4ms/step - loss: 0.0469 - r2_score: 0.8324 - val_loss: 0.0461 - val_r2_score: 0.8282 - learning_rate: 6.2500e-05\n",
            "Epoch 182/400\n",
            "\u001b[1m116/116\u001b[0m \u001b[32m━━━━━━━━━━━━━━━━━━━━\u001b[0m\u001b[37m\u001b[0m \u001b[1m0s\u001b[0m 4ms/step - loss: 0.0467 - r2_score: 0.8334 - val_loss: 0.0464 - val_r2_score: 0.8270 - learning_rate: 6.2500e-05\n",
            "Epoch 183/400\n",
            "\u001b[1m116/116\u001b[0m \u001b[32m━━━━━━━━━━━━━━━━━━━━\u001b[0m\u001b[37m\u001b[0m \u001b[1m0s\u001b[0m 4ms/step - loss: 0.0446 - r2_score: 0.8404 - val_loss: 0.0461 - val_r2_score: 0.8279 - learning_rate: 3.1250e-05\n",
            "Epoch 184/400\n",
            "\u001b[1m116/116\u001b[0m \u001b[32m━━━━━━━━━━━━━━━━━━━━\u001b[0m\u001b[37m\u001b[0m \u001b[1m0s\u001b[0m 4ms/step - loss: 0.0444 - r2_score: 0.8392 - val_loss: 0.0461 - val_r2_score: 0.8279 - learning_rate: 3.1250e-05\n",
            "Epoch 185/400\n",
            "\u001b[1m116/116\u001b[0m \u001b[32m━━━━━━━━━━━━━━━━━━━━\u001b[0m\u001b[37m\u001b[0m \u001b[1m0s\u001b[0m 4ms/step - loss: 0.0453 - r2_score: 0.8377 - val_loss: 0.0463 - val_r2_score: 0.8272 - learning_rate: 3.1250e-05\n",
            "Epoch 186/400\n",
            "\u001b[1m116/116\u001b[0m \u001b[32m━━━━━━━━━━━━━━━━━━━━\u001b[0m\u001b[37m\u001b[0m \u001b[1m0s\u001b[0m 4ms/step - loss: 0.0466 - r2_score: 0.8331 - val_loss: 0.0463 - val_r2_score: 0.8272 - learning_rate: 3.1250e-05\n",
            "Epoch 187/400\n",
            "\u001b[1m116/116\u001b[0m \u001b[32m━━━━━━━━━━━━━━━━━━━━\u001b[0m\u001b[37m\u001b[0m \u001b[1m0s\u001b[0m 4ms/step - loss: 0.0453 - r2_score: 0.8347 - val_loss: 0.0463 - val_r2_score: 0.8275 - learning_rate: 3.1250e-05\n",
            "Epoch 188/400\n",
            "\u001b[1m116/116\u001b[0m \u001b[32m━━━━━━━━━━━━━━━━━━━━\u001b[0m\u001b[37m\u001b[0m \u001b[1m0s\u001b[0m 4ms/step - loss: 0.0463 - r2_score: 0.8356 - val_loss: 0.0468 - val_r2_score: 0.8254 - learning_rate: 3.1250e-05\n",
            "Epoch 189/400\n",
            "\u001b[1m116/116\u001b[0m \u001b[32m━━━━━━━━━━━━━━━━━━━━\u001b[0m\u001b[37m\u001b[0m \u001b[1m0s\u001b[0m 4ms/step - loss: 0.0449 - r2_score: 0.8381 - val_loss: 0.0465 - val_r2_score: 0.8266 - learning_rate: 3.1250e-05\n",
            "Epoch 190/400\n",
            "\u001b[1m116/116\u001b[0m \u001b[32m━━━━━━━━━━━━━━━━━━━━\u001b[0m\u001b[37m\u001b[0m \u001b[1m0s\u001b[0m 4ms/step - loss: 0.0440 - r2_score: 0.8424 - val_loss: 0.0460 - val_r2_score: 0.8285 - learning_rate: 3.1250e-05\n",
            "Epoch 191/400\n",
            "\u001b[1m116/116\u001b[0m \u001b[32m━━━━━━━━━━━━━━━━━━━━\u001b[0m\u001b[37m\u001b[0m \u001b[1m0s\u001b[0m 4ms/step - loss: 0.0455 - r2_score: 0.8394 - val_loss: 0.0471 - val_r2_score: 0.8243 - learning_rate: 3.1250e-05\n",
            "Epoch 192/400\n",
            "\u001b[1m116/116\u001b[0m \u001b[32m━━━━━━━━━━━━━━━━━━━━\u001b[0m\u001b[37m\u001b[0m \u001b[1m0s\u001b[0m 4ms/step - loss: 0.0452 - r2_score: 0.8374 - val_loss: 0.0460 - val_r2_score: 0.8283 - learning_rate: 3.1250e-05\n",
            "Epoch 193/400\n",
            "\u001b[1m116/116\u001b[0m \u001b[32m━━━━━━━━━━━━━━━━━━━━\u001b[0m\u001b[37m\u001b[0m \u001b[1m0s\u001b[0m 4ms/step - loss: 0.0440 - r2_score: 0.8403 - val_loss: 0.0464 - val_r2_score: 0.8268 - learning_rate: 3.1250e-05\n",
            "Epoch 194/400\n",
            "\u001b[1m116/116\u001b[0m \u001b[32m━━━━━━━━━━━━━━━━━━━━\u001b[0m\u001b[37m\u001b[0m \u001b[1m0s\u001b[0m 4ms/step - loss: 0.0438 - r2_score: 0.8412 - val_loss: 0.0463 - val_r2_score: 0.8275 - learning_rate: 3.1250e-05\n",
            "Epoch 195/400\n",
            "\u001b[1m116/116\u001b[0m \u001b[32m━━━━━━━━━━━━━━━━━━━━\u001b[0m\u001b[37m\u001b[0m \u001b[1m0s\u001b[0m 4ms/step - loss: 0.0461 - r2_score: 0.8343 - val_loss: 0.0458 - val_r2_score: 0.8293 - learning_rate: 3.1250e-05\n",
            "Epoch 196/400\n",
            "\u001b[1m116/116\u001b[0m \u001b[32m━━━━━━━━━━━━━━━━━━━━\u001b[0m\u001b[37m\u001b[0m \u001b[1m0s\u001b[0m 4ms/step - loss: 0.0452 - r2_score: 0.8401 - val_loss: 0.0461 - val_r2_score: 0.8281 - learning_rate: 3.1250e-05\n",
            "Epoch 197/400\n",
            "\u001b[1m116/116\u001b[0m \u001b[32m━━━━━━━━━━━━━━━━━━━━\u001b[0m\u001b[37m\u001b[0m \u001b[1m0s\u001b[0m 4ms/step - loss: 0.0462 - r2_score: 0.8327 - val_loss: 0.0463 - val_r2_score: 0.8272 - learning_rate: 3.1250e-05\n",
            "Epoch 198/400\n",
            "\u001b[1m116/116\u001b[0m \u001b[32m━━━━━━━━━━━━━━━━━━━━\u001b[0m\u001b[37m\u001b[0m \u001b[1m0s\u001b[0m 4ms/step - loss: 0.0442 - r2_score: 0.8408 - val_loss: 0.0462 - val_r2_score: 0.8276 - learning_rate: 1.5625e-05\n",
            "Epoch 199/400\n",
            "\u001b[1m116/116\u001b[0m \u001b[32m━━━━━━━━━━━━━━━━━━━━\u001b[0m\u001b[37m\u001b[0m \u001b[1m0s\u001b[0m 4ms/step - loss: 0.0456 - r2_score: 0.8365 - val_loss: 0.0461 - val_r2_score: 0.8281 - learning_rate: 1.5625e-05\n",
            "Epoch 200/400\n",
            "\u001b[1m116/116\u001b[0m \u001b[32m━━━━━━━━━━━━━━━━━━━━\u001b[0m\u001b[37m\u001b[0m \u001b[1m0s\u001b[0m 4ms/step - loss: 0.0456 - r2_score: 0.8339 - val_loss: 0.0462 - val_r2_score: 0.8278 - learning_rate: 1.5625e-05\n",
            "Epoch 201/400\n",
            "\u001b[1m116/116\u001b[0m \u001b[32m━━━━━━━━━━━━━━━━━━━━\u001b[0m\u001b[37m\u001b[0m \u001b[1m0s\u001b[0m 4ms/step - loss: 0.0464 - r2_score: 0.8365 - val_loss: 0.0462 - val_r2_score: 0.8276 - learning_rate: 1.5625e-05\n",
            "Epoch 202/400\n",
            "\u001b[1m116/116\u001b[0m \u001b[32m━━━━━━━━━━━━━━━━━━━━\u001b[0m\u001b[37m\u001b[0m \u001b[1m0s\u001b[0m 4ms/step - loss: 0.0457 - r2_score: 0.8352 - val_loss: 0.0460 - val_r2_score: 0.8284 - learning_rate: 1.5625e-05\n",
            "Epoch 203/400\n",
            "\u001b[1m116/116\u001b[0m \u001b[32m━━━━━━━━━━━━━━━━━━━━\u001b[0m\u001b[37m\u001b[0m \u001b[1m0s\u001b[0m 4ms/step - loss: 0.0445 - r2_score: 0.8416 - val_loss: 0.0462 - val_r2_score: 0.8276 - learning_rate: 1.5625e-05\n",
            "Epoch 204/400\n",
            "\u001b[1m116/116\u001b[0m \u001b[32m━━━━━━━━━━━━━━━━━━━━\u001b[0m\u001b[37m\u001b[0m \u001b[1m0s\u001b[0m 4ms/step - loss: 0.0445 - r2_score: 0.8375 - val_loss: 0.0460 - val_r2_score: 0.8286 - learning_rate: 1.5625e-05\n",
            "Epoch 205/400\n",
            "\u001b[1m116/116\u001b[0m \u001b[32m━━━━━━━━━━━━━━━━━━━━\u001b[0m\u001b[37m\u001b[0m \u001b[1m0s\u001b[0m 4ms/step - loss: 0.0455 - r2_score: 0.8379 - val_loss: 0.0461 - val_r2_score: 0.8280 - learning_rate: 1.5625e-05\n",
            "Epoch 206/400\n",
            "\u001b[1m116/116\u001b[0m \u001b[32m━━━━━━━━━━━━━━━━━━━━\u001b[0m\u001b[37m\u001b[0m \u001b[1m0s\u001b[0m 4ms/step - loss: 0.0446 - r2_score: 0.8401 - val_loss: 0.0461 - val_r2_score: 0.8281 - learning_rate: 1.5625e-05\n",
            "Epoch 207/400\n",
            "\u001b[1m116/116\u001b[0m \u001b[32m━━━━━━━━━━━━━━━━━━━━\u001b[0m\u001b[37m\u001b[0m \u001b[1m0s\u001b[0m 4ms/step - loss: 0.0446 - r2_score: 0.8382 - val_loss: 0.0462 - val_r2_score: 0.8277 - learning_rate: 1.5625e-05\n",
            "Epoch 208/400\n",
            "\u001b[1m116/116\u001b[0m \u001b[32m━━━━━━━━━━━━━━━━━━━━\u001b[0m\u001b[37m\u001b[0m \u001b[1m0s\u001b[0m 4ms/step - loss: 0.0456 - r2_score: 0.8372 - val_loss: 0.0459 - val_r2_score: 0.8290 - learning_rate: 1.5625e-05\n",
            "Epoch 209/400\n",
            "\u001b[1m116/116\u001b[0m \u001b[32m━━━━━━━━━━━━━━━━━━━━\u001b[0m\u001b[37m\u001b[0m \u001b[1m0s\u001b[0m 4ms/step - loss: 0.0453 - r2_score: 0.8353 - val_loss: 0.0459 - val_r2_score: 0.8289 - learning_rate: 1.5625e-05\n",
            "Epoch 210/400\n",
            "\u001b[1m116/116\u001b[0m \u001b[32m━━━━━━━━━━━━━━━━━━━━\u001b[0m\u001b[37m\u001b[0m \u001b[1m0s\u001b[0m 4ms/step - loss: 0.0454 - r2_score: 0.8377 - val_loss: 0.0460 - val_r2_score: 0.8284 - learning_rate: 1.5625e-05\n",
            "Epoch 211/400\n",
            "\u001b[1m116/116\u001b[0m \u001b[32m━━━━━━━━━━━━━━━━━━━━\u001b[0m\u001b[37m\u001b[0m \u001b[1m0s\u001b[0m 4ms/step - loss: 0.0458 - r2_score: 0.8340 - val_loss: 0.0460 - val_r2_score: 0.8283 - learning_rate: 1.5625e-05\n",
            "Epoch 212/400\n",
            "\u001b[1m116/116\u001b[0m \u001b[32m━━━━━━━━━━━━━━━━━━━━\u001b[0m\u001b[37m\u001b[0m \u001b[1m0s\u001b[0m 4ms/step - loss: 0.0454 - r2_score: 0.8370 - val_loss: 0.0459 - val_r2_score: 0.8289 - learning_rate: 1.5625e-05\n",
            "Epoch 213/400\n",
            "\u001b[1m116/116\u001b[0m \u001b[32m━━━━━━━━━━━━━━━━━━━━\u001b[0m\u001b[37m\u001b[0m \u001b[1m0s\u001b[0m 4ms/step - loss: 0.0445 - r2_score: 0.8395 - val_loss: 0.0458 - val_r2_score: 0.8293 - learning_rate: 7.8125e-06\n",
            "Epoch 214/400\n",
            "\u001b[1m116/116\u001b[0m \u001b[32m━━━━━━━━━━━━━━━━━━━━\u001b[0m\u001b[37m\u001b[0m \u001b[1m0s\u001b[0m 4ms/step - loss: 0.0440 - r2_score: 0.8432 - val_loss: 0.0459 - val_r2_score: 0.8289 - learning_rate: 7.8125e-06\n",
            "Epoch 215/400\n",
            "\u001b[1m116/116\u001b[0m \u001b[32m━━━━━━━━━━━━━━━━━━━━\u001b[0m\u001b[37m\u001b[0m \u001b[1m0s\u001b[0m 4ms/step - loss: 0.0442 - r2_score: 0.8410 - val_loss: 0.0460 - val_r2_score: 0.8286 - learning_rate: 7.8125e-06\n",
            "Epoch 216/400\n",
            "\u001b[1m116/116\u001b[0m \u001b[32m━━━━━━━━━━━━━━━━━━━━\u001b[0m\u001b[37m\u001b[0m \u001b[1m0s\u001b[0m 4ms/step - loss: 0.0447 - r2_score: 0.8385 - val_loss: 0.0459 - val_r2_score: 0.8288 - learning_rate: 7.8125e-06\n",
            "Epoch 217/400\n",
            "\u001b[1m116/116\u001b[0m \u001b[32m━━━━━━━━━━━━━━━━━━━━\u001b[0m\u001b[37m\u001b[0m \u001b[1m0s\u001b[0m 4ms/step - loss: 0.0451 - r2_score: 0.8373 - val_loss: 0.0460 - val_r2_score: 0.8284 - learning_rate: 7.8125e-06\n",
            "\u001b[1m58/58\u001b[0m \u001b[32m━━━━━━━━━━━━━━━━━━━━\u001b[0m\u001b[37m\u001b[0m \u001b[1m1s\u001b[0m 6ms/step - loss: 0.0452 - r2_score: 0.8293\n"
          ]
        },
        {
          "output_type": "stream",
          "name": "stderr",
          "text": [
            "2025/01/24 19:40:09 WARNING mlflow.system_metrics.system_metrics_monitor: Failed to get mlflow run: API request to https://dagshub.com/matteogianferrari/homelens-ca.mlflow/api/2.0/mlflow/runs/get failed with exception HTTPSConnectionPool(host='dagshub.com', port=443): Max retries exceeded with url: /matteogianferrari/homelens-ca.mlflow/api/2.0/mlflow/runs/get?run_uuid=3b46673807a44bd18cdfc89d0f4b6b72&run_id=3b46673807a44bd18cdfc89d0f4b6b72 (Caused by ResponseError('too many 429 error responses')).\n",
            "WARNING:urllib3.connectionpool:Connection pool is full, discarding connection: dagshub.com. Connection pool size: 10\n"
          ]
        },
        {
          "output_type": "stream",
          "name": "stdout",
          "text": [
            "🏃 View run mysterious-stork-964 at: https://dagshub.com/matteogianferrari/homelens-ca.mlflow/#/experiments/0/runs/3b46673807a44bd18cdfc89d0f4b6b72\n",
            "🧪 View experiment at: https://dagshub.com/matteogianferrari/homelens-ca.mlflow/#/experiments/0\n"
          ]
        },
        {
          "output_type": "stream",
          "name": "stderr",
          "text": [
            "2025/01/24 19:43:05 INFO mlflow.system_metrics.system_metrics_monitor: Stopping system metrics monitoring...\n",
            "2025/01/24 19:43:05 INFO mlflow.system_metrics.system_metrics_monitor: Successfully terminated system metrics monitoring!\n"
          ]
        }
      ]
    }
  ]
}