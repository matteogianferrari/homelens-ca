{
  "nbformat": 4,
  "nbformat_minor": 0,
  "metadata": {
    "colab": {
      "provenance": [],
      "gpuType": "A100",
      "authorship_tag": "ABX9TyMggDxJpT0Gf18kjCZev6lE",
      "include_colab_link": true
    },
    "kernelspec": {
      "name": "python3",
      "display_name": "Python 3"
    },
    "language_info": {
      "name": "python"
    },
    "accelerator": "GPU",
    "widgets": {
      "application/vnd.jupyter.widget-state+json": {
        "502067eaccf44c6b802c99ffc0b83d4a": {
          "model_module": "@jupyter-widgets/output",
          "model_name": "OutputModel",
          "model_module_version": "1.0.0",
          "state": {
            "_dom_classes": [],
            "_model_module": "@jupyter-widgets/output",
            "_model_module_version": "1.0.0",
            "_model_name": "OutputModel",
            "_view_count": null,
            "_view_module": "@jupyter-widgets/output",
            "_view_module_version": "1.0.0",
            "_view_name": "OutputView",
            "layout": "IPY_MODEL_d7eed6a2bc4140dfa15a1b5caf5a47e2",
            "msg_id": "",
            "outputs": [
              {
                "output_type": "display_data",
                "data": {
                  "text/plain": "\u001b[32m⠋\u001b[0m Waiting for authorization\n",
                  "text/html": "<pre style=\"white-space:pre;overflow-x:auto;line-height:normal;font-family:Menlo,'DejaVu Sans Mono',consolas,'Courier New',monospace\"><span style=\"color: #008000; text-decoration-color: #008000\">⠋</span> Waiting for authorization\n</pre>\n"
                },
                "metadata": {}
              }
            ]
          }
        },
        "d7eed6a2bc4140dfa15a1b5caf5a47e2": {
          "model_module": "@jupyter-widgets/base",
          "model_name": "LayoutModel",
          "model_module_version": "1.2.0",
          "state": {
            "_model_module": "@jupyter-widgets/base",
            "_model_module_version": "1.2.0",
            "_model_name": "LayoutModel",
            "_view_count": null,
            "_view_module": "@jupyter-widgets/base",
            "_view_module_version": "1.2.0",
            "_view_name": "LayoutView",
            "align_content": null,
            "align_items": null,
            "align_self": null,
            "border": null,
            "bottom": null,
            "display": null,
            "flex": null,
            "flex_flow": null,
            "grid_area": null,
            "grid_auto_columns": null,
            "grid_auto_flow": null,
            "grid_auto_rows": null,
            "grid_column": null,
            "grid_gap": null,
            "grid_row": null,
            "grid_template_areas": null,
            "grid_template_columns": null,
            "grid_template_rows": null,
            "height": null,
            "justify_content": null,
            "justify_items": null,
            "left": null,
            "margin": null,
            "max_height": null,
            "max_width": null,
            "min_height": null,
            "min_width": null,
            "object_fit": null,
            "object_position": null,
            "order": null,
            "overflow": null,
            "overflow_x": null,
            "overflow_y": null,
            "padding": null,
            "right": null,
            "top": null,
            "visibility": null,
            "width": null
          }
        }
      }
    }
  },
  "cells": [
    {
      "cell_type": "markdown",
      "metadata": {
        "id": "view-in-github",
        "colab_type": "text"
      },
      "source": [
        "<a href=\"https://colab.research.google.com/github/matteogianferrari/homelens-ca/blob/main/model/notebooks/homelens_ca_research.ipynb\" target=\"_parent\"><img src=\"https://colab.research.google.com/assets/colab-badge.svg\" alt=\"Open In Colab\"/></a>"
      ]
    },
    {
      "cell_type": "markdown",
      "source": [
        "# **HomeLens CA DL Model Research**"
      ],
      "metadata": {
        "id": "bIDyq4523mkv"
      }
    },
    {
      "cell_type": "markdown",
      "source": [
        "# **Setup**\n"
      ],
      "metadata": {
        "id": "bjx48x_Z0QWz"
      }
    },
    {
      "cell_type": "markdown",
      "source": [
        "---\n",
        "**OS Environment Variables**"
      ],
      "metadata": {
        "id": "qzmvlJYKyl5v"
      }
    },
    {
      "cell_type": "code",
      "source": [
        "from google.colab import userdata\n",
        "import os\n",
        "\n",
        "# Sets environ variables for GitHub\n",
        "os.environ['GITHUB_TOKEN'] = userdata.get('GITHUB_TOKEN')\n",
        "os.environ['USER'] = userdata.get('USER')\n",
        "\n",
        "# Sets environ variables for MLFlow\n",
        "os.environ['MLFLOW_TRACKING_USERNAME'] = userdata.get('USER')\n",
        "os.environ['MLFLOW_TRACKING_PASSWORD'] = userdata.get('MLFLOW_TRACKING_PASSWORD')"
      ],
      "metadata": {
        "id": "6yOjWgaQyokK"
      },
      "execution_count": 1,
      "outputs": []
    },
    {
      "cell_type": "markdown",
      "source": [
        "---\n",
        "**Libraries Install**"
      ],
      "metadata": {
        "id": "n8utjnot0X7d"
      }
    },
    {
      "cell_type": "code",
      "source": [
        "!pip install dagshub mlflow pynvml --quiet"
      ],
      "metadata": {
        "id": "UtbttSVo0fzI",
        "colab": {
          "base_uri": "https://localhost:8080/"
        },
        "outputId": "c6c57985-4843-4b02-9e53-bbbade5964f7"
      },
      "execution_count": 2,
      "outputs": [
        {
          "output_type": "stream",
          "name": "stdout",
          "text": [
            "\u001b[2K   \u001b[90m━━━━━━━━━━━━━━━━━━━━━━━━━━━━━━━━━━━━━━━━\u001b[0m \u001b[32m258.2/258.2 kB\u001b[0m \u001b[31m21.6 MB/s\u001b[0m eta \u001b[36m0:00:00\u001b[0m\n",
            "\u001b[2K   \u001b[90m━━━━━━━━━━━━━━━━━━━━━━━━━━━━━━━━━━━━━━━━\u001b[0m \u001b[32m28.3/28.3 MB\u001b[0m \u001b[31m78.5 MB/s\u001b[0m eta \u001b[36m0:00:00\u001b[0m\n",
            "\u001b[2K   \u001b[90m━━━━━━━━━━━━━━━━━━━━━━━━━━━━━━━━━━━━━━━━\u001b[0m \u001b[32m6.0/6.0 MB\u001b[0m \u001b[31m84.3 MB/s\u001b[0m eta \u001b[36m0:00:00\u001b[0m\n",
            "\u001b[2K   \u001b[90m━━━━━━━━━━━━━━━━━━━━━━━━━━━━━━━━━━━━━━━━\u001b[0m \u001b[32m233.6/233.6 kB\u001b[0m \u001b[31m23.7 MB/s\u001b[0m eta \u001b[36m0:00:00\u001b[0m\n",
            "\u001b[2K   \u001b[90m━━━━━━━━━━━━━━━━━━━━━━━━━━━━━━━━━━━━━━━━\u001b[0m \u001b[32m147.8/147.8 kB\u001b[0m \u001b[31m15.2 MB/s\u001b[0m eta \u001b[36m0:00:00\u001b[0m\n",
            "\u001b[2K   \u001b[90m━━━━━━━━━━━━━━━━━━━━━━━━━━━━━━━━━━━━━━━━\u001b[0m \u001b[32m114.9/114.9 kB\u001b[0m \u001b[31m13.0 MB/s\u001b[0m eta \u001b[36m0:00:00\u001b[0m\n",
            "\u001b[2K   \u001b[90m━━━━━━━━━━━━━━━━━━━━━━━━━━━━━━━━━━━━━━━━\u001b[0m \u001b[32m85.0/85.0 kB\u001b[0m \u001b[31m9.5 MB/s\u001b[0m eta \u001b[36m0:00:00\u001b[0m\n",
            "\u001b[2K   \u001b[90m━━━━━━━━━━━━━━━━━━━━━━━━━━━━━━━━━━━━━━━━\u001b[0m \u001b[32m44.4/44.4 kB\u001b[0m \u001b[31m4.4 MB/s\u001b[0m eta \u001b[36m0:00:00\u001b[0m\n",
            "\u001b[2K   \u001b[90m━━━━━━━━━━━━━━━━━━━━━━━━━━━━━━━━━━━━━━━━\u001b[0m \u001b[32m139.2/139.2 kB\u001b[0m \u001b[31m14.9 MB/s\u001b[0m eta \u001b[36m0:00:00\u001b[0m\n",
            "\u001b[2K   \u001b[90m━━━━━━━━━━━━━━━━━━━━━━━━━━━━━━━━━━━━━━━━\u001b[0m \u001b[32m13.3/13.3 MB\u001b[0m \u001b[31m113.9 MB/s\u001b[0m eta \u001b[36m0:00:00\u001b[0m\n",
            "\u001b[2K   \u001b[90m━━━━━━━━━━━━━━━━━━━━━━━━━━━━━━━━━━━━━━━━\u001b[0m \u001b[32m643.8/643.8 kB\u001b[0m \u001b[31m50.9 MB/s\u001b[0m eta \u001b[36m0:00:00\u001b[0m\n",
            "\u001b[2K   \u001b[90m━━━━━━━━━━━━━━━━━━━━━━━━━━━━━━━━━━━━━━━━\u001b[0m \u001b[32m203.4/203.4 kB\u001b[0m \u001b[31m21.3 MB/s\u001b[0m eta \u001b[36m0:00:00\u001b[0m\n",
            "\u001b[2K   \u001b[90m━━━━━━━━━━━━━━━━━━━━━━━━━━━━━━━━━━━━━━━━\u001b[0m \u001b[32m50.8/50.8 kB\u001b[0m \u001b[31m5.0 MB/s\u001b[0m eta \u001b[36m0:00:00\u001b[0m\n",
            "\u001b[2K   \u001b[90m━━━━━━━━━━━━━━━━━━━━━━━━━━━━━━━━━━━━━━━━\u001b[0m \u001b[32m84.2/84.2 kB\u001b[0m \u001b[31m9.5 MB/s\u001b[0m eta \u001b[36m0:00:00\u001b[0m\n",
            "\u001b[2K   \u001b[90m━━━━━━━━━━━━━━━━━━━━━━━━━━━━━━━━━━━━━━━━\u001b[0m \u001b[32m74.0/74.0 kB\u001b[0m \u001b[31m7.2 MB/s\u001b[0m eta \u001b[36m0:00:00\u001b[0m\n",
            "\u001b[2K   \u001b[90m━━━━━━━━━━━━━━━━━━━━━━━━━━━━━━━━━━━━━━━━\u001b[0m \u001b[32m78.6/78.6 kB\u001b[0m \u001b[31m8.8 MB/s\u001b[0m eta \u001b[36m0:00:00\u001b[0m\n",
            "\u001b[?25h"
          ]
        }
      ]
    },
    {
      "cell_type": "markdown",
      "source": [
        "---\n",
        "**Libraries imports**"
      ],
      "metadata": {
        "id": "hbCQRwIm0nIS"
      }
    },
    {
      "cell_type": "code",
      "source": [
        "import tensorflow as tf\n",
        "\n",
        "import mlflow\n",
        "from mlflow.tracking import MlflowClient\n",
        "\n",
        "import dagshub\n",
        "\n",
        "import pandas as pd\n",
        "import numpy as np\n",
        "\n",
        "from sklearn.model_selection import train_test_split"
      ],
      "metadata": {
        "id": "YqlzA9ke0oT2"
      },
      "execution_count": 3,
      "outputs": []
    },
    {
      "cell_type": "markdown",
      "source": [
        "---\n",
        "**Dataset import**"
      ],
      "metadata": {
        "id": "f6oTXYvQ1Rfg"
      }
    },
    {
      "cell_type": "code",
      "source": [
        "# Clones the repo and changes dir\n",
        "!git clone https://${GITHUB_TOKEN}@github.com/${USER}/homelens-ca.git\n",
        "%cd homelens-ca/"
      ],
      "metadata": {
        "id": "H0ckjtX5e0FG",
        "colab": {
          "base_uri": "https://localhost:8080/"
        },
        "outputId": "820b92c7-9b61-4364-df52-b46dc3a02c26"
      },
      "execution_count": 4,
      "outputs": [
        {
          "output_type": "stream",
          "name": "stdout",
          "text": [
            "Cloning into 'homelens-ca'...\n",
            "remote: Enumerating objects: 205, done.\u001b[K\n",
            "remote: Counting objects: 100% (205/205), done.\u001b[K\n",
            "remote: Compressing objects: 100% (118/118), done.\u001b[K\n",
            "remote: Total 205 (delta 107), reused 158 (delta 68), pack-reused 0 (from 0)\u001b[K\n",
            "Receiving objects: 100% (205/205), 7.37 MiB | 17.47 MiB/s, done.\n",
            "Resolving deltas: 100% (107/107), done.\n",
            "/content/homelens-ca\n"
          ]
        }
      ]
    },
    {
      "cell_type": "code",
      "source": [
        "# Changes dir\n",
        "%cd model/data/dataset\n",
        "\n",
        "# Imports the dataset and the labels\n",
        "X = pd.read_csv('X.csv').to_numpy()\n",
        "y = pd.read_csv('y.csv').to_numpy()\n",
        "\n",
        "# Applies transformation to labels\n",
        "y = np.log1p(y)\n",
        "\n",
        "\n",
        "X_train, X_test, y_train, y_test = train_test_split(X, y, test_size=0.1, random_state=42)"
      ],
      "metadata": {
        "id": "AhVXUeNF1Q7p",
        "colab": {
          "base_uri": "https://localhost:8080/"
        },
        "outputId": "70e0db00-51df-4eb0-ab8e-72b5b0dc309e"
      },
      "execution_count": 5,
      "outputs": [
        {
          "output_type": "stream",
          "name": "stdout",
          "text": [
            "/content/homelens-ca/model/data/dataset\n"
          ]
        }
      ]
    },
    {
      "cell_type": "markdown",
      "source": [
        "---\n",
        "**DagsHub and MLFlow**"
      ],
      "metadata": {
        "id": "uGIZaSgz0y0r"
      }
    },
    {
      "cell_type": "code",
      "source": [
        "# Init DagsHub\n",
        "dagshub.init(repo_owner='matteogianferrari', repo_name='homelens-ca', mlflow=True)\n",
        "TRACKING_URI = \"https://dagshub.com/matteogianferrari/homelens-ca.mlflow\"\n",
        "\n",
        "# Sets MLFlow tracking URI\n",
        "mlflow.set_tracking_uri(TRACKING_URI)\n",
        "\n",
        "# Sets MLFLow experiment name\n",
        "experiment_name = \"HomeLens CA-DL Research\""
      ],
      "metadata": {
        "id": "h3MLzUJL0yGc",
        "colab": {
          "base_uri": "https://localhost:8080/",
          "height": 212,
          "referenced_widgets": [
            "502067eaccf44c6b802c99ffc0b83d4a",
            "d7eed6a2bc4140dfa15a1b5caf5a47e2"
          ]
        },
        "outputId": "b47ee87e-7901-47fe-bc98-6f50c74a1455"
      },
      "execution_count": 6,
      "outputs": [
        {
          "output_type": "display_data",
          "data": {
            "text/plain": [
              "                                       \u001b[1m❗❗❗ AUTHORIZATION REQUIRED ❗❗❗\u001b[0m                                        \n"
            ],
            "text/html": [
              "<pre style=\"white-space:pre;overflow-x:auto;line-height:normal;font-family:Menlo,'DejaVu Sans Mono',consolas,'Courier New',monospace\">                                       <span style=\"font-weight: bold\">❗❗❗ AUTHORIZATION REQUIRED ❗❗❗</span>                                        \n",
              "</pre>\n"
            ]
          },
          "metadata": {}
        },
        {
          "output_type": "stream",
          "name": "stdout",
          "text": [
            "\n",
            "\n",
            "Open the following link in your browser to authorize the client:\n",
            "https://dagshub.com/login/oauth/authorize?state=5d422daf-c1ac-4a0b-9418-945628657100&client_id=32b60ba385aa7cecf24046d8195a71c07dd345d9657977863b52e7748e0f0f28&middleman_request_id=c28f6634785b95a918299149c49ee67814f90068223245d76ebf7b807d8d441d\n",
            "\n",
            "\n"
          ]
        },
        {
          "output_type": "display_data",
          "data": {
            "text/plain": [
              "Output()"
            ],
            "application/vnd.jupyter.widget-view+json": {
              "version_major": 2,
              "version_minor": 0,
              "model_id": "502067eaccf44c6b802c99ffc0b83d4a"
            }
          },
          "metadata": {}
        },
        {
          "output_type": "display_data",
          "data": {
            "text/plain": [],
            "text/html": [
              "<pre style=\"white-space:pre;overflow-x:auto;line-height:normal;font-family:Menlo,'DejaVu Sans Mono',consolas,'Courier New',monospace\"></pre>\n"
            ]
          },
          "metadata": {}
        },
        {
          "output_type": "display_data",
          "data": {
            "text/plain": [
              "Accessing as matteogianferrari\n"
            ],
            "text/html": [
              "<pre style=\"white-space:pre;overflow-x:auto;line-height:normal;font-family:Menlo,'DejaVu Sans Mono',consolas,'Courier New',monospace\">Accessing as matteogianferrari\n",
              "</pre>\n"
            ]
          },
          "metadata": {}
        },
        {
          "output_type": "display_data",
          "data": {
            "text/plain": [
              "Initialized MLflow to track repo \u001b[32m\"matteogianferrari/homelens-ca\"\u001b[0m\n"
            ],
            "text/html": [
              "<pre style=\"white-space:pre;overflow-x:auto;line-height:normal;font-family:Menlo,'DejaVu Sans Mono',consolas,'Courier New',monospace\">Initialized MLflow to track repo <span style=\"color: #008000; text-decoration-color: #008000\">\"matteogianferrari/homelens-ca\"</span>\n",
              "</pre>\n"
            ]
          },
          "metadata": {}
        },
        {
          "output_type": "display_data",
          "data": {
            "text/plain": [
              "Repository matteogianferrari/homelens-ca initialized!\n"
            ],
            "text/html": [
              "<pre style=\"white-space:pre;overflow-x:auto;line-height:normal;font-family:Menlo,'DejaVu Sans Mono',consolas,'Courier New',monospace\">Repository matteogianferrari/homelens-ca initialized!\n",
              "</pre>\n"
            ]
          },
          "metadata": {}
        }
      ]
    },
    {
      "cell_type": "markdown",
      "source": [
        "# **Research and Training DL Models**"
      ],
      "metadata": {
        "id": "0QOwsFAH1LrH"
      }
    },
    {
      "cell_type": "markdown",
      "source": [
        "---\n",
        "**Model Hyperparameters**\n",
        "\n",
        "Defines the Hyperparameters for the model."
      ],
      "metadata": {
        "id": "hamxE4X-12RM"
      }
    },
    {
      "cell_type": "code",
      "source": [
        "epochs = 1000\n",
        "initial_learning_rate = 1e-3\n",
        "minimum_learning_rate = 1e-6\n",
        "patience_es=50\n",
        "patience_lr=15\n",
        "decaying_factor=0.6\n",
        "batch_size=128\n",
        "validation_slip=0.1\n",
        "loss_func='mse'"
      ],
      "metadata": {
        "id": "gWiinI6t157n"
      },
      "execution_count": 8,
      "outputs": []
    },
    {
      "cell_type": "markdown",
      "source": [
        "---\n",
        "**Training and Testing**"
      ],
      "metadata": {
        "id": "SNm4VGx816zo"
      }
    },
    {
      "cell_type": "code",
      "source": [
        "import pynvml\n",
        "from tensorflow.keras.regularizers import l2\n",
        "\n",
        "# Sets the MLFlow experiment\n",
        "mlflow.set_experiment(experiment_name)\n",
        "\n",
        "# Autolog\n",
        "mlflow.keras.autolog()\n",
        "\n",
        "\n",
        "\n",
        "def residual_block(x, dropout_rate=0.3, l2_reg=1e-4):\n",
        "    \"\"\"\n",
        "    Implements a residual block with the following series:\n",
        "      Dense(64) -> BN -> Dropout ->\n",
        "      Dense(32) -> BN -> Dropout ->\n",
        "      (Add shortcut) -> ReLU activation\n",
        "    \"\"\"\n",
        "    # Save the input for the residual (skip) connection.\n",
        "    shortcut = x\n",
        "\n",
        "    # First dense layer: 128 units.\n",
        "    x = tf.keras.layers.Dense(128, activation='relu', kernel_initializer='he_normal', kernel_regularizer=l2(l2_reg))(x)\n",
        "    x = tf.keras.layers.BatchNormalization()(x)\n",
        "    x = tf.keras.layers.Dropout(dropout_rate)(x)\n",
        "\n",
        "    # Second dense layer: 128 units.\n",
        "    x = tf.keras.layers.Dense(64, activation='relu', kernel_initializer='he_normal', kernel_regularizer=l2(l2_reg))(x)\n",
        "    x = tf.keras.layers.BatchNormalization()(x)\n",
        "    x = tf.keras.layers.Dropout(dropout_rate)(x)\n",
        "\n",
        "    if shortcut.shape[-1] != 64:\n",
        "        shortcut = tf.keras.layers.Dense(64, kernel_initializer='he_normal', kernel_regularizer=l2(l2_reg))(shortcut)\n",
        "\n",
        "    # Add the shortcut (residual connection) and apply a ReLU activation.\n",
        "    x = tf.keras.layers.Add()([x, shortcut])\n",
        "    x = tf.keras.layers.Activation('relu')(x)\n",
        "    return x\n",
        "\n",
        "# Define the input layer for 15 features.\n",
        "inputs = tf.keras.layers.Input(shape=(15,))\n",
        "\n",
        "# Apply the residual blocks.\n",
        "x = residual_block(inputs, dropout_rate=0.2)\n",
        "x = residual_block(x, dropout_rate=0.2)\n",
        "\n",
        "x = tf.keras.layers.Dense(64, activation='relu', kernel_initializer='he_normal', kernel_regularizer=l2(1e-4))(x)\n",
        "\n",
        "# Final output layer for regression.\n",
        "outputs = tf.keras.layers.Dense(1)(x)\n",
        "\n",
        "# Create and compile the model.\n",
        "model = tf.keras.Model(inputs=inputs, outputs=outputs)\n",
        "\n",
        "\n",
        "\n",
        "# Set up a decaying learning rate\n",
        "optimizer = tf.keras.optimizers.Adam(learning_rate=initial_learning_rate)\n",
        "\n",
        "# You can now compile your model using this optimizer\n",
        "model.compile(\n",
        "    optimizer=optimizer,\n",
        "    loss=loss_func,\n",
        "    metrics=['r2_score', 'mae']\n",
        ")\n",
        "\n",
        "# Creates an Early-Stopping callback\n",
        "es_callback = tf.keras.callbacks.EarlyStopping(\n",
        "    monitor='val_loss',\n",
        "    mode='min',\n",
        "    patience=patience_es,\n",
        "    restore_best_weights=True\n",
        ")\n",
        "\n",
        "lr_callback = tf.keras.callbacks.ReduceLROnPlateau(\n",
        "    monitor='val_loss',\n",
        "    factor=decaying_factor,\n",
        "    patience=patience_lr,\n",
        "    min_lr=minimum_learning_rate\n",
        ")\n",
        "\n",
        "\n",
        "# Train the model and log with MLFlow\n",
        "with mlflow.start_run(log_system_metrics=True):\n",
        "    mlflow.log_param(\"patience\", patience_es)\n",
        "    mlflow.log_param(\"lr_plateau_patience\", patience_lr)\n",
        "    mlflow.log_param(\"lr_plateau_decay_factor\", decaying_factor)\n",
        "    mlflow.log_param(\"loss_func\", loss_func)\n",
        "\n",
        "    history = model.fit(\n",
        "        X_train,\n",
        "        y_train,\n",
        "        batch_size=batch_size,\n",
        "        epochs=epochs,\n",
        "        validation_split=validation_slip,\n",
        "        callbacks=[es_callback, lr_callback]\n",
        "    )\n",
        "\n",
        "    # Test the model and log with MLFlow\n",
        "    test_loss, test_r2_score, test_mae = model.evaluate(X_test, y_test)\n",
        "    mlflow.log_metric(\"test_loss\", test_loss)\n",
        "    mlflow.log_metric(\"test_r2_score\", test_r2_score)\n",
        "    mlflow.log_metric(\"test_mae\", test_mae)"
      ],
      "metadata": {
        "id": "7SF1a7SQ1yRJ"
      },
      "execution_count": null,
      "outputs": []
    }
  ]
}