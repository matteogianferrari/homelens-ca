{
  "nbformat": 4,
  "nbformat_minor": 0,
  "metadata": {
    "colab": {
      "provenance": [],
      "gpuType": "A100",
      "authorship_tag": "ABX9TyOhoXGMVbXBl7tQo84BiF8t",
      "include_colab_link": true
    },
    "kernelspec": {
      "name": "python3",
      "display_name": "Python 3"
    },
    "language_info": {
      "name": "python"
    },
    "accelerator": "GPU"
  },
  "cells": [
    {
      "cell_type": "markdown",
      "metadata": {
        "id": "view-in-github",
        "colab_type": "text"
      },
      "source": [
        "<a href=\"https://colab.research.google.com/github/matteogianferrari/homelens-ca/blob/main/model/notebooks/homelens_ca_research.ipynb\" target=\"_parent\"><img src=\"https://colab.research.google.com/assets/colab-badge.svg\" alt=\"Open In Colab\"/></a>"
      ]
    },
    {
      "cell_type": "markdown",
      "source": [
        "# **HomeLens CA DL Model Research**"
      ],
      "metadata": {
        "id": "bIDyq4523mkv"
      }
    },
    {
      "cell_type": "markdown",
      "source": [
        "# **Setup**\n"
      ],
      "metadata": {
        "id": "bjx48x_Z0QWz"
      }
    },
    {
      "cell_type": "markdown",
      "source": [
        "---\n",
        "**OS Environment Variables**"
      ],
      "metadata": {
        "id": "qzmvlJYKyl5v"
      }
    },
    {
      "cell_type": "code",
      "source": [
        "from google.colab import userdata\n",
        "import os\n",
        "\n",
        "# Sets environ variables for GitHub\n",
        "os.environ['GITHUB_TOKEN'] = userdata.get('GITHUB_TOKEN')\n",
        "os.environ['USER'] = userdata.get('USER')\n",
        "\n",
        "# Sets environ variables for MLFlow\n",
        "os.environ['MLFLOW_TRACKING_USERNAME'] = userdata.get('USER')\n",
        "os.environ['MLFLOW_TRACKING_PASSWORD'] = userdata.get('MLFLOW_TRACKING_PASSWORD')"
      ],
      "metadata": {
        "id": "6yOjWgaQyokK"
      },
      "execution_count": null,
      "outputs": []
    },
    {
      "cell_type": "markdown",
      "source": [
        "---\n",
        "**Libraries Install**"
      ],
      "metadata": {
        "id": "n8utjnot0X7d"
      }
    },
    {
      "cell_type": "code",
      "source": [
        "!pip install dagshub mlflow pynvml --quiet"
      ],
      "metadata": {
        "id": "UtbttSVo0fzI"
      },
      "execution_count": null,
      "outputs": []
    },
    {
      "cell_type": "markdown",
      "source": [
        "---\n",
        "**Libraries imports**"
      ],
      "metadata": {
        "id": "hbCQRwIm0nIS"
      }
    },
    {
      "cell_type": "code",
      "source": [
        "import tensorflow as tf\n",
        "\n",
        "import mlflow\n",
        "from mlflow.tracking import MlflowClient\n",
        "\n",
        "import dagshub\n",
        "\n",
        "import pandas as pd\n",
        "import numpy as np\n",
        "\n",
        "from sklearn.model_selection import train_test_split"
      ],
      "metadata": {
        "id": "YqlzA9ke0oT2"
      },
      "execution_count": null,
      "outputs": []
    },
    {
      "cell_type": "markdown",
      "source": [
        "---\n",
        "**Dataset import**"
      ],
      "metadata": {
        "id": "f6oTXYvQ1Rfg"
      }
    },
    {
      "cell_type": "code",
      "source": [
        "# Clones the repo and changes dir\n",
        "!git clone https://${GITHUB_TOKEN}@github.com/${USER}/homelens-ca.git\n",
        "%cd homelens-ca/"
      ],
      "metadata": {
        "id": "H0ckjtX5e0FG"
      },
      "execution_count": null,
      "outputs": []
    },
    {
      "cell_type": "code",
      "source": [
        "# Changes dir\n",
        "%cd model/data/dataset\n",
        "\n",
        "# Imports the dataset and the labels\n",
        "X = pd.read_csv('X.csv').to_numpy()\n",
        "y = pd.read_csv('y.csv').to_numpy()\n",
        "\n",
        "# Applies transformation to labels\n",
        "y = np.log1p(y)\n",
        "\n",
        "\n",
        "X_train, X_test, y_train, y_test = train_test_split(X, y, test_size=0.1, random_state=42)"
      ],
      "metadata": {
        "id": "AhVXUeNF1Q7p"
      },
      "execution_count": null,
      "outputs": []
    },
    {
      "cell_type": "markdown",
      "source": [
        "---\n",
        "**DagsHub and MLFlow**"
      ],
      "metadata": {
        "id": "uGIZaSgz0y0r"
      }
    },
    {
      "cell_type": "code",
      "source": [
        "# Init DagsHub\n",
        "dagshub.init(repo_owner='matteogianferrari', repo_name='homelens-ca', mlflow=True)\n",
        "TRACKING_URI = \"https://dagshub.com/matteogianferrari/homelens-ca.mlflow\"\n",
        "\n",
        "# Sets MLFlow tracking URI\n",
        "mlflow.set_tracking_uri(TRACKING_URI)\n",
        "\n",
        "# Sets MLFLow experiment name\n",
        "experiment_name = \"HomeLens CA-DL Research\""
      ],
      "metadata": {
        "id": "h3MLzUJL0yGc"
      },
      "execution_count": null,
      "outputs": []
    },
    {
      "cell_type": "markdown",
      "source": [
        "# **Research and Training DL Models**"
      ],
      "metadata": {
        "id": "0QOwsFAH1LrH"
      }
    },
    {
      "cell_type": "markdown",
      "source": [
        "---\n",
        "**Model Hyperparameters**\n",
        "\n",
        "Defines the Hyperparameters for the model."
      ],
      "metadata": {
        "id": "hamxE4X-12RM"
      }
    },
    {
      "cell_type": "code",
      "source": [
        "epochs = 400\n",
        "initial_learning_rate = 1e-3\n",
        "minimum_learning_rate = 1e-8\n",
        "patience_es=50\n",
        "patience_lr=15\n",
        "decaying_factor=0.5\n",
        "batch_size=128\n",
        "validation_slip=0.1\n",
        "loss_func='mse'"
      ],
      "metadata": {
        "id": "gWiinI6t157n"
      },
      "execution_count": null,
      "outputs": []
    },
    {
      "cell_type": "markdown",
      "source": [
        "---\n",
        "**Training and Testing**"
      ],
      "metadata": {
        "id": "SNm4VGx816zo"
      }
    },
    {
      "cell_type": "code",
      "source": [
        "import pynvml\n",
        "\n",
        "# Sets the MLFlow experiment\n",
        "mlflow.set_experiment(experiment_name)\n",
        "\n",
        "# Autolog\n",
        "mlflow.keras.autolog()\n",
        "\n",
        "\n",
        "\n",
        "# Defines the model\n",
        "def build_dynamic_model(input_shape, n_repeats):\n",
        "    \"\"\"\n",
        "    Builds a neural network model using TensorFlow's Functional API with repeated blocks.\n",
        "\n",
        "    Args:\n",
        "        input_shape (tuple): Shape of the input data.\n",
        "        n_repeats (int): Number of times to repeat the block of layers.\n",
        "\n",
        "    Returns:\n",
        "        tf.keras.Model: A compiled Keras model.\n",
        "    \"\"\"\n",
        "    # Input layer\n",
        "    inputs = tf.keras.layers.Input(shape=input_shape)\n",
        "    x = inputs\n",
        "\n",
        "    # Define the repeated block\n",
        "    for _ in range(n_repeats):\n",
        "        x = tf.keras.layers.Dense(512, activation='relu', kernel_initializer='he_normal')(x)\n",
        "        x = tf.keras.layers.BatchNormalization()(x)\n",
        "        x = tf.keras.layers.Dropout(0.2)(x)\n",
        "\n",
        "        x = tf.keras.layers.Dense(256, activation='relu', kernel_initializer='he_normal')(x)\n",
        "        x = tf.keras.layers.BatchNormalization()(x)\n",
        "        x = tf.keras.layers.Dropout(0.2)(x)\n",
        "\n",
        "        x = tf.keras.layers.Dense(128, activation='relu', kernel_initializer='he_normal')(x)\n",
        "        x = tf.keras.layers.BatchNormalization()(x)\n",
        "        x = tf.keras.layers.Dropout(0.2)(x)\n",
        "\n",
        "    x = tf.keras.layers.Dense(64, activation='relu', kernel_initializer='he_normal')(x)\n",
        "    x = tf.keras.layers.BatchNormalization()(x)\n",
        "\n",
        "    # Output layer\n",
        "    outputs = tf.keras.layers.Dense(1)(x)\n",
        "\n",
        "    # Create the model\n",
        "    model = tf.keras.Model(inputs, outputs)\n",
        "    return model\n",
        "\n",
        "# Example usage\n",
        "n_repeats = 3\n",
        "input_shape = (15,)\n",
        "model = build_dynamic_model(input_shape, n_repeats)\n",
        "\n",
        "\n",
        "\n",
        "# Set up a decaying learning rate\n",
        "optimizer = tf.keras.optimizers.Adam(learning_rate=initial_learning_rate)\n",
        "\n",
        "# You can now compile your model using this optimizer\n",
        "model.compile(\n",
        "    optimizer=optimizer,\n",
        "    loss=loss_func,\n",
        "    metrics=['r2_score']\n",
        ")\n",
        "\n",
        "# Creates an Early-Stopping callback\n",
        "es_callback = tf.keras.callbacks.EarlyStopping(\n",
        "    monitor='val_r2_score',\n",
        "    mode='max',\n",
        "    patience=patience_es,\n",
        "    restore_best_weights=True\n",
        ")\n",
        "\n",
        "lr_callback = tf.keras.callbacks.ReduceLROnPlateau(\n",
        "    monitor='val_loss',\n",
        "    factor=decaying_factor,\n",
        "    patience=patience_lr,\n",
        "    min_lr=minimum_learning_rate\n",
        ")\n",
        "\n",
        "\n",
        "# Train the model and log with MLFlow\n",
        "with mlflow.start_run(log_system_metrics=True):\n",
        "    mlflow.log_param(\"patience\", patience_es)\n",
        "    mlflow.log_param(\"loss_func\", loss_func)\n",
        "\n",
        "    history = model.fit(\n",
        "        X_train,\n",
        "        y_train,\n",
        "        batch_size=batch_size,\n",
        "        epochs=epochs,\n",
        "        validation_split=validation_slip,\n",
        "        callbacks=[es_callback, lr_callback]\n",
        "    )\n",
        "\n",
        "    # Test the model and log with MLFlow\n",
        "    test_loss, test_r2_score = model.evaluate(X_test, y_test)\n",
        "    mlflow.log_metric(\"test_loss\", test_loss)\n",
        "    mlflow.log_metric(\"test_r2_score\", test_r2_score)"
      ],
      "metadata": {
        "id": "7SF1a7SQ1yRJ"
      },
      "execution_count": null,
      "outputs": []
    }
  ]
}